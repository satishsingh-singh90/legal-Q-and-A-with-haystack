{
  "cells": [
    {
      "cell_type": "code",
      "execution_count": null,
      "metadata": {
        "id": "iuzOqVMqIwHD"
      },
      "outputs": [],
      "source": []
    },
    {
      "cell_type": "code",
      "execution_count": null,
      "metadata": {
        "id": "qLxrLDIPIxHJ"
      },
      "outputs": [],
      "source": []
    },
    {
      "cell_type": "code",
      "execution_count": null,
      "metadata": {
        "colab": {
          "base_uri": "https://localhost:8080/"
        },
        "id": "4EHeNtyVIxKH",
        "outputId": "6eff7a57-4181-49f8-d6e1-901e76c1b964"
      },
      "outputs": [
        {
          "output_type": "stream",
          "name": "stdout",
          "text": [
            "Requirement already satisfied: pip in /usr/local/lib/python3.10/dist-packages (23.1.2)\n",
            "Collecting pip\n",
            "  Downloading pip-24.0-py3-none-any.whl (2.1 MB)\n",
            "     ━━━━━━━━━━━━━━━━━━━━━━━━━━━━━━━━━━━━━━━━ 2.1/2.1 MB 13.8 MB/s eta 0:00:00\n",
            "Installing collected packages: pip\n",
            "  Attempting uninstall: pip\n",
            "    Found existing installation: pip 23.1.2\n",
            "    Uninstalling pip-23.1.2:\n",
            "      Successfully uninstalled pip-23.1.2\n",
            "Successfully installed pip-24.0\n",
            "Collecting farm-haystack[colab,elasticsearch,inference,preprocessing]\n",
            "  Downloading farm_haystack-1.25.2-py3-none-any.whl.metadata (27 kB)\n",
            "Collecting boilerpy3 (from farm-haystack[colab,elasticsearch,inference,preprocessing])\n",
            "  Downloading boilerpy3-1.0.7-py3-none-any.whl.metadata (5.8 kB)\n",
            "Collecting events (from farm-haystack[colab,elasticsearch,inference,preprocessing])\n",
            "  Downloading Events-0.5-py3-none-any.whl.metadata (3.9 kB)\n",
            "Collecting httpx (from farm-haystack[colab,elasticsearch,inference,preprocessing])\n",
            "  Downloading httpx-0.27.0-py3-none-any.whl.metadata (7.2 kB)\n",
            "Requirement already satisfied: jsonschema in /usr/local/lib/python3.10/dist-packages (from farm-haystack[colab,elasticsearch,inference,preprocessing]) (4.19.2)\n",
            "Collecting lazy-imports==0.3.1 (from farm-haystack[colab,elasticsearch,inference,preprocessing])\n",
            "  Downloading lazy_imports-0.3.1-py3-none-any.whl.metadata (10 kB)\n",
            "Requirement already satisfied: more-itertools in /usr/local/lib/python3.10/dist-packages (from farm-haystack[colab,elasticsearch,inference,preprocessing]) (10.1.0)\n",
            "Requirement already satisfied: networkx in /usr/local/lib/python3.10/dist-packages (from farm-haystack[colab,elasticsearch,inference,preprocessing]) (3.2.1)\n",
            "Requirement already satisfied: pandas in /usr/local/lib/python3.10/dist-packages (from farm-haystack[colab,elasticsearch,inference,preprocessing]) (1.5.3)\n",
            "Requirement already satisfied: pillow in /usr/local/lib/python3.10/dist-packages (from farm-haystack[colab,elasticsearch,inference,preprocessing]) (9.4.0)\n",
            "Requirement already satisfied: platformdirs in /usr/local/lib/python3.10/dist-packages (from farm-haystack[colab,elasticsearch,inference,preprocessing]) (4.2.0)\n",
            "Collecting posthog (from farm-haystack[colab,elasticsearch,inference,preprocessing])\n",
            "  Downloading posthog-3.5.0-py2.py3-none-any.whl.metadata (2.0 kB)\n",
            "Collecting prompthub-py==4.0.0 (from farm-haystack[colab,elasticsearch,inference,preprocessing])\n",
            "  Downloading prompthub_py-4.0.0-py3-none-any.whl.metadata (2.2 kB)\n",
            "Collecting pydantic<2 (from farm-haystack[colab,elasticsearch,inference,preprocessing])\n",
            "  Downloading pydantic-1.10.15-cp310-cp310-manylinux_2_17_x86_64.manylinux2014_x86_64.whl.metadata (150 kB)\n",
            "     ━━━━━━━━━━━━━━━━━━━━━━━━━━━━━━━━━━━━━━━━ 150.6/150.6 kB 8.4 MB/s eta 0:00:00\n",
            "Collecting quantulum3 (from farm-haystack[colab,elasticsearch,inference,preprocessing])\n",
            "  Downloading quantulum3-0.9.0-py3-none-any.whl.metadata (14 kB)\n",
            "Collecting rank-bm25 (from farm-haystack[colab,elasticsearch,inference,preprocessing])\n",
            "  Downloading rank_bm25-0.2.2-py3-none-any.whl.metadata (3.2 kB)\n",
            "Requirement already satisfied: requests in /usr/local/lib/python3.10/dist-packages (from farm-haystack[colab,elasticsearch,inference,preprocessing]) (2.31.0)\n",
            "Collecting requests-cache<1.0.0 (from farm-haystack[colab,elasticsearch,inference,preprocessing])\n",
            "  Downloading requests_cache-0.9.8-py3-none-any.whl.metadata (8.7 kB)\n",
            "Collecting scikit-learn>=1.3.0 (from farm-haystack[colab,elasticsearch,inference,preprocessing])\n",
            "  Downloading scikit_learn-1.4.1.post1-cp310-cp310-manylinux_2_17_x86_64.manylinux2014_x86_64.whl.metadata (11 kB)\n",
            "Collecting sseclient-py (from farm-haystack[colab,elasticsearch,inference,preprocessing])\n",
            "  Downloading sseclient_py-1.8.0-py2.py3-none-any.whl.metadata (2.0 kB)\n",
            "Requirement already satisfied: tenacity in /usr/local/lib/python3.10/dist-packages (from farm-haystack[colab,elasticsearch,inference,preprocessing]) (8.2.3)\n",
            "Collecting tiktoken>=0.5.1 (from farm-haystack[colab,elasticsearch,inference,preprocessing])\n",
            "  Downloading tiktoken-0.6.0-cp310-cp310-manylinux_2_17_x86_64.manylinux2014_x86_64.whl.metadata (6.6 kB)\n",
            "Requirement already satisfied: tqdm in /usr/local/lib/python3.10/dist-packages (from farm-haystack[colab,elasticsearch,inference,preprocessing]) (4.66.2)\n",
            "Collecting transformers==4.37.2 (from farm-haystack[colab,elasticsearch,inference,preprocessing])\n",
            "  Downloading transformers-4.37.2-py3-none-any.whl.metadata (129 kB)\n",
            "     ━━━━━━━━━━━━━━━━━━━━━━━━━━━━━━━━━━━━━━━━ 129.4/129.4 kB 9.2 MB/s eta 0:00:00\n",
            "Collecting pillow (from farm-haystack[colab,elasticsearch,inference,preprocessing])\n",
            "  Downloading Pillow-9.0.0-cp310-cp310-manylinux_2_17_x86_64.manylinux2014_x86_64.whl.metadata (7.6 kB)\n",
            "Collecting langdetect (from farm-haystack[colab,elasticsearch,inference,preprocessing])\n",
            "  Downloading langdetect-1.0.9.tar.gz (981 kB)\n",
            "     ━━━━━━━━━━━━━━━━━━━━━━━━━━━━━━━━━━━━━━━━ 981.5/981.5 kB 48.8 MB/s eta 0:00:00\n",
            "  Preparing metadata (setup.py): started\n",
            "  Preparing metadata (setup.py): finished with status 'done'\n",
            "Requirement already satisfied: nltk in /usr/local/lib/python3.10/dist-packages (from farm-haystack[colab,elasticsearch,inference,preprocessing]) (3.8.1)\n",
            "Requirement already satisfied: huggingface-hub>=0.5.0 in /usr/local/lib/python3.10/dist-packages (from farm-haystack[colab,elasticsearch,inference,preprocessing]) (0.20.3)\n",
            "Collecting sentence-transformers>=2.2.0 (from farm-haystack[colab,elasticsearch,inference,preprocessing])\n",
            "  Downloading sentence_transformers-2.6.1-py3-none-any.whl.metadata (11 kB)\n",
            "Requirement already satisfied: pyyaml<7.0,>=6.0 in /usr/local/lib/python3.10/dist-packages (from prompthub-py==4.0.0->farm-haystack[colab,elasticsearch,inference,preprocessing]) (6.0.1)\n",
            "Requirement already satisfied: filelock in /usr/local/lib/python3.10/dist-packages (from transformers==4.37.2->farm-haystack[colab,elasticsearch,inference,preprocessing]) (3.13.3)\n",
            "Requirement already satisfied: numpy>=1.17 in /usr/local/lib/python3.10/dist-packages (from transformers==4.37.2->farm-haystack[colab,elasticsearch,inference,preprocessing]) (1.25.2)\n",
            "Requirement already satisfied: packaging>=20.0 in /usr/local/lib/python3.10/dist-packages (from transformers==4.37.2->farm-haystack[colab,elasticsearch,inference,preprocessing]) (24.0)\n",
            "Requirement already satisfied: regex!=2019.12.17 in /usr/local/lib/python3.10/dist-packages (from transformers==4.37.2->farm-haystack[colab,elasticsearch,inference,preprocessing]) (2023.12.25)\n",
            "Requirement already satisfied: tokenizers<0.19,>=0.14 in /usr/local/lib/python3.10/dist-packages (from transformers==4.37.2->farm-haystack[colab,elasticsearch,inference,preprocessing]) (0.15.2)\n",
            "Requirement already satisfied: safetensors>=0.4.1 in /usr/local/lib/python3.10/dist-packages (from transformers==4.37.2->farm-haystack[colab,elasticsearch,inference,preprocessing]) (0.4.2)\n",
            "Requirement already satisfied: torch!=1.12.0,>=1.11 in /usr/local/lib/python3.10/dist-packages (from transformers[sentencepiece,torch]==4.37.2; extra == \"inference\"->farm-haystack[colab,elasticsearch,inference,preprocessing]) (2.2.1+cu121)\n",
            "Collecting accelerate>=0.21.0 (from transformers[sentencepiece,torch]==4.37.2; extra == \"inference\"->farm-haystack[colab,elasticsearch,inference,preprocessing])\n",
            "  Downloading accelerate-0.29.1-py3-none-any.whl.metadata (18 kB)\n",
            "Requirement already satisfied: sentencepiece!=0.1.92,>=0.1.91 in /usr/local/lib/python3.10/dist-packages (from transformers[sentencepiece,torch]==4.37.2; extra == \"inference\"->farm-haystack[colab,elasticsearch,inference,preprocessing]) (0.1.99)\n",
            "Requirement already satisfied: protobuf in /usr/local/lib/python3.10/dist-packages (from transformers[sentencepiece,torch]==4.37.2; extra == \"inference\"->farm-haystack[colab,elasticsearch,inference,preprocessing]) (3.20.3)\n",
            "Requirement already satisfied: fsspec>=2023.5.0 in /usr/local/lib/python3.10/dist-packages (from huggingface-hub>=0.5.0->farm-haystack[colab,elasticsearch,inference,preprocessing]) (2023.6.0)\n",
            "Requirement already satisfied: typing-extensions>=3.7.4.3 in /usr/local/lib/python3.10/dist-packages (from huggingface-hub>=0.5.0->farm-haystack[colab,elasticsearch,inference,preprocessing]) (4.10.0)\n",
            "Requirement already satisfied: charset-normalizer<4,>=2 in /usr/local/lib/python3.10/dist-packages (from requests->farm-haystack[colab,elasticsearch,inference,preprocessing]) (3.3.2)\n",
            "Requirement already satisfied: idna<4,>=2.5 in /usr/local/lib/python3.10/dist-packages (from requests->farm-haystack[colab,elasticsearch,inference,preprocessing]) (3.6)\n",
            "Requirement already satisfied: urllib3<3,>=1.21.1 in /usr/local/lib/python3.10/dist-packages (from requests->farm-haystack[colab,elasticsearch,inference,preprocessing]) (2.0.7)\n",
            "Requirement already satisfied: certifi>=2017.4.17 in /usr/local/lib/python3.10/dist-packages (from requests->farm-haystack[colab,elasticsearch,inference,preprocessing]) (2024.2.2)\n",
            "Requirement already satisfied: appdirs>=1.4.4 in /usr/local/lib/python3.10/dist-packages (from requests-cache<1.0.0->farm-haystack[colab,elasticsearch,inference,preprocessing]) (1.4.4)\n",
            "Requirement already satisfied: attrs>=21.2 in /usr/local/lib/python3.10/dist-packages (from requests-cache<1.0.0->farm-haystack[colab,elasticsearch,inference,preprocessing]) (23.2.0)\n",
            "Collecting cattrs>=22.2 (from requests-cache<1.0.0->farm-haystack[colab,elasticsearch,inference,preprocessing])\n",
            "  Downloading cattrs-23.2.3-py3-none-any.whl.metadata (10 kB)\n",
            "Collecting url-normalize>=1.4 (from requests-cache<1.0.0->farm-haystack[colab,elasticsearch,inference,preprocessing])\n",
            "  Downloading url_normalize-1.4.3-py2.py3-none-any.whl.metadata (3.1 kB)\n",
            "Requirement already satisfied: scipy>=1.6.0 in /usr/local/lib/python3.10/dist-packages (from scikit-learn>=1.3.0->farm-haystack[colab,elasticsearch,inference,preprocessing]) (1.11.4)\n",
            "Requirement already satisfied: joblib>=1.2.0 in /usr/local/lib/python3.10/dist-packages (from scikit-learn>=1.3.0->farm-haystack[colab,elasticsearch,inference,preprocessing]) (1.3.2)\n",
            "Requirement already satisfied: threadpoolctl>=2.0.0 in /usr/local/lib/python3.10/dist-packages (from scikit-learn>=1.3.0->farm-haystack[colab,elasticsearch,inference,preprocessing]) (3.4.0)\n",
            "Collecting elastic-transport<8 (from farm-haystack[colab,elasticsearch,inference,preprocessing])\n",
            "  Downloading elastic_transport-7.16.0-py2.py3-none-any.whl.metadata (8.1 kB)\n",
            "Collecting elasticsearch<8,>=7.17 (from farm-haystack[colab,elasticsearch,inference,preprocessing])\n",
            "  Downloading elasticsearch-7.17.9-py2.py3-none-any.whl.metadata (5.7 kB)\n",
            "Requirement already satisfied: anyio in /usr/local/lib/python3.10/dist-packages (from httpx->farm-haystack[colab,elasticsearch,inference,preprocessing]) (3.7.1)\n",
            "Collecting httpcore==1.* (from httpx->farm-haystack[colab,elasticsearch,inference,preprocessing])\n",
            "  Downloading httpcore-1.0.5-py3-none-any.whl.metadata (20 kB)\n",
            "Requirement already satisfied: sniffio in /usr/local/lib/python3.10/dist-packages (from httpx->farm-haystack[colab,elasticsearch,inference,preprocessing]) (1.3.1)\n",
            "Collecting h11<0.15,>=0.13 (from httpcore==1.*->httpx->farm-haystack[colab,elasticsearch,inference,preprocessing])\n",
            "  Downloading h11-0.14.0-py3-none-any.whl.metadata (8.2 kB)\n",
            "Requirement already satisfied: jsonschema-specifications>=2023.03.6 in /usr/local/lib/python3.10/dist-packages (from jsonschema->farm-haystack[colab,elasticsearch,inference,preprocessing]) (2023.12.1)\n",
            "Requirement already satisfied: referencing>=0.28.4 in /usr/local/lib/python3.10/dist-packages (from jsonschema->farm-haystack[colab,elasticsearch,inference,preprocessing]) (0.34.0)\n",
            "Requirement already satisfied: rpds-py>=0.7.1 in /usr/local/lib/python3.10/dist-packages (from jsonschema->farm-haystack[colab,elasticsearch,inference,preprocessing]) (0.18.0)\n",
            "Requirement already satisfied: six in /usr/local/lib/python3.10/dist-packages (from langdetect->farm-haystack[colab,elasticsearch,inference,preprocessing]) (1.16.0)\n",
            "Requirement already satisfied: click in /usr/local/lib/python3.10/dist-packages (from nltk->farm-haystack[colab,elasticsearch,inference,preprocessing]) (8.1.7)\n",
            "Requirement already satisfied: python-dateutil>=2.8.1 in /usr/local/lib/python3.10/dist-packages (from pandas->farm-haystack[colab,elasticsearch,inference,preprocessing]) (2.8.2)\n",
            "Requirement already satisfied: pytz>=2020.1 in /usr/local/lib/python3.10/dist-packages (from pandas->farm-haystack[colab,elasticsearch,inference,preprocessing]) (2023.4)\n",
            "Collecting monotonic>=1.5 (from posthog->farm-haystack[colab,elasticsearch,inference,preprocessing])\n",
            "  Downloading monotonic-1.6-py2.py3-none-any.whl.metadata (1.5 kB)\n",
            "Collecting backoff>=1.10.0 (from posthog->farm-haystack[colab,elasticsearch,inference,preprocessing])\n",
            "  Downloading backoff-2.2.1-py3-none-any.whl.metadata (14 kB)\n",
            "Requirement already satisfied: inflect in /usr/local/lib/python3.10/dist-packages (from quantulum3->farm-haystack[colab,elasticsearch,inference,preprocessing]) (7.0.0)\n",
            "Collecting num2words (from quantulum3->farm-haystack[colab,elasticsearch,inference,preprocessing])\n",
            "  Downloading num2words-0.5.13-py3-none-any.whl.metadata (12 kB)\n",
            "Requirement already satisfied: psutil in /usr/local/lib/python3.10/dist-packages (from accelerate>=0.21.0->transformers[sentencepiece,torch]==4.37.2; extra == \"inference\"->farm-haystack[colab,elasticsearch,inference,preprocessing]) (5.9.5)\n",
            "Requirement already satisfied: exceptiongroup>=1.1.1 in /usr/local/lib/python3.10/dist-packages (from cattrs>=22.2->requests-cache<1.0.0->farm-haystack[colab,elasticsearch,inference,preprocessing]) (1.2.0)\n",
            "Collecting urllib3<3,>=1.21.1 (from requests->farm-haystack[colab,elasticsearch,inference,preprocessing])\n",
            "  Downloading urllib3-1.26.18-py2.py3-none-any.whl.metadata (48 kB)\n",
            "     ━━━━━━━━━━━━━━━━━━━━━━━━━━━━━━━━━━━━━━━━ 48.9/48.9 kB 3.3 MB/s eta 0:00:00\n",
            "Requirement already satisfied: sympy in /usr/local/lib/python3.10/dist-packages (from torch!=1.12.0,>=1.11->transformers[sentencepiece,torch]==4.37.2; extra == \"inference\"->farm-haystack[colab,elasticsearch,inference,preprocessing]) (1.12)\n",
            "Requirement already satisfied: jinja2 in /usr/local/lib/python3.10/dist-packages (from torch!=1.12.0,>=1.11->transformers[sentencepiece,torch]==4.37.2; extra == \"inference\"->farm-haystack[colab,elasticsearch,inference,preprocessing]) (3.1.3)\n",
            "Collecting nvidia-cuda-nvrtc-cu12==12.1.105 (from torch!=1.12.0,>=1.11->transformers[sentencepiece,torch]==4.37.2; extra == \"inference\"->farm-haystack[colab,elasticsearch,inference,preprocessing])\n",
            "  Downloading nvidia_cuda_nvrtc_cu12-12.1.105-py3-none-manylinux1_x86_64.whl.metadata (1.5 kB)\n",
            "Collecting nvidia-cuda-runtime-cu12==12.1.105 (from torch!=1.12.0,>=1.11->transformers[sentencepiece,torch]==4.37.2; extra == \"inference\"->farm-haystack[colab,elasticsearch,inference,preprocessing])\n",
            "  Downloading nvidia_cuda_runtime_cu12-12.1.105-py3-none-manylinux1_x86_64.whl.metadata (1.5 kB)\n",
            "Collecting nvidia-cuda-cupti-cu12==12.1.105 (from torch!=1.12.0,>=1.11->transformers[sentencepiece,torch]==4.37.2; extra == \"inference\"->farm-haystack[colab,elasticsearch,inference,preprocessing])\n",
            "  Downloading nvidia_cuda_cupti_cu12-12.1.105-py3-none-manylinux1_x86_64.whl.metadata (1.6 kB)\n",
            "Collecting nvidia-cudnn-cu12==8.9.2.26 (from torch!=1.12.0,>=1.11->transformers[sentencepiece,torch]==4.37.2; extra == \"inference\"->farm-haystack[colab,elasticsearch,inference,preprocessing])\n",
            "  Downloading nvidia_cudnn_cu12-8.9.2.26-py3-none-manylinux1_x86_64.whl.metadata (1.6 kB)\n",
            "Collecting nvidia-cublas-cu12==12.1.3.1 (from torch!=1.12.0,>=1.11->transformers[sentencepiece,torch]==4.37.2; extra == \"inference\"->farm-haystack[colab,elasticsearch,inference,preprocessing])\n",
            "  Downloading nvidia_cublas_cu12-12.1.3.1-py3-none-manylinux1_x86_64.whl.metadata (1.5 kB)\n",
            "Collecting nvidia-cufft-cu12==11.0.2.54 (from torch!=1.12.0,>=1.11->transformers[sentencepiece,torch]==4.37.2; extra == \"inference\"->farm-haystack[colab,elasticsearch,inference,preprocessing])\n",
            "  Downloading nvidia_cufft_cu12-11.0.2.54-py3-none-manylinux1_x86_64.whl.metadata (1.5 kB)\n",
            "Collecting nvidia-curand-cu12==10.3.2.106 (from torch!=1.12.0,>=1.11->transformers[sentencepiece,torch]==4.37.2; extra == \"inference\"->farm-haystack[colab,elasticsearch,inference,preprocessing])\n",
            "  Downloading nvidia_curand_cu12-10.3.2.106-py3-none-manylinux1_x86_64.whl.metadata (1.5 kB)\n",
            "Collecting nvidia-cusolver-cu12==11.4.5.107 (from torch!=1.12.0,>=1.11->transformers[sentencepiece,torch]==4.37.2; extra == \"inference\"->farm-haystack[colab,elasticsearch,inference,preprocessing])\n",
            "  Downloading nvidia_cusolver_cu12-11.4.5.107-py3-none-manylinux1_x86_64.whl.metadata (1.6 kB)\n",
            "Collecting nvidia-cusparse-cu12==12.1.0.106 (from torch!=1.12.0,>=1.11->transformers[sentencepiece,torch]==4.37.2; extra == \"inference\"->farm-haystack[colab,elasticsearch,inference,preprocessing])\n",
            "  Downloading nvidia_cusparse_cu12-12.1.0.106-py3-none-manylinux1_x86_64.whl.metadata (1.6 kB)\n",
            "Collecting nvidia-nccl-cu12==2.19.3 (from torch!=1.12.0,>=1.11->transformers[sentencepiece,torch]==4.37.2; extra == \"inference\"->farm-haystack[colab,elasticsearch,inference,preprocessing])\n",
            "  Downloading nvidia_nccl_cu12-2.19.3-py3-none-manylinux1_x86_64.whl.metadata (1.8 kB)\n",
            "Collecting nvidia-nvtx-cu12==12.1.105 (from torch!=1.12.0,>=1.11->transformers[sentencepiece,torch]==4.37.2; extra == \"inference\"->farm-haystack[colab,elasticsearch,inference,preprocessing])\n",
            "  Downloading nvidia_nvtx_cu12-12.1.105-py3-none-manylinux1_x86_64.whl.metadata (1.7 kB)\n",
            "Requirement already satisfied: triton==2.2.0 in /usr/local/lib/python3.10/dist-packages (from torch!=1.12.0,>=1.11->transformers[sentencepiece,torch]==4.37.2; extra == \"inference\"->farm-haystack[colab,elasticsearch,inference,preprocessing]) (2.2.0)\n",
            "Collecting nvidia-nvjitlink-cu12 (from nvidia-cusolver-cu12==11.4.5.107->torch!=1.12.0,>=1.11->transformers[sentencepiece,torch]==4.37.2; extra == \"inference\"->farm-haystack[colab,elasticsearch,inference,preprocessing])\n",
            "  Downloading nvidia_nvjitlink_cu12-12.4.127-py3-none-manylinux2014_x86_64.whl.metadata (1.5 kB)\n",
            "Collecting docopt>=0.6.2 (from num2words->quantulum3->farm-haystack[colab,elasticsearch,inference,preprocessing])\n",
            "  Downloading docopt-0.6.2.tar.gz (25 kB)\n",
            "  Preparing metadata (setup.py): started\n",
            "  Preparing metadata (setup.py): finished with status 'done'\n",
            "Requirement already satisfied: MarkupSafe>=2.0 in /usr/local/lib/python3.10/dist-packages (from jinja2->torch!=1.12.0,>=1.11->transformers[sentencepiece,torch]==4.37.2; extra == \"inference\"->farm-haystack[colab,elasticsearch,inference,preprocessing]) (2.1.5)\n",
            "Requirement already satisfied: mpmath>=0.19 in /usr/local/lib/python3.10/dist-packages (from sympy->torch!=1.12.0,>=1.11->transformers[sentencepiece,torch]==4.37.2; extra == \"inference\"->farm-haystack[colab,elasticsearch,inference,preprocessing]) (1.3.0)\n",
            "Downloading lazy_imports-0.3.1-py3-none-any.whl (12 kB)\n",
            "Downloading prompthub_py-4.0.0-py3-none-any.whl (6.9 kB)\n",
            "Downloading transformers-4.37.2-py3-none-any.whl (8.4 MB)\n",
            "   ━━━━━━━━━━━━━━━━━━━━━━━━━━━━━━━━━━━━━━━━ 8.4/8.4 MB 95.1 MB/s eta 0:00:00\n",
            "Downloading Pillow-9.0.0-cp310-cp310-manylinux_2_17_x86_64.manylinux2014_x86_64.whl (4.3 MB)\n",
            "   ━━━━━━━━━━━━━━━━━━━━━━━━━━━━━━━━━━━━━━━━ 4.3/4.3 MB 83.8 MB/s eta 0:00:00\n",
            "Downloading pydantic-1.10.15-cp310-cp310-manylinux_2_17_x86_64.manylinux2014_x86_64.whl (3.1 MB)\n",
            "   ━━━━━━━━━━━━━━━━━━━━━━━━━━━━━━━━━━━━━━━━ 3.1/3.1 MB 75.2 MB/s eta 0:00:00\n",
            "Downloading requests_cache-0.9.8-py3-none-any.whl (48 kB)\n",
            "   ━━━━━━━━━━━━━━━━━━━━━━━━━━━━━━━━━━━━━━━━ 48.7/48.7 kB 3.6 MB/s eta 0:00:00\n",
            "Downloading scikit_learn-1.4.1.post1-cp310-cp310-manylinux_2_17_x86_64.manylinux2014_x86_64.whl (12.1 MB)\n",
            "   ━━━━━━━━━━━━━━━━━━━━━━━━━━━━━━━━━━━━━━━━ 12.1/12.1 MB 92.8 MB/s eta 0:00:00\n",
            "Downloading sentence_transformers-2.6.1-py3-none-any.whl (163 kB)\n",
            "   ━━━━━━━━━━━━━━━━━━━━━━━━━━━━━━━━━━━━━━━━ 163.3/163.3 kB 11.9 MB/s eta 0:00:00\n",
            "Downloading tiktoken-0.6.0-cp310-cp310-manylinux_2_17_x86_64.manylinux2014_x86_64.whl (1.8 MB)\n",
            "   ━━━━━━━━━━━━━━━━━━━━━━━━━━━━━━━━━━━━━━━━ 1.8/1.8 MB 58.8 MB/s eta 0:00:00\n",
            "Downloading boilerpy3-1.0.7-py3-none-any.whl (22 kB)\n",
            "Downloading Events-0.5-py3-none-any.whl (6.8 kB)\n",
            "Downloading farm_haystack-1.25.2-py3-none-any.whl (768 kB)\n",
            "   ━━━━━━━━━━━━━━━━━━━━━━━━━━━━━━━━━━━━━━━━ 768.8/768.8 kB 38.7 MB/s eta 0:00:00\n",
            "Downloading httpx-0.27.0-py3-none-any.whl (75 kB)\n",
            "   ━━━━━━━━━━━━━━━━━━━━━━━━━━━━━━━━━━━━━━━━ 75.6/75.6 kB 4.1 MB/s eta 0:00:00\n",
            "Downloading httpcore-1.0.5-py3-none-any.whl (77 kB)\n",
            "   ━━━━━━━━━━━━━━━━━━━━━━━━━━━━━━━━━━━━━━━━ 77.9/77.9 kB 4.6 MB/s eta 0:00:00\n",
            "Downloading posthog-3.5.0-py2.py3-none-any.whl (41 kB)\n",
            "   ━━━━━━━━━━━━━━━━━━━━━━━━━━━━━━━━━━━━━━━━ 41.3/41.3 kB 2.7 MB/s eta 0:00:00\n",
            "Downloading quantulum3-0.9.0-py3-none-any.whl (10.7 MB)\n",
            "   ━━━━━━━━━━━━━━━━━━━━━━━━━━━━━━━━━━━━━━━━ 10.7/10.7 MB 80.8 MB/s eta 0:00:00\n",
            "Downloading rank_bm25-0.2.2-py3-none-any.whl (8.6 kB)\n",
            "Downloading sseclient_py-1.8.0-py2.py3-none-any.whl (8.8 kB)\n",
            "Downloading accelerate-0.29.1-py3-none-any.whl (297 kB)\n",
            "   ━━━━━━━━━━━━━━━━━━━━━━━━━━━━━━━━━━━━━━━━ 297.3/297.3 kB 19.3 MB/s eta 0:00:00\n",
            "Downloading backoff-2.2.1-py3-none-any.whl (15 kB)\n",
            "Downloading cattrs-23.2.3-py3-none-any.whl (57 kB)\n",
            "   ━━━━━━━━━━━━━━━━━━━━━━━━━━━━━━━━━━━━━━━━ 57.5/57.5 kB 3.4 MB/s eta 0:00:00\n",
            "Downloading elastic_transport-7.16.0-py2.py3-none-any.whl (35 kB)\n",
            "Downloading elasticsearch-7.17.9-py2.py3-none-any.whl (385 kB)\n",
            "   ━━━━━━━━━━━━━━━━━━━━━━━━━━━━━━━━━━━━━━━━ 386.0/386.0 kB 24.3 MB/s eta 0:00:00\n",
            "Downloading monotonic-1.6-py2.py3-none-any.whl (8.2 kB)\n",
            "Downloading nvidia_cublas_cu12-12.1.3.1-py3-none-manylinux1_x86_64.whl (410.6 MB)\n",
            "   ━━━━━━━━━━━━━━━━━━━━━━━━━━━━━━━━━━━━━━━━ 410.6/410.6 MB 2.4 MB/s eta 0:00:00\n",
            "Downloading nvidia_cuda_cupti_cu12-12.1.105-py3-none-manylinux1_x86_64.whl (14.1 MB)\n",
            "   ━━━━━━━━━━━━━━━━━━━━━━━━━━━━━━━━━━━━━━━━ 14.1/14.1 MB 66.1 MB/s eta 0:00:00\n",
            "Downloading nvidia_cuda_nvrtc_cu12-12.1.105-py3-none-manylinux1_x86_64.whl (23.7 MB)\n",
            "   ━━━━━━━━━━━━━━━━━━━━━━━━━━━━━━━━━━━━━━━━ 23.7/23.7 MB 56.5 MB/s eta 0:00:00\n",
            "Downloading nvidia_cuda_runtime_cu12-12.1.105-py3-none-manylinux1_x86_64.whl (823 kB)\n",
            "   ━━━━━━━━━━━━━━━━━━━━━━━━━━━━━━━━━━━━━━━━ 823.6/823.6 kB 37.7 MB/s eta 0:00:00\n",
            "Downloading nvidia_cudnn_cu12-8.9.2.26-py3-none-manylinux1_x86_64.whl (731.7 MB)\n",
            "   ━━━━━━━━━━━━━━━━━━━━━━━━━━━━━━━━━━━━━━━━ 731.7/731.7 MB 2.2 MB/s eta 0:00:00\n",
            "Downloading nvidia_cufft_cu12-11.0.2.54-py3-none-manylinux1_x86_64.whl (121.6 MB)\n",
            "   ━━━━━━━━━━━━━━━━━━━━━━━━━━━━━━━━━━━━━━━━ 121.6/121.6 MB 8.0 MB/s eta 0:00:00\n",
            "Downloading nvidia_curand_cu12-10.3.2.106-py3-none-manylinux1_x86_64.whl (56.5 MB)\n",
            "   ━━━━━━━━━━━━━━━━━━━━━━━━━━━━━━━━━━━━━━━━ 56.5/56.5 MB 14.9 MB/s eta 0:00:00\n",
            "Downloading nvidia_cusolver_cu12-11.4.5.107-py3-none-manylinux1_x86_64.whl (124.2 MB)\n",
            "   ━━━━━━━━━━━━━━━━━━━━━━━━━━━━━━━━━━━━━━━━ 124.2/124.2 MB 7.4 MB/s eta 0:00:00\n",
            "Downloading nvidia_cusparse_cu12-12.1.0.106-py3-none-manylinux1_x86_64.whl (196.0 MB)\n",
            "   ━━━━━━━━━━━━━━━━━━━━━━━━━━━━━━━━━━━━━━━━ 196.0/196.0 MB 6.4 MB/s eta 0:00:00\n",
            "Downloading nvidia_nccl_cu12-2.19.3-py3-none-manylinux1_x86_64.whl (166.0 MB)\n",
            "   ━━━━━━━━━━━━━━━━━━━━━━━━━━━━━━━━━━━━━━━━ 166.0/166.0 MB 6.3 MB/s eta 0:00:00\n",
            "Downloading nvidia_nvtx_cu12-12.1.105-py3-none-manylinux1_x86_64.whl (99 kB)\n",
            "   ━━━━━━━━━━━━━━━━━━━━━━━━━━━━━━━━━━━━━━━━ 99.1/99.1 kB 6.4 MB/s eta 0:00:00\n",
            "Downloading url_normalize-1.4.3-py2.py3-none-any.whl (6.8 kB)\n",
            "Downloading urllib3-1.26.18-py2.py3-none-any.whl (143 kB)\n",
            "   ━━━━━━━━━━━━━━━━━━━━━━━━━━━━━━━━━━━━━━━━ 143.8/143.8 kB 10.2 MB/s eta 0:00:00\n",
            "Downloading num2words-0.5.13-py3-none-any.whl (143 kB)\n",
            "   ━━━━━━━━━━━━━━━━━━━━━━━━━━━━━━━━━━━━━━━━ 143.3/143.3 kB 9.4 MB/s eta 0:00:00\n",
            "Downloading h11-0.14.0-py3-none-any.whl (58 kB)\n",
            "   ━━━━━━━━━━━━━━━━━━━━━━━━━━━━━━━━━━━━━━━━ 58.3/58.3 kB 3.4 MB/s eta 0:00:00\n",
            "Downloading nvidia_nvjitlink_cu12-12.4.127-py3-none-manylinux2014_x86_64.whl (21.1 MB)\n",
            "   ━━━━━━━━━━━━━━━━━━━━━━━━━━━━━━━━━━━━━━━━ 21.1/21.1 MB 55.3 MB/s eta 0:00:00\n",
            "Building wheels for collected packages: langdetect, docopt\n",
            "  Building wheel for langdetect (setup.py): started\n",
            "  Building wheel for langdetect (setup.py): finished with status 'done'\n",
            "  Created wheel for langdetect: filename=langdetect-1.0.9-py3-none-any.whl size=993227 sha256=59759d84503dab7698c510a392e6846d0d4cbc128bbd56eaf5950738441c4dea\n",
            "  Stored in directory: /root/.cache/pip/wheels/95/03/7d/59ea870c70ce4e5a370638b5462a7711ab78fba2f655d05106\n",
            "  Building wheel for docopt (setup.py): started\n",
            "  Building wheel for docopt (setup.py): finished with status 'done'\n",
            "  Created wheel for docopt: filename=docopt-0.6.2-py2.py3-none-any.whl size=13706 sha256=d4d743d7fd20227887c39e787c0572ce20f796d23ba482687852f057d2e67149\n",
            "  Stored in directory: /root/.cache/pip/wheels/fc/ab/d4/5da2067ac95b36618c629a5f93f809425700506f72c9732fac\n",
            "Successfully built langdetect docopt\n",
            "Installing collected packages: sseclient-py, monotonic, events, docopt, urllib3, url-normalize, rank-bm25, pydantic, pillow, nvidia-nvtx-cu12, nvidia-nvjitlink-cu12, nvidia-nccl-cu12, nvidia-curand-cu12, nvidia-cufft-cu12, nvidia-cuda-runtime-cu12, nvidia-cuda-nvrtc-cu12, nvidia-cuda-cupti-cu12, nvidia-cublas-cu12, num2words, lazy-imports, langdetect, h11, cattrs, boilerpy3, backoff, scikit-learn, nvidia-cusparse-cu12, nvidia-cudnn-cu12, httpcore, elasticsearch, elastic-transport, tiktoken, requests-cache, quantulum3, prompthub-py, posthog, nvidia-cusolver-cu12, httpx, transformers, accelerate, sentence-transformers, farm-haystack\n",
            "  Attempting uninstall: urllib3\n",
            "    Found existing installation: urllib3 2.0.7\n",
            "    Uninstalling urllib3-2.0.7:\n",
            "      Successfully uninstalled urllib3-2.0.7\n",
            "  Attempting uninstall: pydantic\n",
            "    Found existing installation: pydantic 2.6.4\n",
            "    Uninstalling pydantic-2.6.4:\n",
            "      Successfully uninstalled pydantic-2.6.4\n",
            "  Attempting uninstall: pillow\n",
            "    Found existing installation: Pillow 9.4.0\n",
            "    Uninstalling Pillow-9.4.0:\n",
            "      Successfully uninstalled Pillow-9.4.0\n",
            "  Attempting uninstall: scikit-learn\n",
            "    Found existing installation: scikit-learn 1.2.2\n",
            "    Uninstalling scikit-learn-1.2.2:\n",
            "      Successfully uninstalled scikit-learn-1.2.2\n",
            "  Attempting uninstall: transformers\n",
            "    Found existing installation: transformers 4.38.2\n",
            "    Uninstalling transformers-4.38.2:\n",
            "      Successfully uninstalled transformers-4.38.2\n",
            "Successfully installed accelerate-0.29.1 backoff-2.2.1 boilerpy3-1.0.7 cattrs-23.2.3 docopt-0.6.2 elastic-transport-7.16.0 elasticsearch-7.17.9 events-0.5 farm-haystack-1.25.2 h11-0.14.0 httpcore-1.0.5 httpx-0.27.0 langdetect-1.0.9 lazy-imports-0.3.1 monotonic-1.6 num2words-0.5.13 nvidia-cublas-cu12-12.1.3.1 nvidia-cuda-cupti-cu12-12.1.105 nvidia-cuda-nvrtc-cu12-12.1.105 nvidia-cuda-runtime-cu12-12.1.105 nvidia-cudnn-cu12-8.9.2.26 nvidia-cufft-cu12-11.0.2.54 nvidia-curand-cu12-10.3.2.106 nvidia-cusolver-cu12-11.4.5.107 nvidia-cusparse-cu12-12.1.0.106 nvidia-nccl-cu12-2.19.3 nvidia-nvjitlink-cu12-12.4.127 nvidia-nvtx-cu12-12.1.105 pillow-9.0.0 posthog-3.5.0 prompthub-py-4.0.0 pydantic-1.10.15 quantulum3-0.9.0 rank-bm25-0.2.2 requests-cache-0.9.8 scikit-learn-1.4.1.post1 sentence-transformers-2.6.1 sseclient-py-1.8.0 tiktoken-0.6.0 transformers-4.37.2 url-normalize-1.4.3 urllib3-1.26.18\n"
          ]
        },
        {
          "output_type": "stream",
          "name": "stderr",
          "text": [
            "WARNING: Running pip as the 'root' user can result in broken permissions and conflicting behaviour with the system package manager. It is recommended to use a virtual environment instead: https://pip.pypa.io/warnings/venv\n"
          ]
        }
      ],
      "source": [
        "%%bash\n",
        "\n",
        "pip install --upgrade pip\n",
        "pip install farm-haystack[colab,preprocessing,elasticsearch,inference]"
      ]
    },
    {
      "cell_type": "code",
      "execution_count": null,
      "metadata": {
        "colab": {
          "base_uri": "https://localhost:8080/"
        },
        "id": "t3_c9J-yIxM6",
        "outputId": "5f7e59e3-3f3b-4581-de4a-080c9d2b5125"
      },
      "outputs": [
        {
          "output_type": "stream",
          "name": "stdout",
          "text": [
            "Requirement already satisfied: pip in /usr/local/lib/python3.10/dist-packages (24.0)\n",
            "Requirement already satisfied: farm-haystack[colab,file-conversion,ocr,pdf,preprocessing] in /usr/local/lib/python3.10/dist-packages (1.25.2)\n",
            "Requirement already satisfied: boilerpy3 in /usr/local/lib/python3.10/dist-packages (from farm-haystack[colab,file-conversion,ocr,pdf,preprocessing]) (1.0.7)\n",
            "Requirement already satisfied: events in /usr/local/lib/python3.10/dist-packages (from farm-haystack[colab,file-conversion,ocr,pdf,preprocessing]) (0.5)\n",
            "Requirement already satisfied: httpx in /usr/local/lib/python3.10/dist-packages (from farm-haystack[colab,file-conversion,ocr,pdf,preprocessing]) (0.27.0)\n",
            "Requirement already satisfied: jsonschema in /usr/local/lib/python3.10/dist-packages (from farm-haystack[colab,file-conversion,ocr,pdf,preprocessing]) (4.19.2)\n",
            "Requirement already satisfied: lazy-imports==0.3.1 in /usr/local/lib/python3.10/dist-packages (from farm-haystack[colab,file-conversion,ocr,pdf,preprocessing]) (0.3.1)\n",
            "Requirement already satisfied: more-itertools in /usr/local/lib/python3.10/dist-packages (from farm-haystack[colab,file-conversion,ocr,pdf,preprocessing]) (10.1.0)\n",
            "Requirement already satisfied: networkx in /usr/local/lib/python3.10/dist-packages (from farm-haystack[colab,file-conversion,ocr,pdf,preprocessing]) (3.2.1)\n",
            "Requirement already satisfied: pandas in /usr/local/lib/python3.10/dist-packages (from farm-haystack[colab,file-conversion,ocr,pdf,preprocessing]) (1.5.3)\n",
            "Requirement already satisfied: pillow in /usr/local/lib/python3.10/dist-packages (from farm-haystack[colab,file-conversion,ocr,pdf,preprocessing]) (9.0.0)\n",
            "Requirement already satisfied: platformdirs in /usr/local/lib/python3.10/dist-packages (from farm-haystack[colab,file-conversion,ocr,pdf,preprocessing]) (4.2.0)\n",
            "Requirement already satisfied: posthog in /usr/local/lib/python3.10/dist-packages (from farm-haystack[colab,file-conversion,ocr,pdf,preprocessing]) (3.5.0)\n",
            "Requirement already satisfied: prompthub-py==4.0.0 in /usr/local/lib/python3.10/dist-packages (from farm-haystack[colab,file-conversion,ocr,pdf,preprocessing]) (4.0.0)\n",
            "Requirement already satisfied: pydantic<2 in /usr/local/lib/python3.10/dist-packages (from farm-haystack[colab,file-conversion,ocr,pdf,preprocessing]) (1.10.15)\n",
            "Requirement already satisfied: quantulum3 in /usr/local/lib/python3.10/dist-packages (from farm-haystack[colab,file-conversion,ocr,pdf,preprocessing]) (0.9.0)\n",
            "Requirement already satisfied: rank-bm25 in /usr/local/lib/python3.10/dist-packages (from farm-haystack[colab,file-conversion,ocr,pdf,preprocessing]) (0.2.2)\n",
            "Requirement already satisfied: requests in /usr/local/lib/python3.10/dist-packages (from farm-haystack[colab,file-conversion,ocr,pdf,preprocessing]) (2.31.0)\n",
            "Requirement already satisfied: requests-cache<1.0.0 in /usr/local/lib/python3.10/dist-packages (from farm-haystack[colab,file-conversion,ocr,pdf,preprocessing]) (0.9.8)\n",
            "Requirement already satisfied: scikit-learn>=1.3.0 in /usr/local/lib/python3.10/dist-packages (from farm-haystack[colab,file-conversion,ocr,pdf,preprocessing]) (1.4.1.post1)\n",
            "Requirement already satisfied: sseclient-py in /usr/local/lib/python3.10/dist-packages (from farm-haystack[colab,file-conversion,ocr,pdf,preprocessing]) (1.8.0)\n",
            "Requirement already satisfied: tenacity in /usr/local/lib/python3.10/dist-packages (from farm-haystack[colab,file-conversion,ocr,pdf,preprocessing]) (8.2.3)\n",
            "Requirement already satisfied: tiktoken>=0.5.1 in /usr/local/lib/python3.10/dist-packages (from farm-haystack[colab,file-conversion,ocr,pdf,preprocessing]) (0.6.0)\n",
            "Requirement already satisfied: tqdm in /usr/local/lib/python3.10/dist-packages (from farm-haystack[colab,file-conversion,ocr,pdf,preprocessing]) (4.66.2)\n",
            "Requirement already satisfied: transformers==4.37.2 in /usr/local/lib/python3.10/dist-packages (from farm-haystack[colab,file-conversion,ocr,pdf,preprocessing]) (4.37.2)\n",
            "Collecting pdf2image>1.14 (from farm-haystack[colab,file-conversion,ocr,pdf,preprocessing])\n",
            "  Downloading pdf2image-1.17.0-py3-none-any.whl.metadata (6.2 kB)\n",
            "Collecting pytesseract>0.3.7 (from farm-haystack[colab,file-conversion,ocr,pdf,preprocessing])\n",
            "  Downloading pytesseract-0.3.10-py3-none-any.whl.metadata (11 kB)\n",
            "Collecting pymupdf>=1.18.16 (from farm-haystack[colab,file-conversion,ocr,pdf,preprocessing])\n",
            "  Downloading PyMuPDF-1.24.1-cp310-none-manylinux2014_x86_64.whl.metadata (3.4 kB)\n",
            "Requirement already satisfied: langdetect in /usr/local/lib/python3.10/dist-packages (from farm-haystack[colab,file-conversion,ocr,pdf,preprocessing]) (1.0.9)\n",
            "Requirement already satisfied: nltk in /usr/local/lib/python3.10/dist-packages (from farm-haystack[colab,file-conversion,ocr,pdf,preprocessing]) (3.8.1)\n",
            "Collecting azure-ai-formrecognizer>=3.2.0b2 (from farm-haystack[colab,file-conversion,ocr,pdf,preprocessing])\n",
            "  Downloading azure_ai_formrecognizer-3.3.2-py3-none-any.whl.metadata (63 kB)\n",
            "     ━━━━━━━━━━━━━━━━━━━━━━━━━━━━━━━━━━━━━━━━ 63.9/63.9 kB 2.1 MB/s eta 0:00:00\n",
            "Requirement already satisfied: beautifulsoup4 in /usr/local/lib/python3.10/dist-packages (from farm-haystack[colab,file-conversion,ocr,pdf,preprocessing]) (4.12.3)\n",
            "Requirement already satisfied: markdown in /usr/local/lib/python3.10/dist-packages (from farm-haystack[colab,file-conversion,ocr,pdf,preprocessing]) (3.6)\n",
            "Collecting python-docx (from farm-haystack[colab,file-conversion,ocr,pdf,preprocessing])\n",
            "  Downloading python_docx-1.1.0-py3-none-any.whl.metadata (2.0 kB)\n",
            "Collecting python-frontmatter (from farm-haystack[colab,file-conversion,ocr,pdf,preprocessing])\n",
            "  Downloading python_frontmatter-1.1.0-py3-none-any.whl.metadata (4.1 kB)\n",
            "Collecting python-magic (from farm-haystack[colab,file-conversion,ocr,pdf,preprocessing])\n",
            "  Downloading python_magic-0.4.27-py2.py3-none-any.whl.metadata (5.8 kB)\n",
            "Collecting python-pptx (from farm-haystack[colab,file-conversion,ocr,pdf,preprocessing])\n",
            "  Downloading python_pptx-0.6.23-py3-none-any.whl.metadata (18 kB)\n",
            "Collecting tika (from farm-haystack[colab,file-conversion,ocr,pdf,preprocessing])\n",
            "  Downloading tika-2.6.0.tar.gz (27 kB)\n",
            "  Preparing metadata (setup.py): started\n",
            "  Preparing metadata (setup.py): finished with status 'done'\n",
            "Requirement already satisfied: pyyaml<7.0,>=6.0 in /usr/local/lib/python3.10/dist-packages (from prompthub-py==4.0.0->farm-haystack[colab,file-conversion,ocr,pdf,preprocessing]) (6.0.1)\n",
            "Requirement already satisfied: filelock in /usr/local/lib/python3.10/dist-packages (from transformers==4.37.2->farm-haystack[colab,file-conversion,ocr,pdf,preprocessing]) (3.13.3)\n",
            "Requirement already satisfied: huggingface-hub<1.0,>=0.19.3 in /usr/local/lib/python3.10/dist-packages (from transformers==4.37.2->farm-haystack[colab,file-conversion,ocr,pdf,preprocessing]) (0.20.3)\n",
            "Requirement already satisfied: numpy>=1.17 in /usr/local/lib/python3.10/dist-packages (from transformers==4.37.2->farm-haystack[colab,file-conversion,ocr,pdf,preprocessing]) (1.25.2)\n",
            "Requirement already satisfied: packaging>=20.0 in /usr/local/lib/python3.10/dist-packages (from transformers==4.37.2->farm-haystack[colab,file-conversion,ocr,pdf,preprocessing]) (24.0)\n",
            "Requirement already satisfied: regex!=2019.12.17 in /usr/local/lib/python3.10/dist-packages (from transformers==4.37.2->farm-haystack[colab,file-conversion,ocr,pdf,preprocessing]) (2023.12.25)\n",
            "Requirement already satisfied: tokenizers<0.19,>=0.14 in /usr/local/lib/python3.10/dist-packages (from transformers==4.37.2->farm-haystack[colab,file-conversion,ocr,pdf,preprocessing]) (0.15.2)\n",
            "Requirement already satisfied: safetensors>=0.4.1 in /usr/local/lib/python3.10/dist-packages (from transformers==4.37.2->farm-haystack[colab,file-conversion,ocr,pdf,preprocessing]) (0.4.2)\n",
            "Collecting azure-core<2.0.0,>=1.23.0 (from azure-ai-formrecognizer>=3.2.0b2->farm-haystack[colab,file-conversion,ocr,pdf,preprocessing])\n",
            "  Downloading azure_core-1.30.1-py3-none-any.whl.metadata (37 kB)\n",
            "Collecting msrest>=0.6.21 (from azure-ai-formrecognizer>=3.2.0b2->farm-haystack[colab,file-conversion,ocr,pdf,preprocessing])\n",
            "  Downloading msrest-0.7.1-py3-none-any.whl.metadata (21 kB)\n",
            "Collecting azure-common~=1.1 (from azure-ai-formrecognizer>=3.2.0b2->farm-haystack[colab,file-conversion,ocr,pdf,preprocessing])\n",
            "  Downloading azure_common-1.1.28-py2.py3-none-any.whl.metadata (5.0 kB)\n",
            "Requirement already satisfied: typing-extensions>=4.0.1 in /usr/local/lib/python3.10/dist-packages (from azure-ai-formrecognizer>=3.2.0b2->farm-haystack[colab,file-conversion,ocr,pdf,preprocessing]) (4.10.0)\n",
            "Collecting PyMuPDFb==1.24.1 (from pymupdf>=1.18.16->farm-haystack[colab,file-conversion,ocr,pdf,preprocessing])\n",
            "  Downloading PyMuPDFb-1.24.1-py3-none-manylinux2014_x86_64.manylinux_2_17_x86_64.whl.metadata (1.4 kB)\n",
            "Requirement already satisfied: charset-normalizer<4,>=2 in /usr/local/lib/python3.10/dist-packages (from requests->farm-haystack[colab,file-conversion,ocr,pdf,preprocessing]) (3.3.2)\n",
            "Requirement already satisfied: idna<4,>=2.5 in /usr/local/lib/python3.10/dist-packages (from requests->farm-haystack[colab,file-conversion,ocr,pdf,preprocessing]) (3.6)\n",
            "Requirement already satisfied: urllib3<3,>=1.21.1 in /usr/local/lib/python3.10/dist-packages (from requests->farm-haystack[colab,file-conversion,ocr,pdf,preprocessing]) (1.26.18)\n",
            "Requirement already satisfied: certifi>=2017.4.17 in /usr/local/lib/python3.10/dist-packages (from requests->farm-haystack[colab,file-conversion,ocr,pdf,preprocessing]) (2024.2.2)\n",
            "Requirement already satisfied: appdirs>=1.4.4 in /usr/local/lib/python3.10/dist-packages (from requests-cache<1.0.0->farm-haystack[colab,file-conversion,ocr,pdf,preprocessing]) (1.4.4)\n",
            "Requirement already satisfied: attrs>=21.2 in /usr/local/lib/python3.10/dist-packages (from requests-cache<1.0.0->farm-haystack[colab,file-conversion,ocr,pdf,preprocessing]) (23.2.0)\n",
            "Requirement already satisfied: cattrs>=22.2 in /usr/local/lib/python3.10/dist-packages (from requests-cache<1.0.0->farm-haystack[colab,file-conversion,ocr,pdf,preprocessing]) (23.2.3)\n",
            "Requirement already satisfied: url-normalize>=1.4 in /usr/local/lib/python3.10/dist-packages (from requests-cache<1.0.0->farm-haystack[colab,file-conversion,ocr,pdf,preprocessing]) (1.4.3)\n",
            "Requirement already satisfied: scipy>=1.6.0 in /usr/local/lib/python3.10/dist-packages (from scikit-learn>=1.3.0->farm-haystack[colab,file-conversion,ocr,pdf,preprocessing]) (1.11.4)\n",
            "Requirement already satisfied: joblib>=1.2.0 in /usr/local/lib/python3.10/dist-packages (from scikit-learn>=1.3.0->farm-haystack[colab,file-conversion,ocr,pdf,preprocessing]) (1.3.2)\n",
            "Requirement already satisfied: threadpoolctl>=2.0.0 in /usr/local/lib/python3.10/dist-packages (from scikit-learn>=1.3.0->farm-haystack[colab,file-conversion,ocr,pdf,preprocessing]) (3.4.0)\n",
            "Requirement already satisfied: soupsieve>1.2 in /usr/local/lib/python3.10/dist-packages (from beautifulsoup4->farm-haystack[colab,file-conversion,ocr,pdf,preprocessing]) (2.5)\n",
            "Requirement already satisfied: anyio in /usr/local/lib/python3.10/dist-packages (from httpx->farm-haystack[colab,file-conversion,ocr,pdf,preprocessing]) (3.7.1)\n",
            "Requirement already satisfied: httpcore==1.* in /usr/local/lib/python3.10/dist-packages (from httpx->farm-haystack[colab,file-conversion,ocr,pdf,preprocessing]) (1.0.5)\n",
            "Requirement already satisfied: sniffio in /usr/local/lib/python3.10/dist-packages (from httpx->farm-haystack[colab,file-conversion,ocr,pdf,preprocessing]) (1.3.1)\n",
            "Requirement already satisfied: h11<0.15,>=0.13 in /usr/local/lib/python3.10/dist-packages (from httpcore==1.*->httpx->farm-haystack[colab,file-conversion,ocr,pdf,preprocessing]) (0.14.0)\n",
            "Requirement already satisfied: jsonschema-specifications>=2023.03.6 in /usr/local/lib/python3.10/dist-packages (from jsonschema->farm-haystack[colab,file-conversion,ocr,pdf,preprocessing]) (2023.12.1)\n",
            "Requirement already satisfied: referencing>=0.28.4 in /usr/local/lib/python3.10/dist-packages (from jsonschema->farm-haystack[colab,file-conversion,ocr,pdf,preprocessing]) (0.34.0)\n",
            "Requirement already satisfied: rpds-py>=0.7.1 in /usr/local/lib/python3.10/dist-packages (from jsonschema->farm-haystack[colab,file-conversion,ocr,pdf,preprocessing]) (0.18.0)\n",
            "Requirement already satisfied: six in /usr/local/lib/python3.10/dist-packages (from langdetect->farm-haystack[colab,file-conversion,ocr,pdf,preprocessing]) (1.16.0)\n",
            "Requirement already satisfied: click in /usr/local/lib/python3.10/dist-packages (from nltk->farm-haystack[colab,file-conversion,ocr,pdf,preprocessing]) (8.1.7)\n",
            "Requirement already satisfied: python-dateutil>=2.8.1 in /usr/local/lib/python3.10/dist-packages (from pandas->farm-haystack[colab,file-conversion,ocr,pdf,preprocessing]) (2.8.2)\n",
            "Requirement already satisfied: pytz>=2020.1 in /usr/local/lib/python3.10/dist-packages (from pandas->farm-haystack[colab,file-conversion,ocr,pdf,preprocessing]) (2023.4)\n",
            "Requirement already satisfied: monotonic>=1.5 in /usr/local/lib/python3.10/dist-packages (from posthog->farm-haystack[colab,file-conversion,ocr,pdf,preprocessing]) (1.6)\n",
            "Requirement already satisfied: backoff>=1.10.0 in /usr/local/lib/python3.10/dist-packages (from posthog->farm-haystack[colab,file-conversion,ocr,pdf,preprocessing]) (2.2.1)\n",
            "Requirement already satisfied: lxml>=3.1.0 in /usr/local/lib/python3.10/dist-packages (from python-docx->farm-haystack[colab,file-conversion,ocr,pdf,preprocessing]) (4.9.4)\n",
            "Collecting XlsxWriter>=0.5.7 (from python-pptx->farm-haystack[colab,file-conversion,ocr,pdf,preprocessing])\n",
            "  Downloading XlsxWriter-3.2.0-py3-none-any.whl.metadata (2.6 kB)\n",
            "Requirement already satisfied: inflect in /usr/local/lib/python3.10/dist-packages (from quantulum3->farm-haystack[colab,file-conversion,ocr,pdf,preprocessing]) (7.0.0)\n",
            "Requirement already satisfied: num2words in /usr/local/lib/python3.10/dist-packages (from quantulum3->farm-haystack[colab,file-conversion,ocr,pdf,preprocessing]) (0.5.13)\n",
            "Requirement already satisfied: setuptools in /usr/local/lib/python3.10/dist-packages (from tika->farm-haystack[colab,file-conversion,ocr,pdf,preprocessing]) (67.7.2)\n",
            "Requirement already satisfied: exceptiongroup>=1.1.1 in /usr/local/lib/python3.10/dist-packages (from cattrs>=22.2->requests-cache<1.0.0->farm-haystack[colab,file-conversion,ocr,pdf,preprocessing]) (1.2.0)\n",
            "Requirement already satisfied: fsspec>=2023.5.0 in /usr/local/lib/python3.10/dist-packages (from huggingface-hub<1.0,>=0.19.3->transformers==4.37.2->farm-haystack[colab,file-conversion,ocr,pdf,preprocessing]) (2023.6.0)\n",
            "Collecting isodate>=0.6.0 (from msrest>=0.6.21->azure-ai-formrecognizer>=3.2.0b2->farm-haystack[colab,file-conversion,ocr,pdf,preprocessing])\n",
            "  Downloading isodate-0.6.1-py2.py3-none-any.whl.metadata (9.6 kB)\n",
            "Requirement already satisfied: requests-oauthlib>=0.5.0 in /usr/local/lib/python3.10/dist-packages (from msrest>=0.6.21->azure-ai-formrecognizer>=3.2.0b2->farm-haystack[colab,file-conversion,ocr,pdf,preprocessing]) (1.4.1)\n",
            "Requirement already satisfied: docopt>=0.6.2 in /usr/local/lib/python3.10/dist-packages (from num2words->quantulum3->farm-haystack[colab,file-conversion,ocr,pdf,preprocessing]) (0.6.2)\n",
            "Requirement already satisfied: oauthlib>=3.0.0 in /usr/local/lib/python3.10/dist-packages (from requests-oauthlib>=0.5.0->msrest>=0.6.21->azure-ai-formrecognizer>=3.2.0b2->farm-haystack[colab,file-conversion,ocr,pdf,preprocessing]) (3.2.2)\n",
            "Downloading azure_ai_formrecognizer-3.3.2-py3-none-any.whl (300 kB)\n",
            "   ━━━━━━━━━━━━━━━━━━━━━━━━━━━━━━━━━━━━━━━━ 300.1/300.1 kB 8.1 MB/s eta 0:00:00\n",
            "Downloading pdf2image-1.17.0-py3-none-any.whl (11 kB)\n",
            "Downloading PyMuPDF-1.24.1-cp310-none-manylinux2014_x86_64.whl (3.9 MB)\n",
            "   ━━━━━━━━━━━━━━━━━━━━━━━━━━━━━━━━━━━━━━━━ 3.9/3.9 MB 20.0 MB/s eta 0:00:00\n",
            "Downloading PyMuPDFb-1.24.1-py3-none-manylinux2014_x86_64.manylinux_2_17_x86_64.whl (30.8 MB)\n",
            "   ━━━━━━━━━━━━━━━━━━━━━━━━━━━━━━━━━━━━━━━━ 30.8/30.8 MB 22.8 MB/s eta 0:00:00\n",
            "Downloading pytesseract-0.3.10-py3-none-any.whl (14 kB)\n",
            "Downloading python_docx-1.1.0-py3-none-any.whl (239 kB)\n",
            "   ━━━━━━━━━━━━━━━━━━━━━━━━━━━━━━━━━━━━━━━━ 239.6/239.6 kB 12.2 MB/s eta 0:00:00\n",
            "Downloading python_frontmatter-1.1.0-py3-none-any.whl (9.8 kB)\n",
            "Downloading python_magic-0.4.27-py2.py3-none-any.whl (13 kB)\n",
            "Downloading python_pptx-0.6.23-py3-none-any.whl (471 kB)\n",
            "   ━━━━━━━━━━━━━━━━━━━━━━━━━━━━━━━━━━━━━━━━ 471.6/471.6 kB 13.2 MB/s eta 0:00:00\n",
            "Downloading azure_common-1.1.28-py2.py3-none-any.whl (14 kB)\n",
            "Downloading azure_core-1.30.1-py3-none-any.whl (193 kB)\n",
            "   ━━━━━━━━━━━━━━━━━━━━━━━━━━━━━━━━━━━━━━━━ 193.4/193.4 kB 9.7 MB/s eta 0:00:00\n",
            "Downloading msrest-0.7.1-py3-none-any.whl (85 kB)\n",
            "   ━━━━━━━━━━━━━━━━━━━━━━━━━━━━━━━━━━━━━━━━ 85.4/85.4 kB 5.0 MB/s eta 0:00:00\n",
            "Downloading XlsxWriter-3.2.0-py3-none-any.whl (159 kB)\n",
            "   ━━━━━━━━━━━━━━━━━━━━━━━━━━━━━━━━━━━━━━━━ 159.9/159.9 kB 7.2 MB/s eta 0:00:00\n",
            "Downloading isodate-0.6.1-py2.py3-none-any.whl (41 kB)\n",
            "   ━━━━━━━━━━━━━━━━━━━━━━━━━━━━━━━━━━━━━━━━ 41.7/41.7 kB 2.0 MB/s eta 0:00:00\n",
            "Building wheels for collected packages: tika\n",
            "  Building wheel for tika (setup.py): started\n",
            "  Building wheel for tika (setup.py): finished with status 'done'\n",
            "  Created wheel for tika: filename=tika-2.6.0-py3-none-any.whl size=32621 sha256=dc8efb54f2284bce03044b98fb44de6b1f3637f0203130cd2c2209f3ebe3ec97\n",
            "  Stored in directory: /root/.cache/pip/wheels/5f/71/c7/b757709531121b1700cffda5b6b0d4aad095fb507ec84316d0\n",
            "Successfully built tika\n",
            "Installing collected packages: azure-common, XlsxWriter, python-magic, python-frontmatter, python-docx, pytesseract, PyMuPDFb, pdf2image, isodate, tika, python-pptx, pymupdf, azure-core, msrest, azure-ai-formrecognizer\n",
            "Successfully installed PyMuPDFb-1.24.1 XlsxWriter-3.2.0 azure-ai-formrecognizer-3.3.2 azure-common-1.1.28 azure-core-1.30.1 isodate-0.6.1 msrest-0.7.1 pdf2image-1.17.0 pymupdf-1.24.1 pytesseract-0.3.10 python-docx-1.1.0 python-frontmatter-1.1.0 python-magic-0.4.27 python-pptx-0.6.23 tika-2.6.0\n"
          ]
        },
        {
          "output_type": "stream",
          "name": "stderr",
          "text": [
            "WARNING: Running pip as the 'root' user can result in broken permissions and conflicting behaviour with the system package manager. It is recommended to use a virtual environment instead: https://pip.pypa.io/warnings/venv\n",
            "WARNING: Running pip as the 'root' user can result in broken permissions and conflicting behaviour with the system package manager. It is recommended to use a virtual environment instead: https://pip.pypa.io/warnings/venv\n"
          ]
        }
      ],
      "source": [
        "%%bash\n",
        "\n",
        "pip install --upgrade pip\n",
        "pip install farm-haystack[colab,ocr,preprocessing,file-conversion,pdf]\n"
      ]
    },
    {
      "cell_type": "code",
      "execution_count": null,
      "metadata": {
        "id": "p_O9JjBuIxP6"
      },
      "outputs": [],
      "source": []
    },
    {
      "cell_type": "code",
      "execution_count": null,
      "metadata": {
        "id": "mLP7gaj5IxS8"
      },
      "outputs": [],
      "source": [
        "from haystack.nodes import PDFToTextConverter\n",
        "\n",
        "pdf_converter = PDFToTextConverter(remove_numeric_tables=True, valid_languages=[\"en\"])\n",
        "\n",
        "converted = pdf_converter.convert(file_path = \"/content/drive/MyDrive/Data/document 2.pdf\", meta = { \"company\": \"Company_1\", \"processed\": False })"
      ]
    },
    {
      "cell_type": "code",
      "execution_count": null,
      "metadata": {
        "colab": {
          "base_uri": "https://localhost:8080/"
        },
        "id": "a9yr6UYTIxVk",
        "outputId": "b72526c1-00ac-47ff-ad78-6a05b3f3005d"
      },
      "outputs": [
        {
          "output_type": "stream",
          "name": "stderr",
          "text": [
            "[nltk_data] Downloading package punkt to /root/nltk_data...\n",
            "[nltk_data]   Unzipping tokenizers/punkt.zip.\n",
            "Preprocessing: 100%|██████████| 1/1 [00:00<00:00, 13.97docs/s]\n"
          ]
        }
      ],
      "source": [
        "from haystack.nodes import PreProcessor\n",
        "\n",
        "preprocessor = PreProcessor(split_by=\"word\",\n",
        "                            split_length=200,\n",
        "                            split_overlap=10)\n",
        "\n",
        "preprocessed = preprocessor.process(converted)"
      ]
    },
    {
      "cell_type": "code",
      "execution_count": null,
      "metadata": {
        "colab": {
          "base_uri": "https://localhost:8080/"
        },
        "id": "1IwVs1AhLY2T",
        "outputId": "0b27e226-437b-417c-db75-325ffc23738b"
      },
      "outputs": [
        {
          "output_type": "execute_result",
          "data": {
            "text/plain": [
              "[<Document: {'content': '\" EXHIBIT                                DISTRIBUTOR AGREEMENT\\nTHIS  DISTRIBUTOR  AGREEMENT (the  \\\\\"Agreement\\\\\")  is made by and between Electric City Corp.,\\na Delaware  corporation  (\\\\\"Company\\\\\")  and Electric City of Illinois LLC (\\\\\"Distributor\\\\\") this 7th day\\nof September, 1999.\\\\n\\\\n                                    RECITALS\\\\n\\\\n         A. The  Company\\'s  Business.  The\\nCompany is  presently  engaged in the business  of selling an energy  efficiency  device,  which is\\nreferred to as an \\\\\"Energy  Saver\\\\\"  which may be improved  or  otherwise  changed  from its present\\ncomposition (the \\\\\"Products\\\\\").  The Company may engage in the business of selling other  products\\nor  other  devices  other  than  the  Products,  which  will be considered  Products if Distributor\\nexercises its options pursuant to Section 7 hereof.\\\\n\\\\n         B. Representations.  As an inducement to\\nthe Company to enter into this Agreement,  the  Distributor  has  represented  that  it has or  will\\nhave  the facilities,  personnel,  and financial capability to promote the sale and use of Products.  As\\nan  inducement  to  Distributor  to enter into this  Agreement the Company has  represented  that it\\nhas the  facilities,  personnel  and financial capability to have the Products  produced and supplied as\\nneeded pursuant to the terms hereof.\\\\n\\\\n         C. The Distributor\\'s  Objectives.  ', 'content_type': 'text', 'score': None, 'meta': {'company': 'Company_1', 'processed': False, '_split_id': 0, '_split_overlap': [{'doc_id': 'ead86cbae2f5bd9e85361e6253ddb3a1', 'range': (1085, 1377)}]}, 'id_hash_keys': ['content'], 'embedding': None, 'id': '14aa860f9d671baec38bcb49e8b214f1'}>,\n",
              " <Document: {'content': 'As\\nan  inducement  to  Distributor  to enter into this  Agreement the Company has  represented  that it\\nhas the  facilities,  personnel  and financial capability to have the Products  produced and supplied as\\nneeded pursuant to the terms hereof.\\\\n\\\\n         C. The Distributor\\'s  Objectives.  The Distributor\\ndesires to become a distributor  for the Company and to develop  demand for and sell and  distribute\\nProducts  solely  for the use within the State of  Illinois,  including  but not limited to public  and\\nprivate  entities,  institutions,  corporations,  public schools, park districts,  corrections facilities,\\nairports,  government housing authorities and other government agencies and facilities (the\\n\\\\\"Market\\\\\").\\\\n\\\\n         D. The Company\\'s  Appointment.  The Company appoints the Distributor as an\\nexclusive  distributor  of Products in the Market,  subject to the terms and conditions of this\\nAgreement.\\\\n\\\\n\\n1.       ESTABLISHMENT OF DISTRIBUTORSHIP\\\\n\\\\n\\n1.1      Grant  and   Acceptance.   Company  hereby   appoints   Distributor as Company\\'s exclusive\\ndistributor within     the Market and grants to  Distributor  the  exclusive                            right  to sell\\nand  distribute  Products  within  the                            Market,   and   Distributor   hereby   accepts\\nsuch                            appointment  and such grant,  in accordance  with the                            terms and\\nconditions of this  Agreement.  ', 'content_type': 'text', 'score': None, 'meta': {'company': 'Company_1', 'processed': False, '_split_id': 1, '_split_overlap': [{'doc_id': '14aa860f9d671baec38bcb49e8b214f1', 'range': (0, 292)}, {'doc_id': '53fa7c616fbaa3253119b3958d0811a2', 'range': (1006, 1456)}]}, 'id_hash_keys': ['content'], 'embedding': None, 'id': 'ead86cbae2f5bd9e85361e6253ddb3a1'}>,\n",
              " <Document: {'content': 'Company  hereby   appoints   Distributor as Company\\'s exclusive\\ndistributor within     the Market and grants to  Distributor  the  exclusive                            right  to sell\\nand  distribute  Products  within  the                            Market,   and   Distributor   hereby   accepts\\nsuch                            appointment  and such grant,  in accordance  with the                            terms and\\nconditions of this  Agreement.  Distributor                            acknowledges that customers of other\\ndistributors of                            the Products may have sites,  locations or operations                            in\\nthe   Market,   which  will  use  the   Products.                            Distributor  will sell any and all Products\\nrequired                            by such  customers in the Market to those  customers.\\nDistributor also  acknowledges  that if its customers                            have  sites,  locations  or\\noperations  outside  the                            Market,   in  the   market   of   another   exclusive\\ndistributor of the Products,  those customers will be                            required to  purchase  products\\nfrom the  applicable                            exclusive  distributor  in  that  market;  otherwise,\\nDistributor shall be free to sell to its customers in                            any  market  which  does not have\\nanother  exclusive                            distributor.\\\\n\\\\n\\n1.2      License.  The Company  hereby grants the  Distributor                            the right to do business\\nand use the name  \\\\\"Electric                            City of  Illinois\\\\\"  or a  similar  variation  thereof\\n(collectively   the   \\\\\"Names\\\\\")  for  use  under  this                            Agreement.  Distributor may file\\nwith the appropriate                            state and local authorities assumed name certificates\\nas required.  ', 'content_type': 'text', 'score': None, 'meta': {'company': 'Company_1', 'processed': False, '_split_id': 2, '_split_overlap': [{'doc_id': 'ead86cbae2f5bd9e85361e6253ddb3a1', 'range': (0, 450)}, {'doc_id': '67672e949f84c3293c781a92b413bf25', 'range': (1794, 1930)}]}, 'id_hash_keys': ['content'], 'embedding': None, 'id': '53fa7c616fbaa3253119b3958d0811a2'}>,\n",
              " <Document: {'content': 'Distributor may file\\nwith the appropriate                            state and local authorities assumed name certificates\\nas required.  Copies of all documents relating to the                            use of the Names shall be\\nforwarded  to the Company.                            Upon termination of this Agreement  Distributor shall\\nhave no further  right to the Names and said  License                            to use the Names shall\\nterminate.  Distributor  shall                            have  no  right  to  sublicense  the  Names  or to do\\nbusiness  under any other names without the Company\\'s                            prior  approval in writing.\\nThe parties  acknowledge                            that the  terms  herein  consist  of there  terms for\\x0cIllinois.  At the  request  of  either  party,  a new                            agreement reflecting the terms and\\nconditions of this                            Agreement,  may be executed  for each state or entity\\nrepresenting each state.\\\\n\\\\n\\\\n\\\\n\\\\n\\\\n\\n1.3      Term.  The term of this  Agreement  shall be ten (10)                            years (the \\\\\"Term\\\\\")\\nwhich shall  commence on the date                            upon which the Company  delivers to  Distributor\\nthe                            last Sample, as defined  hereinafter.  If Distributor                            complies with\\nall of the terms of this Agreement, the                            Agreement  shall be  renewable on an annual\\nbasis for                            one (1) year terms for up to  another  ten (10) years                            on the\\nsame terms and conditions as set forth herein.                            ', 'content_type': 'text', 'score': None, 'meta': {'company': 'Company_1', 'processed': False, '_split_id': 3, '_split_overlap': [{'doc_id': '53fa7c616fbaa3253119b3958d0811a2', 'range': (0, 136)}, {'doc_id': 'b5cecbdb6d4b19918dda877083ca7cff', 'range': (1313, 1678)}]}, 'id_hash_keys': ['content'], 'embedding': None, 'id': '67672e949f84c3293c781a92b413bf25'}>,\n",
              " <Document: {'content': \"If Distributor                            complies with\\nall of the terms of this Agreement, the                            Agreement  shall be  renewable on an annual\\nbasis for                            one (1) year terms for up to  another  ten (10) years                            on the\\nsame terms and conditions as set forth herein.                            All renewals of this  Agreement  shall\\nbe on the same                            terms and conditions as are set forth herein.\\\\n\\\\n\\n1.4      Company's Obligation.  Company shall sell and deliver                            as  provided  in  Section\\n2.3 of this  Agreement  to                            Distributor  on the  price  terms  set  forth in this\\nAgreement  or as  amended  from  time  to  time  such                            quantity of Products as\\nDistributor from time to time                            orders  from  Company.   Company  shall  promote  and\\nadvertise the Products generally, at its own expense,                            and   shall   furnish   Distributor\\ncopies  at  all                            advertisement and promotional materials.\\\\n\\\\n\\n1.5      The Distributor's Obligation. The Distributor, at its                            own expense,  shall promote\\nthe distribution,  sales,                            and use of Products in the Market.\\\\n\\\\n\\n1.6      Distributor's  Terms  and  Minimum  Expectations.  \", 'content_type': 'text', 'score': None, 'meta': {'company': 'Company_1', 'processed': False, '_split_id': 4, '_split_overlap': [{'doc_id': '67672e949f84c3293c781a92b413bf25', 'range': (0, 365)}, {'doc_id': 'a78d719419e352d0b4ca90cc2f2f5a2e', 'range': (1181, 1411)}]}, 'id_hash_keys': ['content'], 'embedding': None, 'id': 'b5cecbdb6d4b19918dda877083ca7cff'}>,\n",
              " <Document: {'content': 'The Distributor, at its                            own expense,  shall promote\\nthe distribution,  sales,                            and use of Products in the Market.\\\\n\\\\n\\n1.6      Distributor\\'s  Terms  and  Minimum  Expectations.  In                            order  to  maintain  the\\nexclusive  rights  to sell,                            lease, distribute and service Products in the Market,\\nthe Distributor must use all commercially  reasonably                            efforts to purchase for sale to\\nsubdistributors  the                            following minimum quantities of the Products from the\\nCompany:\\\\n\\\\n         On the  commencement of the Term  Distributor will issue to the Company an\\nirrevocable  letter of credit (\\\\\"LC\\\\\") in the amount of Five Hundred  Thousand Dollars  ($500,000),\\nthe form of which is  attached  hereto  as  Exhibit  A and incorporated  herein by reference.  The LC\\nshall have a two (2) month term,  and shall be renewed  for five (5)  consecutive  bimonthly  periods.\\nA minimum of a $250,000.00  purchase  order  must be  received  by Company by the first of each\\nmonth for a total (12) month  period.  The Company may draw funds from the LC to pay for\\nDistributor\\'s  purchases,  which are not paid according to the terms in Section 2.7. ', 'content_type': 'text', 'score': None, 'meta': {'company': 'Company_1', 'processed': False, '_split_id': 5, '_split_overlap': [{'doc_id': 'b5cecbdb6d4b19918dda877083ca7cff', 'range': (0, 230)}, {'doc_id': '5c0f6b19fa7ed36727682b7234b86abd', 'range': (1146, 1280)}]}, 'id_hash_keys': ['content'], 'embedding': None, 'id': 'a78d719419e352d0b4ca90cc2f2f5a2e'}>,\n",
              " <Document: {'content': \"The Company may draw funds from the LC to pay for\\nDistributor's  purchases,  which are not paid according to the terms in Section 2.7. Prices for the\\nEnergySaver units are\\\\n\\\\n                                    Page -2-\\\\n\\\\nprovided  by the  Company as Exhibit C.\\nThe  Company  will be  entitled  to draw against the LC pursuant to the terms of the LC.\\\\n\\\\n\\n(A)    375 units in the first Product Year (1999)\\\\n\\\\n                  (B)    750 units in the next succeeding\\nProduct Year; (2000)\\\\n\\\\n                  (C)    937 units in the next succeeding Product Year; (2001)\\\\n\\\\n\\n(D)    1,171 units in the next succeeding Product Year; (2002)\\\\n\\\\n                  (E)    1,463 units in the\\nnext succeeding Product Year; (2003)\\\\n\\\\n                  (F)    1,828 units in the next succeeding Product\\nYear; (2004)\\\\n\\\\n                  (G)    2,285 units in the next succeeding Product Year; (2005)\\\\n\\\\n\\n(H)    2,856  unit each in the lat  three  years of                          the initial Term of this  Agreement  and\\nany                          renewals thereof.\\\\n\\\\n         For purposes of this Agreement, a Product Year shall be\\nthe twelve (12) month period  following the  commencement  of the initial Term of this Agreement\\nand each twelve  (12)  months  thereafter.  \", 'content_type': 'text', 'score': None, 'meta': {'company': 'Company_1', 'processed': False, '_split_id': 6, '_split_overlap': [{'doc_id': 'a78d719419e352d0b4ca90cc2f2f5a2e', 'range': (0, 134)}, {'doc_id': '3ae048f556ea8d68bec99c1119bbe09e', 'range': (135, 1266)}]}, 'id_hash_keys': ['content'], 'embedding': None, 'id': '5c0f6b19fa7ed36727682b7234b86abd'}>,\n",
              " <Document: {'content': \"Prices for the\\nEnergySaver units are\\\\n\\\\n                                    Page -2-\\\\n\\\\nprovided  by the  Company as Exhibit C.\\nThe  Company  will be  entitled  to draw against the LC pursuant to the terms of the LC.\\\\n\\\\n\\n(A)    375 units in the first Product Year (1999)\\\\n\\\\n                  (B)    750 units in the next succeeding\\nProduct Year; (2000)\\\\n\\\\n                  (C)    937 units in the next succeeding Product Year; (2001)\\\\n\\\\n\\n(D)    1,171 units in the next succeeding Product Year; (2002)\\\\n\\\\n                  (E)    1,463 units in the\\nnext succeeding Product Year; (2003)\\\\n\\\\n                  (F)    1,828 units in the next succeeding Product\\nYear; (2004)\\\\n\\\\n                  (G)    2,285 units in the next succeeding Product Year; (2005)\\\\n\\\\n\\n(H)    2,856  unit each in the lat  three  years of                          the initial Term of this  Agreement  and\\nany                          renewals thereof.\\\\n\\\\n         For purposes of this Agreement, a Product Year shall be\\nthe twelve (12) month period  following the  commencement  of the initial Term of this Agreement\\nand each twelve  (12)  months  thereafter.  Distributor's  expected  sales shall include the purchase\\nof the Samples as defined hereinafter.\\\\n\\\\n         Sales in excess of the  expected  sales  which are\\nactually  made in a Product Year may be applied to meet the  expectations for the next Product Year.\\n\", 'content_type': 'text', 'score': None, 'meta': {'company': 'Company_1', 'processed': False, '_split_id': 7, '_split_overlap': [{'doc_id': '5c0f6b19fa7ed36727682b7234b86abd', 'range': (0, 1131)}, {'doc_id': 'daa859994f2ad5180436799fdcd8c8c', 'range': (1132, 1392)}]}, 'id_hash_keys': ['content'], 'embedding': None, 'id': '3ae048f556ea8d68bec99c1119bbe09e'}>,\n",
              " <Document: {'content': \"Distributor's  expected  sales shall include the purchase\\nof the Samples as defined hereinafter.\\\\n\\\\n         Sales in excess of the  expected  sales  which are\\nactually  made in a Product Year may be applied to meet the  expectations for the next Product Year.\\nAny such carry-over from one year to the next Product Year may not be considered in determining\\nwhether there is a carry-over from that next Product Year. Thus, by way of example and not\\nlimitation,  if there was an expectation of 50 in year one and 200 for  year two and 60 units  are sold\\nin year one and 195  units  are sold in year two,  the  expectation  for year two will have been met,\\x0cbut there will be no carry-over to year three. \", 'content_type': 'text', 'score': None, 'meta': {'company': 'Company_1', 'processed': False, '_split_id': 8, '_split_overlap': [{'doc_id': '3ae048f556ea8d68bec99c1119bbe09e', 'range': (0, 260)}, {'doc_id': '6ff52ddd513522439376aabe6624dc49', 'range': (416, 700)}]}, 'id_hash_keys': ['content'], 'embedding': None, 'id': 'daa859994f2ad5180436799fdcd8c8c'}>,\n",
              " <Document: {'content': \"Thus, by way of example and not\\nlimitation,  if there was an expectation of 50 in year one and 200 for  year two and 60 units  are sold\\nin year one and 195  units  are sold in year two,  the  expectation  for year two will have been met,\\x0cbut there will be no carry-over to year three. If the  Distributor  shall fail to purchase the minimum\\nnumber of units in any year, the  Distributor's  exclusive rights to sell and distribute the Product in\\nthe Market,  may at Company's sole option, be reevaluated.\\\\n\\\\n         Company  agrees  that\\nDistributor  shall not be liable or  subject  to reevaluation  for  failure to meet  expectations  due to\\nany  occurrence  beyond Distributor's  reasonable control,  including,  but not limited to, Acts of God,\\nfires,  floods,  wars,  sabotage,  accidents  in shipping,  labor  disturbances,\\\\n\\\\n\\\\n\\\\n\\\\n\\\\nweather\\nconditions,  governmental regulation, lack of Company performance, delay by  Company,  failure of\\nCompany to honor  warranties  or  otherwise  materially support the Products.\\\\n\\\\n         The\\naggregate  units to be sold on an annual basis  described above are for the Illinois distributorship on\\nan aggregate basis.\\\\n\\\\n\\n1.7      Relationship of Parties.  The relationship between the Company                   and the\\nDistributor\\\\n\\\\n                                    Page -3-\\\\n\\\\n                  is that of vendor and vendee.  \", 'content_type': 'text', 'score': None, 'meta': {'company': 'Company_1', 'processed': False, '_split_id': 9, '_split_overlap': [{'doc_id': 'daa859994f2ad5180436799fdcd8c8c', 'range': (0, 284)}, {'doc_id': 'a66aa5b9194e158eea46f10fd203851e', 'range': (1204, 1378)}]}, 'id_hash_keys': ['content'], 'embedding': None, 'id': '6ff52ddd513522439376aabe6624dc49'}>,\n",
              " <Document: {'content': 'The relationship between the Company                   and the\\nDistributor\\\\n\\\\n                                    Page -3-\\\\n\\\\n                  is that of vendor and vendee.  This\\nAgreement does not create                   the  relationship  of principal  and agent between the\\nCompany                   and the Distributor for any purpose whatsoever. This Agreement                   shall\\nnot be construed as constituting the Distributor and the                   Company as partners, joint\\nventurers, or as creating any other                   form of legal  association or  arrangement  which would\\nimpose                   liability  upon one party for the act or omission of the other                   party.\\nNeither  party is granted any express or implied right                   of  authority  by the other  party to\\nassume or to create  any                   obligation  or  responsibility  on behalf of or in the name of\\nthe other  party,  or to bind the other party in any manner or                   thing whatsoever.\\\\n\\\\n2.\\nPURCHASE OF PRODUCTS\\\\n\\\\n         2.1      Orders.  The Distributor shall order Products from the\\nCompany                   on a purchase  order form  mutually  acceptable to the Company                   and\\nDistributor and which is consistent with Exhibit B hereto,                   and  which  incorporates  the\\nterms  and  provisions  of this                   Distributor  Agreement.  The  Distributor  shall  not order or\\npurchase Products from any source other than the Company.  All                   orders shall be subject to\\nacceptance and  confirmation by the                   Company.  ', 'content_type': 'text', 'score': None, 'meta': {'company': 'Company_1', 'processed': False, '_split_id': 10, '_split_overlap': [{'doc_id': '6ff52ddd513522439376aabe6624dc49', 'range': (0, 174)}, {'doc_id': '7d9c6c9d2ae9e667be04fa6822c7663c', 'range': (1526, 1638)}]}, 'id_hash_keys': ['content'], 'embedding': None, 'id': 'a66aa5b9194e158eea46f10fd203851e'}>,\n",
              " <Document: {'content': \"All                   orders shall be subject to\\nacceptance and  confirmation by the                   Company.  Distributor  may  cancel an order  that is\\nproperly                   cancelled by  Distributor's  customer,  unless the Company has\\ncommenced  production  which is in any way customized for that                   customer.  The\\nDistributor  shall annually provide the Company                   with a  non-binding  forecast of orders for\\nProducts  for the                   succeeding 12-month period.\\\\n\\\\n\\n2.2      Shipment.  The  Company  and  the  Distributor  shall  jointly                   determine  shipment\\ndates.  The Company shall use commercially                   reasonable  efforts to ship  promptly  all\\norders for Products                   received from the Distributor. In addition to any other remedy\\nwhich this Agreement provides to Distributor  against Company,                   if Company fails to deliver\\nor delays in  delivering  Products                   as were  ordered by  Distributor  within 45 days  after\\ntheir                   required  delivery date, and if as a result of such failure or                   delay\\nDistributor  loses  its  customer's  orders  for  those                   Products,  the number of units which\\nDistributor  ordered but                   were not timely  delivered to Distributor or to  Distributor's\\ncustomer  will  be  credited  against   Distributor's  minimum                   expectation as specified on\\nSection 1.6 of this Agreement. \", 'content_type': 'text', 'score': None, 'meta': {'company': 'Company_1', 'processed': False, '_split_id': 11, '_split_overlap': [{'doc_id': 'a66aa5b9194e158eea46f10fd203851e', 'range': (0, 112)}, {'doc_id': 'eec528a99baf5d287f3078c9a88e4515', 'range': (803, 1520)}]}, 'id_hash_keys': ['content'], 'embedding': None, 'id': '7d9c6c9d2ae9e667be04fa6822c7663c'}>,\n",
              " <Document: {'content': \"In addition to any other remedy\\nwhich this Agreement provides to Distributor  against Company,                   if Company fails to deliver\\nor delays in  delivering  Products                   as were  ordered by  Distributor  within 45 days  after\\ntheir                   required  delivery date, and if as a result of such failure or                   delay\\nDistributor  loses  its  customer's  orders  for  those                   Products,  the number of units which\\nDistributor  ordered but                   were not timely  delivered to Distributor or to  Distributor's\\ncustomer  will  be  credited  against   Distributor's  minimum                   expectation as specified on\\nSection 1.6 of this Agreement. The                   Company  may refuse to accept a purchase  order on\\nthe grounds                   that it cannot meet the delivery schedule therein, and if as a                   result\\nof  such  failure  or  delay   Distributor  loses  its                   customer's  orders  for those  Products,\\nthe  number of units                   which  Distributor  ordered but were not timely  delivered  to\\nDistributor  or to  Distributor's  customer  will be  credited                   against   Distributor's\\nminimum.   \", 'content_type': 'text', 'score': None, 'meta': {'company': 'Company_1', 'processed': False, '_split_id': 12, '_split_overlap': [{'doc_id': '7d9c6c9d2ae9e667be04fa6822c7663c', 'range': (0, 717)}, {'doc_id': '7d2780f4d8abbdac7374e739eb755f66', 'range': (718, 1240)}]}, 'id_hash_keys': ['content'], 'embedding': None, 'id': 'eec528a99baf5d287f3078c9a88e4515'}>,\n",
              " <Document: {'content': \"The                   Company  may refuse to accept a purchase  order on\\nthe grounds                   that it cannot meet the delivery schedule therein, and if as a                   result\\nof  such  failure  or  delay   Distributor  loses  its                   customer's  orders  for those  Products,\\nthe  number of units                   which  Distributor  ordered but were not timely  delivered  to\\nDistributor  or to  Distributor's  customer  will be  credited                   against   Distributor's\\nminimum.   Distributor   shall  make                   reasonable  efforts  to notify  the  Company  of the\\nproposed                   delivery  schedule before accepting a customer order and shall                   give\\nthe  Company  written  notice  of any  customer  purchase                   orders which  imposes  liability\\x0cfor late shipment and neither                   the  Distributor  nor the Company  shall have a liability  for\\nconsequential  or  liquidated   damages   pertaining  to  late                   delivery unless Company\\nspecifically  acknowledges and agrees                   in  writing  to the  same.  \", 'content_type': 'text', 'score': None, 'meta': {'company': 'Company_1', 'processed': False, '_split_id': 13, '_split_overlap': [{'doc_id': 'eec528a99baf5d287f3078c9a88e4515', 'range': (0, 522)}, {'doc_id': '5651d8e864a7fd83e40794aa6afeb2e3', 'range': (523, 1141)}]}, 'id_hash_keys': ['content'], 'embedding': None, 'id': '7d2780f4d8abbdac7374e739eb755f66'}>,\n",
              " <Document: {'content': 'Distributor   shall  make                   reasonable  efforts  to notify  the  Company  of the\\nproposed                   delivery  schedule before accepting a customer order and shall                   give\\nthe  Company  written  notice  of any  customer  purchase                   orders which  imposes  liability\\x0cfor late shipment and neither                   the  Distributor  nor the Company  shall have a liability  for\\nconsequential  or  liquidated   damages   pertaining  to  late                   delivery unless Company\\nspecifically  acknowledges and agrees                   in  writing  to the  same.  The  Distributor  agrees\\nthat the                   Company  shall not be liable for its failure to perform due to                   any\\noccurrence  beyond  the  Company\\'s   reasonable  control,                   including, but not limited to,\\nacts of God, fires,\\\\n\\\\n                                    Page -4-\\\\n\\\\n                  floods,  wars,  sabotage,  accidents\\nin  shipping  beyond the                   Company\\'s  control,  labor strikes other than strikes  against\\nthe Company itself,  weather conditions or foreign or domestic                   government  regulation  or\\nauthority  which  directly  affects                   Company\\'s ability to deliver Product.\\\\n\\\\n\\n2.3      Delivery.  Other than \\\\\"drop ship\\\\\"  deliveries,  all deliveries\\\\n\\\\n\\\\n\\\\n\\\\n\\\\n                  made\\npursuant to this  Agreement  shall be FOB the  Company\\'s                   facilities  located within the\\ncontinental  United States by a                   carrier authorized by the Distributor.\\\\n\\\\n\\n2.4.     Prices.\\\\n\\\\n                  (A)      Prices For Basic  Units.  The prices for  Products in\\nthe first  Product  Year are  supplied  by Company as                            Exhibit C.\\\\n\\\\n                  (B)\\nInflation Price  Adjustment.  ', 'content_type': 'text', 'score': None, 'meta': {'company': 'Company_1', 'processed': False, '_split_id': 14, '_split_overlap': [{'doc_id': '7d2780f4d8abbdac7374e739eb755f66', 'range': (0, 618)}, {'doc_id': '4d14bc7f3d1b9881b1d2b739fc129dfb', 'range': (1679, 1853)}]}, 'id_hash_keys': ['content'], 'embedding': None, 'id': '5651d8e864a7fd83e40794aa6afeb2e3'}>,\n",
              " <Document: {'content': 'The prices for  Products in\\nthe first  Product  Year are  supplied  by Company as                            Exhibit C.\\\\n\\\\n                  (B)\\nInflation Price  Adjustment.  The prices set forth in                            Section   2.4(a)  shall  be  subject\\nto   adjustment                            annually  on the  first  day  of  each  Product  Year\\nbeginning in the calendar  year 2000 and on the first                            day of each succeeding Product\\nYear for the remainder                            of the Term and all  renewals  of this  Agreement  in\\nproportion   to  the  increase  or  decrease  in  the                            Consumer  Price Index (CPI) as\\ncompared to the CPI as                            it  existed  on the  first  day of the  Term  of this\\nAgreement.  ', 'content_type': 'text', 'score': None, 'meta': {'company': 'Company_1', 'processed': False, '_split_id': 15, '_split_overlap': [{'doc_id': '5651d8e864a7fd83e40794aa6afeb2e3', 'range': (0, 174)}, {'doc_id': '90b898253f119e8199603caf45a8f405', 'range': (175, 803)}]}, 'id_hash_keys': ['content'], 'embedding': None, 'id': '4d14bc7f3d1b9881b1d2b739fc129dfb'}>,\n",
              " <Document: {'content': \"The prices set forth in                            Section   2.4(a)  shall  be  subject\\nto   adjustment                            annually  on the  first  day  of  each  Product  Year\\nbeginning in the calendar  year 2000 and on the first                            day of each succeeding Product\\nYear for the remainder                            of the Term and all  renewals  of this  Agreement  in\\nproportion   to  the  increase  or  decrease  in  the                            Consumer  Price Index (CPI) as\\ncompared to the CPI as                            it  existed  on the  first  day of the  Term  of this\\nAgreement.  The Company  also  reserves  the right to                            increase  or  decrease  the\\nprice  per unit  based on                            Company   wide   changes   in  unit   prices  to  all\\ndistributors of the Company,  provided however,  that                            any price changes, other than\\nthose based on the CPI,                            shall be uniformly applied to all distributors of the\\nProducts   and  shall   reasonably   applied  to  all                            distributors  of the  Products  and\\nshall  reasonably                            reflect Company's costs of manufacturing the Products\\nand/or  market  demand  for  the  Products,  provided                            further  than any increase in\\nprice based upon market                            demand   shall   not  be  so  great  as  to   deprive\\nDistributor  of  its  normal  and  customary   profit                            margin.  \", 'content_type': 'text', 'score': None, 'meta': {'company': 'Company_1', 'processed': False, '_split_id': 16, '_split_overlap': [{'doc_id': '4d14bc7f3d1b9881b1d2b739fc129dfb', 'range': (0, 628)}, {'doc_id': 'a61906796367b1b4fb1439bf80e80f0e', 'range': (629, 1570)}]}, 'id_hash_keys': ['content'], 'embedding': None, 'id': '90b898253f119e8199603caf45a8f405'}>,\n",
              " <Document: {'content': \"The Company  also  reserves  the right to                            increase  or  decrease  the\\nprice  per unit  based on                            Company   wide   changes   in  unit   prices  to  all\\ndistributors of the Company,  provided however,  that                            any price changes, other than\\nthose based on the CPI,                            shall be uniformly applied to all distributors of the\\nProducts   and  shall   reasonably   applied  to  all                            distributors  of the  Products  and\\nshall  reasonably                            reflect Company's costs of manufacturing the Products\\nand/or  market  demand  for  the  Products,  provided                            further  than any increase in\\nprice based upon market                            demand   shall   not  be  so  great  as  to   deprive\\nDistributor  of  its  normal  and  customary   profit                            margin.  The Company agrees to\\nexercise this right in                            good faith,  and  consider all  circumstances  of the\\nDistributor  and the  Company.  The CPI  referred  to                            herein in issued by the Bureau of\\nLabor Statistics of                            the U.S.  Department  of Labor.  Should the Bureau of\\nLabor Statistics discontinue  publication of the CPI,                            the parties shall accept\\ncomparable statistics on the                            purchasing  power of the consumer dollar as published\\nat the time of said  discontinuation  by  responsible                            periodical  or  recognized\\nauthority to be chosen by                            the parties.\\\\n\\\\n\\n2.5.     Resale Prices.  \", 'content_type': 'text', 'score': None, 'meta': {'company': 'Company_1', 'processed': False, '_split_id': 17, '_split_overlap': [{'doc_id': '90b898253f119e8199603caf45a8f405', 'range': (0, 941)}, {'doc_id': '7499f82092d0de08b17d8d2bdbe3b676', 'range': (1263, 1702)}]}, 'id_hash_keys': ['content'], 'embedding': None, 'id': 'a61906796367b1b4fb1439bf80e80f0e'}>,\n",
              " <Document: {'content': \"Should the Bureau of\\nLabor Statistics discontinue  publication of the CPI,                            the parties shall accept\\ncomparable statistics on the                            purchasing  power of the consumer dollar as published\\nat the time of said  discontinuation  by  responsible                            periodical  or  recognized\\nauthority to be chosen by                            the parties.\\\\n\\\\n\\n2.5.     Resale Prices.  The  Distributor  may resell  Products at such                   price,  as the\\nDistributor,  in its  sole  discretion,  shall                   determine.  While the Company has the right to\\nsuggest a range                   of  manufacturer's  suggested  retail prices for the Products,                   the\\ndistributor  is not obligated to set retail prices within                   the Company's suggested range of\\nretail prices.\\\\n\\\\n\\n2.6      Product Returns.\\\\n\\\\n                                    Page -5-\\\\n\\\\n                  (A)      Non-defective\\nProducts.  Unless the Company has first                            authorized   or   permitted   the   return   of\\nany                            non-defective   Products   and  except  as  otherwise                            permitted or\\nrequired  herein,  the Company shall not                            be   obligated   to  accept  the   return   from\\nthe                            Distributor  of any  non-defective  Products,  nor to                            make  any\\x0cexchanges  therefor,  nor  to  credit  the                            Distributor therefor. If Company does not\\ngive Annual                            Notice  pursuant to Section  3.1 hereof,  Distributor                            may,\\nwithin 90 days of  modification,  improvement or                            alteration,  return the Products to\\nthe Company.  \", 'content_type': 'text', 'score': None, 'meta': {'company': 'Company_1', 'processed': False, '_split_id': 18, '_split_overlap': [{'doc_id': 'a61906796367b1b4fb1439bf80e80f0e', 'range': (0, 439)}, {'doc_id': 'd318b8526e3421de4395aac62a7dd37c', 'range': (1568, 1838)}]}, 'id_hash_keys': ['content'], 'embedding': None, 'id': '7499f82092d0de08b17d8d2bdbe3b676'}>,\n",
              " <Document: {'content': \"If Company does not\\ngive Annual                            Notice  pursuant to Section  3.1 hereof,  Distributor                            may,\\nwithin 90 days of  modification,  improvement or                            alteration,  return the Products to\\nthe Company.  The                            Company shall not have any obligation with respect to\\nProducts  after  365  days   following   delivery  to                            Distributor, except as provided\\nherein.\\\\n\\\\n                  (B)      Defective  Products.  In the event of any  damages or\\nother  defect in a  Product  which is  discovered  by                            Distributor   within   365   days   of\\nsatisfactory                            installation  of  a  Product  at  Distributor's  or a\\nsubdistributor's   customer,  the  Distributor  shall                            promptly   report  the  same  to  the\\nCompany   and                            reasonably  demonstrate the defect to the Company. If\\nthe  Distributor  reasonably  demonstrates  that  the                            Company is responsible for such\\ndamage or defect, the                            Company  shall  promptly  deliver  and install at the\\nCompany's expense,  additional or substitute Products                            to the  subdistributor's\\ncustomer without additional                            cost or charge to the Distributor or the customer for\\nmaterial,  labor,  shipping,  insurance  or any other                            charge.\\\\n\\\\n\\n2.7      Payment Terms.  Distributor  shall pay Company  within  thirty\\\\n\\\\n\\\\n\\\\n\\\\n\\\\n                  (30)\\ndays of   Distributor's or,  as  the  case  may  be,  the                   end-user's receipt of Products.\\\\n\\\\n\\n2.8      Company  Cooperation.  \", 'content_type': 'text', 'score': None, 'meta': {'company': 'Company_1', 'processed': False, '_split_id': 19, '_split_overlap': [{'doc_id': '7499f82092d0de08b17d8d2bdbe3b676', 'range': (0, 270)}, {'doc_id': 'a686a72e2c7e434f0263a9d6a03a7840', 'range': (1538, 1762)}]}, 'id_hash_keys': ['content'], 'embedding': None, 'id': 'd318b8526e3421de4395aac62a7dd37c'}>,\n",
              " <Document: {'content': 'Distributor  shall pay Company  within  thirty\\\\n\\\\n\\\\n\\\\n\\\\n\\\\n                  (30)\\ndays of   Distributor\\'s or,  as  the  case  may  be,  the                   end-user\\'s receipt of Products.\\\\n\\\\n\\n2.8      Company  Cooperation.  The Company  shall  cooperate  with the                   Distributor  in\\nobtaining all necessary  permits and approvals                   to permit  the use of the  Products.  The\\nCompany  shall bear                   responsibility  for any  permits  needed  to  manufacture  the\\nProducts and  Distributor  shall bear  responsibility  for any                   permits needed to distribute\\nthe Products.\\\\n\\\\n3.       PRODUCTS AND WARRANTY\\\\n\\\\n\\n3.1      Product  Improvements  by the Company.  At the Company\\'s  sole                   discretion,  and\\nat  any  time,  the  Company  may  give  the                   Distributor at least 90 days advance notice\\n(\\\\\"Annual  Notice\\\\\")                   of any  modification,  improvement  or  alteration of Products\\n(\\\\\"New  Products\\\\\")  and  development  of new models of Products                   (collectively  with\\n\\\\\"New  Products\\\\\",   \\\\\"Improved  Products\\\\\").                   Except for the  Improved  Products  for\\nwhich the  Distributor                   receives the Annual  Notice,  the Company  shall sell Improved\\nProducts  to   Distributor   only  with  the  consent  of  the                   Distributor.  Any  Improved\\nProducts  shall be subject to the                   provisions  of  this  Agreement.   ', 'content_type': 'text', 'score': None, 'meta': {'company': 'Company_1', 'processed': False, '_split_id': 20, '_split_overlap': [{'doc_id': 'd318b8526e3421de4395aac62a7dd37c', 'range': (0, 224)}, {'doc_id': 'f72da1ff3567e2a73e933e63920670aa', 'range': (1391, 1491)}]}, 'id_hash_keys': ['content'], 'embedding': None, 'id': 'a686a72e2c7e434f0263a9d6a03a7840'}>,\n",
              " <Document: {'content': \"Any  Improved\\nProducts  shall be subject to the                   provisions  of  this  Agreement.   Old  Products  will\\nremain                   available unless\\\\n\\\\n                                    Page -6-\\\\n\\\\n                  Improved Products\\nperform at the same or better levels and are                   offered at reasonably  similar prices or at\\nprices  increases,                   which reasonably reflect improvements in performance.\\\\n\\\\n\\n3.2      Product Improvements by the Distributor. The Distributor shall                   disclose  to  the\\nCompany  any   modifications   to  Products                   requested  by  end-users  or  other   proposals\\nfor  Product                   improvement from end-users or the Distributor,  but shall have                   no\\nright to make modifications without Distributor's consent.\\\\n\\\\n\\n3.3      Warranty.  Company shall at all times make reasonable  efforts                   to  maintain  quality\\ncontrol  and  to  deliver  Products  to                   Distributor  which,  when received by Distributor,  or,\\nas the                   case  may  be,  the  end-user,  are  properly  and  adequately                   packaged\\nand   contained,   fully   assembled   (except  for                   miscellaneous  components  which may be\\nshipped  separately to                   prevent damage in transit),  fully functional and otherwise in\\nconformance  with the  warranties  set forth  herein.  Company                   warrants  that the\\nProducts  will be  designed,  manufactured,                   constructed,  assembled and packaged in a\\nworkmanlike  manner                   and that such Products  shall be fully  functional and fit for\\x0ctheir intended  purposes.  \", 'content_type': 'text', 'score': None, 'meta': {'company': 'Company_1', 'processed': False, '_split_id': 21, '_split_overlap': [{'doc_id': 'a686a72e2c7e434f0263a9d6a03a7840', 'range': (0, 100)}, {'doc_id': 'a6ccddd25257fc54c5ab3ab4cd979001', 'range': (1458, 1734)}]}, 'id_hash_keys': ['content'], 'embedding': None, 'id': 'f72da1ff3567e2a73e933e63920670aa'}>,\n",
              " <Document: {'content': \"Company                   warrants  that the\\nProducts  will be  designed,  manufactured,                   constructed,  assembled and packaged in a\\nworkmanlike  manner                   and that such Products  shall be fully  functional and fit for\\x0ctheir intended  purposes.  Company  further  warrants that the                   Products sold hereunder\\nshall be free from defects in design,                   materials and  workmanship  for a period of  twenty-\\nfour  (24)                   months after delivery to Distributor's  end-user.  The Company                   shall\\nnot be liable for defective Products, except as provided                   in this  Agreement.  The Distributor\\nat all times shall comply                   with all  requirements of the  Magnuson-Moss  Warranty-Federal\\nTrade Commission Improvement Act and similar federal and state                   laws and\\nregulations.\\\\n\\\\n\\n3.4      Warranty Work. If, within the twenty-four  (24) month warranty                   period set forth\\nabove,  Company  received from Distributor or                   any of  Distributor's  end-user's  a notice\\nwhich may be oral                   notice  confirmed in writing)  that any of the  Products  sold\\nhereunder do not meet the Warranties  specified above, Company                   shall  thereupon\\ncorrect  each such defect by  providing  the                   necessary repairs,  and/or replacement parts,\\nor if necessary,                   Products.  Company shall promptly respond to any timely notice\\nof defect.  \", 'content_type': 'text', 'score': None, 'meta': {'company': 'Company_1', 'processed': False, '_split_id': 22, '_split_overlap': [{'doc_id': 'f72da1ff3567e2a73e933e63920670aa', 'range': (0, 276)}, {'doc_id': '957228e0b706991a3c1854aa98213e76', 'range': (1473, 1536)}]}, 'id_hash_keys': ['content'], 'embedding': None, 'id': 'a6ccddd25257fc54c5ab3ab4cd979001'}>,\n",
              " <Document: {'content': \"Company shall promptly respond to any timely notice\\nof defect.  Unless otherwise expressly agreed to in writing by                   Distributor or Distributor's\\nand-user,  Company shall bear the                   reasonable  expense  of  all  labor,  materials  and\\nshipping                   expended  or used in  connection  with the  correction  of any                   defects in\\nthe Products  occasioned by the  non-conformance of                   the  Product  with  Company's\\nwarranty  as set forth  herein.                   Company  shall be  entitled  to  dispute  whether a Product\\nis                   defective. In the event that Company is unable or unwilling to                   promptly\\nperform any warranty work without  reasonable  cause                   and following  full and fair\\nopportunity  to do so, or in the                   event of the necessity  for  emergency  repairs of a\\ndefective                   Product  for  which  there  is no  reasonable  possibility  of\\nperformance by Company,  Distributor may perform such warranty                   work or hire a third\\nparty to perform such  warranty  work and                   the reasonable cost thereof shall be paid by\\nCompany.\\\\n\\\\n                                    Page -7-\\\\n\\\\n\\\\n\\\\n\\\\n\\\\n\\n3.5      Service of  Products  in  Territory.  \", 'content_type': 'text', 'score': None, 'meta': {'company': 'Company_1', 'processed': False, '_split_id': 23, '_split_overlap': [{'doc_id': 'a6ccddd25257fc54c5ab3ab4cd979001', 'range': (0, 63)}, {'doc_id': '7430f08af59cdde3a60e629fb264c9a1', 'range': (628, 1324)}]}, 'id_hash_keys': ['content'], 'embedding': None, 'id': '957228e0b706991a3c1854aa98213e76'}>,\n",
              " <Document: {'content': 'In the event that Company is unable or unwilling to                   promptly\\nperform any warranty work without  reasonable  cause                   and following  full and fair\\nopportunity  to do so, or in the                   event of the necessity  for  emergency  repairs of a\\ndefective                   Product  for  which  there  is no  reasonable  possibility  of\\nperformance by Company,  Distributor may perform such warranty                   work or hire a third\\nparty to perform such  warranty  work and                   the reasonable cost thereof shall be paid by\\nCompany.\\\\n\\\\n                                    Page -7-\\\\n\\\\n\\\\n\\\\n\\\\n\\\\n\\n3.5      Service of  Products  in  Territory.  Within  thirty (30) days                   after the  execution  of\\nthis  Agreement,  the Company and the                   Distributor shall mutually agree upon a reasonable\\nschedule of                   charges for after market  parts and  services  provided by the\\nCompany  or  the  Distributor  so  that  such  charges  do not                   adversely affect the\\nmarketability of the Products.\\\\n\\\\n\\n3.6.     Non-Disclosure  of  Confidential  Information.   ', 'content_type': 'text', 'score': None, 'meta': {'company': 'Company_1', 'processed': False, '_split_id': 24, '_split_overlap': [{'doc_id': '957228e0b706991a3c1854aa98213e76', 'range': (0, 696)}, {'doc_id': 'c717d97cf1d3026b435241d22c07ffd4', 'range': (697, 1159)}]}, 'id_hash_keys': ['content'], 'embedding': None, 'id': '7430f08af59cdde3a60e629fb264c9a1'}>,\n",
              " <Document: {'content': 'Within  thirty (30) days                   after the  execution  of\\nthis  Agreement,  the Company and the                   Distributor shall mutually agree upon a reasonable\\nschedule of                   charges for after market  parts and  services  provided by the\\nCompany  or  the  Distributor  so  that  such  charges  do not                   adversely affect the\\nmarketability of the Products.\\\\n\\\\n\\n3.6.     Non-Disclosure  of  Confidential  Information.   None  of  the                   parties   hereto  nor\\ntheir   associated   or  affiliated  or                   affiliated  companies  shall during the term of this\\nAgreement                   or thereafter disclose any confidential  information  obtained                   or\\nacquired by them in  connection  with the  Products and the                   business of the other,\\nincluding,  without limitation,  trade                   secrets, business techniques, technical information,\\ncustomer                   and potential customer lists,  marketing data and information,                   prices,\\nimprovements  to the  Products  in various  stages of                   development,  processes,  or  other\\nconfidential  information                   relating to the Products or the  business of the  Distributor,\\nexcept that either  party shall be  permitted  to disclose (x)                   all or portions of such\\nconfidential information on a strictly                   need-to-know  basis to the  extent  required  by an\\norder of a                   court of competent jurisdiction or by the order or demand of a\\nregulatory body having  jurisdiction  over one or both parties                   and (y) any of such\\nconfidential  information that is the sole                   property  of the  party  making  the  disclosure\\nand does not                   include  any  information   owned  by  the  other  party.  ', 'content_type': 'text', 'score': None, 'meta': {'company': 'Company_1', 'processed': False, '_split_id': 25, '_split_overlap': [{'doc_id': '7430f08af59cdde3a60e629fb264c9a1', 'range': (0, 462)}, {'doc_id': '81508237647ac66d5d704969ff49d50d', 'range': (463, 1888)}]}, 'id_hash_keys': ['content'], 'embedding': None, 'id': 'c717d97cf1d3026b435241d22c07ffd4'}>,\n",
              " <Document: {'content': 'None  of  the                   parties   hereto  nor\\ntheir   associated   or  affiliated  or                   affiliated  companies  shall during the term of this\\nAgreement                   or thereafter disclose any confidential  information  obtained                   or\\nacquired by them in  connection  with the  Products and the                   business of the other,\\nincluding,  without limitation,  trade                   secrets, business techniques, technical information,\\ncustomer                   and potential customer lists,  marketing data and information,                   prices,\\nimprovements  to the  Products  in various  stages of                   development,  processes,  or  other\\nconfidential  information                   relating to the Products or the  business of the  Distributor,\\nexcept that either  party shall be  permitted  to disclose (x)                   all or portions of such\\nconfidential information on a strictly                   need-to-know  basis to the  extent  required  by an\\norder of a                   court of competent jurisdiction or by the order or demand of a\\nregulatory body having  jurisdiction  over one or both parties                   and (y) any of such\\nconfidential  information that is the sole                   property  of the  party  making  the  disclosure\\nand does not                   include  any  information   owned  by  the  other  party.  The\\nDistributor  shall not  disclose  this  agreement  except upon                   consent of Company.\\n', 'content_type': 'text', 'score': None, 'meta': {'company': 'Company_1', 'processed': False, '_split_id': 26, '_split_overlap': [{'doc_id': 'c717d97cf1d3026b435241d22c07ffd4', 'range': (0, 1425)}, {'doc_id': 'eae32ff9ff29f71b717ddcd6dda0a035', 'range': (1426, 1530)}]}, 'id_hash_keys': ['content'], 'embedding': None, 'id': '81508237647ac66d5d704969ff49d50d'}>,\n",
              " <Document: {'content': 'The\\nDistributor  shall not  disclose  this  agreement  except upon                   consent of Company.\\nConfidential information shall not include                   information which:\\\\n\\\\n                  (A)      Is or\\x0cbecomes  generally  available  to the party who                            desires  to  disclose   such\\ninformation   (or  its                            associated  or affiliated  companies) (a  \\\\\"Disclosing\\nParty\\\\\")  other  than as a result  of a breach of this                            Agreement or some other unlawful\\nmeans;\\\\n\\\\n                  (B)      Becomes  available  to  the  Disclosing  Party  on  a                            non-\\nconfidential  basis  from a  third  party  who is                            under no confidentiality or\\nnondisclosure  obligation                            with respect to such information; or\\\\n\\\\n                  (C)\\nWas   known   to   the   Disclosing    Party   on   a                            non-confidential   basis  prior  to  the\\ndisclosure                            thereof to such  disclosing  Party by a party to this\\nAgreement.\\\\n\\\\n4.       DURATION AND TERMINATION\\\\n\\\\n\\n4.1      Duration.   Unless  earlier   terminated   otherwise  provided                   therein,  this\\nAgreement,  subject to the  commencement  date                   established  in Section 1.3,  shall be\\neffective  immediately.                   Distributor  shall submit written  reports to the Company each\\nquarter during the first year of the Term,  commencing  ninety                   (90) days after  execution of\\nthis  Agreement,  describing its                   efforts,  the potential  customers it has  approached  and\\nthe                   status of its efforts.\\\\n\\\\n\\n4.2      Termination  for  Cause.   ', 'content_type': 'text', 'score': None, 'meta': {'company': 'Company_1', 'processed': False, '_split_id': 27, '_split_overlap': [{'doc_id': '81508237647ac66d5d704969ff49d50d', 'range': (0, 104)}, {'doc_id': '2e76597f5c2f21a2af31d9646bb50bf9', 'range': (1405, 1773)}]}, 'id_hash_keys': ['content'], 'embedding': None, 'id': 'eae32ff9ff29f71b717ddcd6dda0a035'}>,\n",
              " <Document: {'content': \"Distributor  shall submit written  reports to the Company each\\nquarter during the first year of the Term,  commencing  ninety                   (90) days after  execution of\\nthis  Agreement,  describing its                   efforts,  the potential  customers it has  approached  and\\nthe                   status of its efforts.\\\\n\\\\n\\n4.2      Termination  for  Cause.   Either  party  may  terminate  this                   Agreement upon 30\\ndays\\\\n\\\\n                                    Page -8-\\\\n\\\\n                  prior written  notice to the other upon the\\noccurrence of any                   of the following events: (A) the Distributor's failure to make\\nfull and  prompt  payment  to the  Company of all sums due and                   owing to it; (b) either\\nparty's  default in the performance of                   any  of  the   material,   terms,   conditions,\\nobligations,                   undertakings,  covenants or  liabilities  set forth herein and                   such\\ndefault is not cured  within a  commercially  reasonable                   time  after  the  defaulting  party\\nhas been  notified  of the                   default  by the  other  party and (c) as  otherwise  expressly\\nprovided  herein.  In  the  event  either  party  (a)  becomes                   adjudicated insolvent,  (b)\\ndiscontinues its business, (c) has                   voluntary of  involuntary  bankruptcy  proceedings\\ninstituted                   against  it, or (d) makes an  assignment  for the  benefit  of                   creditors,\\nthe other party shall be entitled to terminate this                   Agreement effective immediately upon\\nwritten notice.\\\\n\\\\n\\n4.3      Accrued  Obligations.  \", 'content_type': 'text', 'score': None, 'meta': {'company': 'Company_1', 'processed': False, '_split_id': 28, '_split_overlap': [{'doc_id': 'eae32ff9ff29f71b717ddcd6dda0a035', 'range': (0, 368)}, {'doc_id': '3afd9c7caeeef6c5dd910730dc2a5297', 'range': (1223, 1696)}]}, 'id_hash_keys': ['content'], 'embedding': None, 'id': '2e76597f5c2f21a2af31d9646bb50bf9'}>,\n",
              " <Document: {'content': 'In  the  event  either  party  (a)  becomes                   adjudicated insolvent,  (b)\\ndiscontinues its business, (c) has                   voluntary of  involuntary  bankruptcy  proceedings\\ninstituted                   against  it, or (d) makes an  assignment  for the  benefit  of                   creditors,\\nthe other party shall be entitled to terminate this                   Agreement effective immediately upon\\nwritten notice.\\\\n\\\\n\\n4.3      Accrued  Obligations.  In the event that either Distributor or                   Company fails to\\ncomply with the terms of this Agreement, both                   Distributor and Company acknowledge and\\nagree that in addition                   to any claim for damages  either  party may have  arising from\\nthe  default of the  other,  they shall have the right to seek                   equitable  relief  by way of a\\ntemporary  restraining  order,                   preliminary  injunction,  permanent  injunction and such\\nother                   equitable  relief as may be appropriate.  In the event a party                   seeks the\\nequitable relief of a temporary  restraining  order,                   preliminary   injunction,   permanent\\ninjunction,   mandatory\\\\n\\\\n\\\\n\\\\n\\\\n\\\\n                  injunction or specific  performance  both parties\\nacknowledge                   that they shall not be required to demonstrate  the absence of                   an\\nadequate remedy at law, and neither party shall be required                   to post  bond  as a\\nprecondition  to  obtaining  a  temporary                   restraining order or preliminary  injunction.  ', 'content_type': 'text', 'score': None, 'meta': {'company': 'Company_1', 'processed': False, '_split_id': 29, '_split_overlap': [{'doc_id': '2e76597f5c2f21a2af31d9646bb50bf9', 'range': (0, 473)}, {'doc_id': '4be5d92ce9230597b3c63fc719e2eb9a', 'range': (1041, 1620)}]}, 'id_hash_keys': ['content'], 'embedding': None, 'id': '3afd9c7caeeef6c5dd910730dc2a5297'}>,\n",
              " <Document: {'content': 'In the event a party                   seeks the\\nequitable relief of a temporary  restraining  order,                   preliminary   injunction,   permanent\\ninjunction,   mandatory\\\\n\\\\n\\\\n\\\\n\\\\n\\\\n                  injunction or specific  performance  both parties\\nacknowledge                   that they shall not be required to demonstrate  the absence of                   an\\nadequate remedy at law, and neither party shall be required                   to post  bond  as a\\nprecondition  to  obtaining  a  temporary                   restraining order or preliminary  injunction.  The\\ntermination                   of this  Agreement  shall not relieve either party hereto from\\nobligations  which have occurred pursuant to the provisions of                   this Agreement prior to its\\ntermination,  nor shall it release                   either  party  hereto  from any  obligations  which  have\\nbeen                   incurred  as a  result  of  operations  conducted  under  this\\nAgreement.\\\\n\\\\n\\n4.4      Repurchase of Products.  Upon the expiration or termination of                   this  Agreement,\\npursuant to Section  4.1 or 4.2 hereof,  the                   Company may, at its option to be  exercised\\x0cwithin 30 days of                   the date of the termination of this Agreement, and in its sole\\ndiscretion,  repurchase  any Products in the possession of the                   Distributor  at the net\\ninvoice price paid by the  Distributor                   to  the  Company  less  any  applicable  special\\nallowances,                   discounts, shipping or allowances for cooperative advertising.                   ', 'content_type': 'text', 'score': None, 'meta': {'company': 'Company_1', 'processed': False, '_split_id': 30, '_split_overlap': [{'doc_id': '3afd9c7caeeef6c5dd910730dc2a5297', 'range': (0, 579)}, {'doc_id': '43f23e35c4bf0178ba6134a305051995', 'range': (1032, 1632)}]}, 'id_hash_keys': ['content'], 'embedding': None, 'id': '4be5d92ce9230597b3c63fc719e2eb9a'}>,\n",
              " <Document: {'content': \"Upon the expiration or termination of                   this  Agreement,\\npursuant to Section  4.1 or 4.2 hereof,  the                   Company may, at its option to be  exercised\\x0cwithin 30 days of                   the date of the termination of this Agreement, and in its sole\\ndiscretion,  repurchase  any Products in the possession of the                   Distributor  at the net\\ninvoice price paid by the  Distributor                   to  the  Company  less  any  applicable  special\\nallowances,                   discounts, shipping or allowances for cooperative advertising.                   If\\nCompany  terminates  the  Agreement  without  cause and for                   reasons other than\\nDistributor's  failure to meet its minimum                   expectations;   it  shall   repurchase  from\\nDistributor  any                   unopened  Product,  and shall bear all shipping,  handling and\\nrelated  costs  notwithstanding  any other  remedies  to which                   Distributor  may be\\nentitled.  On  demand  and  tender of the                   repurchase  price,  the  Distributor  shall  be\\nobligated  to                   deliver such Products to the Company. The Company reserves the\\nright to reject any Products  that are not factory  sealed and                   in new and unused  condition.\\nRepurchased  Products  shall be                   shipped at the Company's  expense,  and the Company\\nmay offset                   any indebtedness of the Distributor to the Company against the\\nrepurchase  price of such  Products.  \", 'content_type': 'text', 'score': None, 'meta': {'company': 'Company_1', 'processed': False, '_split_id': 31, '_split_overlap': [{'doc_id': '4be5d92ce9230597b3c63fc719e2eb9a', 'range': (0, 600)}, {'doc_id': '8a9286a2ab20289458c136e0efaef636', 'range': (1320, 1551)}]}, 'id_hash_keys': ['content'], 'embedding': None, 'id': '43f23e35c4bf0178ba6134a305051995'}>,\n",
              " <Document: {'content': \"Repurchased  Products  shall be                   shipped at the Company's  expense,  and the Company\\nmay offset                   any indebtedness of the Distributor to the Company against the\\nrepurchase  price of such  Products.  Following  expiration or                   termination of this\\nAgreement, the Distributor may continue to                   sell any Products in the Market which are in\\nits inventory\\\\n\\\\n                                    Page -9-\\\\n\\\\n                  and which the Company has not\\nrepurchased.\\\\n\\\\n5.       REPRESENTATIONS AND WARRANTIES AND OTHER MATTERS\\\\n\\\\n\\n5.1      Representations and Warranties of Company.\\\\n\\\\n                  (A)      The  Company  represents\\nthat,  to the  best  of its                            knowledge,  Products are in compliance with all laws,\\nand  that  the  Products  will  not be  hazardous  or                            dangerous  when  used  for  their\\nintended  purpose.                            Products  do not  cause  harmful  emissions  or other\\nenvironmental  hazards and Products do not violate or                            infringe any patents,\\ncopyrights, trademarks or other                            rights  of  nay  third  party(ies).  Company  further\\nrepresents   and  warrants  that  its  Products  will                            perform as  advertised  and\\npromoted by the Company,                            and will be approved  or  certified  by  Underwriters\\nLaboratory.\\\\n\\\\n                  (B)      The  Company  will  make   available  to  Distributor\\ncomprehensive technical support for the first Product                            Year.  Distributor will have\\ndirect access to (a) the                            Company's engineering  consultants and (b) the patent\\nholder's technicians.  \", 'content_type': 'text', 'score': None, 'meta': {'company': 'Company_1', 'processed': False, '_split_id': 32, '_split_overlap': [{'doc_id': '43f23e35c4bf0178ba6134a305051995', 'range': (0, 231)}, {'doc_id': 'a120cae259e0c1aad008b08d00600284', 'range': (1638, 1788)}]}, 'id_hash_keys': ['content'], 'embedding': None, 'id': '8a9286a2ab20289458c136e0efaef636'}>,\n",
              " <Document: {'content': \"Distributor will have\\ndirect access to (a) the                            Company's engineering  consultants and (b) the patent\\nholder's technicians.  Company's representatives will                            make themselves available\\nthree days per month in the                            first   Product   Year  to  consult  with  and  train\\nDistributor.  All costs and expenses  associated with                            the  services  provided  to\\nDistributor   hereunder,                            including travel, lodging,  engineering  consultants'\\nfees and employee time will be paid by Distributor.\\\\n\\\\n                  (C)      Company  will  timely\\nfurnish  all of  Distributor's                            requirements for Products within the Market, provided\\nit  is  given   adequate   notice  of   Distributor's                            requirements  and a  full  and  fair\\nopportunity  to                            fulfill the same.\\\\n\\\\n\\n5.2      Representations and Warranties of Distributor.\\\\n\\\\n                  (A)      Distributor   shall  be\\nentirely   responsible   for                            learning,   understanding   and  training  about  the\\nProducts,  the costs of advertising and promoting the                            Products  in the  Market\\nthrough  the  Term  of this                            Agreement.  Distributor  shall  not  issue,  print or\\ndisseminate any information about the Products in the                            first  Product  Year  without\\nthe  express   written                            consent of the Company.\\\\n\\\\n                  (B)      Distributor  will\\nnot  engage  the  services  of any                            engineering  or  consulting  firm without the\\nexpress\\\\n\\\\n\\\\n\\\\n\\\\n\\\\n                           written consent of the Company.\\\\n\\\\n\\n5.3      Indemnification.  \", 'content_type': 'text', 'score': None, 'meta': {'company': 'Company_1', 'processed': False, '_split_id': 33, '_split_overlap': [{'doc_id': '8a9286a2ab20289458c136e0efaef636', 'range': (0, 150)}, {'doc_id': 'c2216ba4078235942e8f3c0e9475c2d', 'range': (1351, 1842)}]}, 'id_hash_keys': ['content'], 'embedding': None, 'id': 'a120cae259e0c1aad008b08d00600284'}>,\n",
              " <Document: {'content': \"Distributor  shall  not  issue,  print or\\ndisseminate any information about the Products in the                            first  Product  Year  without\\nthe  express   written                            consent of the Company.\\\\n\\\\n                  (B)      Distributor  will\\nnot  engage  the  services  of any                            engineering  or  consulting  firm without the\\nexpress\\\\n\\\\n\\\\n\\\\n\\\\n\\\\n                           written consent of the Company.\\\\n\\\\n\\n5.3      Indemnification.  Company and Distributor  agree to indemnify,                   defend  and hold\\neach other  harmless  from any and all suits,                   claims, obligations, liabilities, damages, losses\\x0cand the like                   (including  attorneys'  fees and costs) relating to or arising                   out  of:\\n(A)  any  breach  of any  material  representations,                   warranties,  covenants,  obligations,\\nagreements or duties in                   connection with this  Agreement;  (b) any negligence or fault;\\n(c) any violation by either of them of the patent,  copyright,                   trademark or other\\\\n\\\\n\\nPage -10-\\\\n\\\\n                  intellectual  property  rights of third parties.  \", 'content_type': 'text', 'score': None, 'meta': {'company': 'Company_1', 'processed': False, '_split_id': 34, '_split_overlap': [{'doc_id': 'a120cae259e0c1aad008b08d00600284', 'range': (0, 491)}, {'doc_id': 'fd20adb05239c632c669bda66135d5c5', 'range': (492, 1205)}]}, 'id_hash_keys': ['content'], 'embedding': None, 'id': 'c2216ba4078235942e8f3c0e9475c2d'}>,\n",
              " <Document: {'content': \"Company and Distributor  agree to indemnify,                   defend  and hold\\neach other  harmless  from any and all suits,                   claims, obligations, liabilities, damages, losses\\x0cand the like                   (including  attorneys'  fees and costs) relating to or arising                   out  of:\\n(A)  any  breach  of any  material  representations,                   warranties,  covenants,  obligations,\\nagreements or duties in                   connection with this  Agreement;  (b) any negligence or fault;\\n(c) any violation by either of them of the patent,  copyright,                   trademark or other\\\\n\\\\n\\nPage -10-\\\\n\\\\n                  intellectual  property  rights of third parties.  In addition,                   Company\\nagrees  to  indemnify,   defend  and  hold  harmless                   Distributor from and against all suits,\\nclaims,  obligations,                   liabilities,   damages,   losses   and  the  like   (including\\nattorneys'  fees  and  costs)  arising  out of or  related  to                   Company's manufacture or\\ndesign of the Products, provided that                   Distributor  is not at fault in connection  with the\\nsame, and                   Distributor  agrees to  indemnify,  defend  and hold  harmless\\nCompany  from and  against  all  suits,  claims,  obligations,                   liabilities,   damages,  losses\\nand  the  like  (including  a                   attorneys'  fees  and  costs)  arising  out of or  related  to\\nDistributor's  sales,   marketing  practices  or  unauthorized                   Product  alteration  (provided\\nthat Company is not at fault in                   connection with same).\\\\n\\\\n\\n5.4      Product Liability  Insurance.  \", 'content_type': 'text', 'score': None, 'meta': {'company': 'Company_1', 'processed': False, '_split_id': 35, '_split_overlap': [{'doc_id': 'c2216ba4078235942e8f3c0e9475c2d', 'range': (0, 713)}, {'doc_id': '71461afd7676aa2b20a24c7f18bd7d6', 'range': (714, 1725)}]}, 'id_hash_keys': ['content'], 'embedding': None, 'id': 'fd20adb05239c632c669bda66135d5c5'}>,\n",
              " <Document: {'content': \"In addition,                   Company\\nagrees  to  indemnify,   defend  and  hold  harmless                   Distributor from and against all suits,\\nclaims,  obligations,                   liabilities,   damages,   losses   and  the  like   (including\\nattorneys'  fees  and  costs)  arising  out of or  related  to                   Company's manufacture or\\ndesign of the Products, provided that                   Distributor  is not at fault in connection  with the\\nsame, and                   Distributor  agrees to  indemnify,  defend  and hold  harmless\\nCompany  from and  against  all  suits,  claims,  obligations,                   liabilities,   damages,  losses\\nand  the  like  (including  a                   attorneys'  fees  and  costs)  arising  out of or  related  to\\nDistributor's  sales,   marketing  practices  or  unauthorized                   Product  alteration  (provided\\nthat Company is not at fault in                   connection with same).\\\\n\\\\n\\n5.4      Product Liability  Insurance.  Company will carry a reasonable                   amount of product\\nliability  insurance  through a  reasonably                   acceptable  products liability insurance company\\nand will name                   the  Distributor  as an additional  insured under that policy.\\nCompany  will make  reasonable  efforts  to  procure a policy,                   which is non-cancelable,\\nexcept upon thirty (30) days, advance                   notice to the Distributor.\\\\n\\\\n         5.5      No License.\\n\", 'content_type': 'text', 'score': None, 'meta': {'company': 'Company_1', 'processed': False, '_split_id': 36, '_split_overlap': [{'doc_id': 'fd20adb05239c632c669bda66135d5c5', 'range': (0, 1011)}, {'doc_id': 'a4b3899fd06b2dc78a549d1d71026a7a', 'range': (1286, 1507)}]}, 'id_hash_keys': ['content'], 'embedding': None, 'id': '71461afd7676aa2b20a24c7f18bd7d6'}>,\n",
              " <Document: {'content': 'Company  will make  reasonable  efforts  to  procure a policy,                   which is non-cancelable,\\nexcept upon thirty (30) days, advance                   notice to the Distributor.\\\\n\\\\n         5.5      No License.\\nThe Distributor acknowledges and agrees the except                   as provided by Section 1.2 of this\\nAgreement,  this Agreement                   will not be construed as granting by implication,  estopped or\\notherwise  any license or other  right of use with  respect to                   any present or future patent,\\ncopyright, trademark, trade name                   or other proprietary right owned by or licensed to the\\nCompany                   or any of its affiliates.\\\\n\\\\n\\n5.6      No Action to Invalidate. During the Term of this Agreement and                   for three  years\\nthereafter,  the  Distributor  (on behalf of                   itself and each of its affiliates) agrees not to\\ncommence,  or                   provide any  information to or otherwise  assist any person or\\nentity in  connection  with,  any suit,  action or  proceeding                   contesting the ownership,\\nvalidity or  enforceability  of any                   patent,  copyright,  trademark,  trade name or other\\npropriety                   right owned by or licensed to the Company,  whether  currently\\nexisting or hereinafter invented, developed or acquired unless                   required to by court order.\\n', 'content_type': 'text', 'score': None, 'meta': {'company': 'Company_1', 'processed': False, '_split_id': 37, '_split_overlap': [{'doc_id': '71461afd7676aa2b20a24c7f18bd7d6', 'range': (0, 221)}, {'doc_id': '9f3eb1dd3b5c610b07f689058032a135', 'range': (741, 1434)}]}, 'id_hash_keys': ['content'], 'embedding': None, 'id': 'a4b3899fd06b2dc78a549d1d71026a7a'}>,\n",
              " <Document: {'content': 'During the Term of this Agreement and                   for three  years\\nthereafter,  the  Distributor  (on behalf of                   itself and each of its affiliates) agrees not to\\ncommence,  or                   provide any  information to or otherwise  assist any person or\\nentity in  connection  with,  any suit,  action or  proceeding                   contesting the ownership,\\nvalidity or  enforceability  of any                   patent,  copyright,  trademark,  trade name or other\\npropriety                   right owned by or licensed to the Company,  whether  currently\\nexisting or hereinafter invented, developed or acquired unless                   required to by court order.\\nThe Distributor  agrees to inform                   the Company  promptly  and  cooperate  with the\\nCompany in the                   event the  Distributor  obtains  knowledge  of any such  suit,\\naction  or   proceeding   which  has  been   initiated  or  is                   contemplated by any other\\nperson or entity.\\\\n\\\\n\\n5.7      Nonsolicitation.\\\\n\\\\n                  (A)      During the Term of this Agreement and for a period of\\ntwelve (12) months  thereafter,  the  Distributor (on                            behalf of itself,  each of its\\naffiliates and each of                            their respective representatives) agrees that it will\\nnot  directly  or  indirectly  solicit  or  hire  any                            executive,  managerial  or technical\\nemployee of the                            Company or any of its affiliates.\\\\n\\\\n                  (B)      Distributor\\nfurther agrees that it will not interfere                            with or  otherwise  disrupt  the  business\\nrelations                            between the Company or nay of its  affiliates and any                            of their\\ncurrent or prospective customers,  suppliers                            or distributors, during the\\\\n\\\\n\\nPage -11-\\\\n\\\\n                           Term of the  Agreement  and for a period of  eighteen\\\\n\\\\n\\\\n\\\\n\\\\n\\\\n\\n(18) months thereafter,  nor will Distributor solicit                            any  customer  or  potential\\ncustomer  of Company to                            purchase a competitive product during that period.\\\\n\\\\n\\x0c5.8.     ', 'content_type': 'text', 'score': None, 'meta': {'company': 'Company_1', 'processed': False, '_split_id': 38, '_split_overlap': [{'doc_id': 'a4b3899fd06b2dc78a549d1d71026a7a', 'range': (0, 693)}, {'doc_id': '5da7e9fd81792ec361e1275420a4b370', 'range': (694, 2255)}]}, 'id_hash_keys': ['content'], 'embedding': None, 'id': '9f3eb1dd3b5c610b07f689058032a135'}>,\n",
              " <Document: {'content': 'The Distributor  agrees to inform                   the Company  promptly  and  cooperate  with the\\nCompany in the                   event the  Distributor  obtains  knowledge  of any such  suit,\\naction  or   proceeding   which  has  been   initiated  or  is                   contemplated by any other\\nperson or entity.\\\\n\\\\n\\n5.7      Nonsolicitation.\\\\n\\\\n                  (A)      During the Term of this Agreement and for a period of\\ntwelve (12) months  thereafter,  the  Distributor (on                            behalf of itself,  each of its\\naffiliates and each of                            their respective representatives) agrees that it will\\nnot  directly  or  indirectly  solicit  or  hire  any                            executive,  managerial  or technical\\nemployee of the                            Company or any of its affiliates.\\\\n\\\\n                  (B)      Distributor\\nfurther agrees that it will not interfere                            with or  otherwise  disrupt  the  business\\nrelations                            between the Company or nay of its  affiliates and any                            of their\\ncurrent or prospective customers,  suppliers                            or distributors, during the\\\\n\\\\n\\nPage -11-\\\\n\\\\n                           Term of the  Agreement  and for a period of  eighteen\\\\n\\\\n\\\\n\\\\n\\\\n\\\\n\\n(18) months thereafter,  nor will Distributor solicit                            any  customer  or  potential\\ncustomer  of Company to                            purchase a competitive product during that period.\\\\n\\\\n\\x0c5.8.     Nonpublic Information. ', 'content_type': 'text', 'score': None, 'meta': {'company': 'Company_1', 'processed': False, '_split_id': 39, '_split_overlap': [{'doc_id': '9f3eb1dd3b5c610b07f689058032a135', 'range': (0, 1561)}, {'doc_id': 'd36030765f507c0e4f2695a10f0a46e5', 'range': (1562, 1584)}]}, 'id_hash_keys': ['content'], 'embedding': None, 'id': '5da7e9fd81792ec361e1275420a4b370'}>,\n",
              " <Document: {'content': 'Nonpublic Information. The Distributor acknowledges that is it                   aware that the\\nsecurities  laws  prohibit  any person who has                   material, non-public information concerning\\nthe Company or the                   matters  which  are  the  subject  of  this   Agreement   from\\npurchasing  or selling  securities of the Company (or options,                   warrants and rights relating\\nthereto) and from  communicating                   such  information to any other person under\\ncircumstances  in                   which it is reasonably  foreseeable that such person is likely                   to\\npurchase or sell such securities.\\\\n\\\\n6.       INTERPRETATION AND ENFORCEMENT\\\\n\\\\n\\n6.1      Assignment.  No  assignment  of this  Agreement  or any  right                   accruing  hereunder\\nshall be made by the Distributor in whole                   or in part,  without the prior written consent of\\nthe Company,                   which  consent  shall  not  be  unreasonably  withheld.  ', 'content_type': 'text', 'score': None, 'meta': {'company': 'Company_1', 'processed': False, '_split_id': 40, '_split_overlap': [{'doc_id': '5da7e9fd81792ec361e1275420a4b370', 'range': (0, 22)}, {'doc_id': '3a64e524ebc69b704a57f039fcb459cf', 'range': (733, 1018)}]}, 'id_hash_keys': ['content'], 'embedding': None, 'id': 'd36030765f507c0e4f2695a10f0a46e5'}>,\n",
              " <Document: {'content': \"No  assignment  of this  Agreement  or any  right                   accruing  hereunder\\nshall be made by the Distributor in whole                   or in part,  without the prior written consent of\\nthe Company,                   which  consent  shall  not  be  unreasonably  withheld.  As  a\\ncondition  to  obtaining   such   consent,   the  Assignee  of                   Distributor's  interest hereunder\\nshall first agree in writing                   in form and  substance  satisfactory  to the Company,  that is\\nshall  assume  and  be  liable  for  the  performance  of  all                   obligations imposes by this\\nAgreement on Distributor,  whether                   such obligations have then accrued are owing, or are\\nyet to be                   performed, and shall demonstrate that is has the economic, and                   with\\napproval  of the  assignment,  the legal  capability  to                   perform  all  of the  obligations  of\\nDistributor  hereunder.                   Company  may  assign its  interest  in this  agreement  to any\\nperson or entity  which has  authority  to  fulfill  Company's                   obligations  hereunder  and\\nwhich has the economic  ability to                   perform its  obligations  hereunder.  Upon the\\nassignment of a                   party's  interest and rights in this  Agreement  the assigning\\nparty shall be relieved of all further  obligations imposed by                   this Agreement.\\n6.2      Nonwaiver of Rights. \", 'content_type': 'text', 'score': None, 'meta': {'company': 'Company_1', 'processed': False, '_split_id': 41, '_split_overlap': [{'doc_id': 'd36030765f507c0e4f2695a10f0a46e5', 'range': (0, 285)}, {'doc_id': '703df8c107daaedf192d2123d916a75e', 'range': (1264, 1496)}]}, 'id_hash_keys': ['content'], 'embedding': None, 'id': '3a64e524ebc69b704a57f039fcb459cf'}>,\n",
              " <Document: {'content': \"Upon the\\nassignment of a                   party's  interest and rights in this  Agreement  the assigning\\nparty shall be relieved of all further  obligations imposed by                   this Agreement.\\n6.2      Nonwaiver of Rights. Failure of either party to enforce any of                   the  provisions  of this\\nAgreement or any rights with respect                   thereto or failure  to  exercise  any  election\\nprovided  for                   herein shall in no way be a waiver of such provisions,  rights                   or\\nelections  or in any  way  affect  the  validity  of  this                   Agreement. The failure of either party\\nto exercise any of said                   provisions,   rights  or  elections   shall  not  preclude  or\\nprejudice  such party from later  enforcing or exercising  the                   same or any other provisions,\\nrights or elections which is may                   have under this Agreement.\\\\n\\\\n\\n6.3      Invalid  Provisions.  If any terms,  provision,  covenant,  or                   condition  of this\\nAgreement  is held by a court of competent                   jurisdiction  to  be  invalid,  void,  or\\nunenforceable,  the                   remainder  of the  provisions  shall  remain in full force and\\neffect  and  shall  in  no  way  be   affected,   impaired  or                   invalidated.\\\\n\\\\n\\n6.4      Notices.  \", 'content_type': 'text', 'score': None, 'meta': {'company': 'Company_1', 'processed': False, '_split_id': 42, '_split_overlap': [{'doc_id': '3a64e524ebc69b704a57f039fcb459cf', 'range': (0, 232)}, {'doc_id': 'b6e5b8807fa94ee72c5502b91dba0fc', 'range': (982, 1380)}]}, 'id_hash_keys': ['content'], 'embedding': None, 'id': '703df8c107daaedf192d2123d916a75e'}>,\n",
              " <Document: {'content': 'If any terms,  provision,  covenant,  or                   condition  of this\\nAgreement  is held by a court of competent                   jurisdiction  to  be  invalid,  void,  or\\nunenforceable,  the                   remainder  of the  provisions  shall  remain in full force and\\neffect  and  shall  in  no  way  be   affected,   impaired  or                   invalidated.\\\\n\\\\n\\n6.4      Notices.  Any  notice  or  other  communication   required  or                   permitted hereunder\\nshall be in writing and shall be delivered                   personally,   telegraphed,   telexed,  or  sent  by\\nfacsimile                   transmission or sent by certified, registered or express mail,                   postage\\nprepaid. Any such notice shall be deemed given when so                   delivered personally,\\\\n\\\\n\\nPage -12-\\\\n\\\\n                  telegraphed,  telexed or sent by facsimile transmission or, if\\nmailed, two (2) business days after the date of deposit in the                   United   States  mail,  by\\ncertified   mail  return   receipt                   requested, as follows:\\\\n\\\\n                  If to the Distributor to:\\nElectric City of Illinois L.L.C.                   8628 Oketo Avenue                   Bridgeview, IL  60455\\nFacsimile No.  (708) 598-4671                   Attn:  Jim Stumpe\\\\n\\\\n                  With a copy to:\\nThomas V.  McCauley                   200 W.  Adams, Suite 2500                   Chicago, IL  60606\\nFacsimile No.  (312) 346-9316\\\\n\\\\n                  If to Company to:                   Electric City Corp.\\n1280 Lanmeier Rd.                   ', 'content_type': 'text', 'score': None, 'meta': {'company': 'Company_1', 'processed': False, '_split_id': 43, '_split_overlap': [{'doc_id': '703df8c107daaedf192d2123d916a75e', 'range': (0, 398)}, {'doc_id': '25dd3901274793b8a747d07e873c262c', 'range': (1472, 1599)}]}, 'id_hash_keys': ['content'], 'embedding': None, 'id': 'b6e5b8807fa94ee72c5502b91dba0fc'}>,\n",
              " <Document: {'content': '(312) 346-9316\\\\n\\\\n                  If to Company to:                   Electric City Corp.\\n1280 Lanmeier Rd.                   Elk Grove Village, IL  60007                   Attn:  Joseph Marino,\\nPresident\\\\n\\\\n                  With a copy to:                   Kwaitt & Ruben, Ltd.                   211 Waukegan\\nRoad                   Suite 300\\\\n\\\\n\\\\n\\\\n\\\\n\\\\n                  Northfield, Illinois  60093                   Attn:    Philip E.\\x0cRuben, Esq.\\\\n\\\\n6.5      Entire Agreement.  This Agreement,  together with all exhibits attached\\nhereto which are hereby  incorporated by reference,  supersedes any and          all other\\nagreements,  either  oral or  written,  between  the parties          hereto with  respect to the subject\\nmatter  hereof and contains of the          covenants  and  agreements  between  the parties  with\\nrespect to said          matter. This Agreement may not be altered, amended or modified,  except\\nby written instrument signed by the parties hereto.\\\\n\\\\n6.6      Sample Products.  Company will,\\nduring the Term of this Agreement (and          any renewal term), provide Distributor,  at Distributor\\'s\\ncost pursuant          to the  terms of this  Agreement,  with  five  (5)  sample  units  (the\\n\\\\\"Sample\\\\\" or  \\\\\"Samples\\\\\")  for use by  Distributor  in  promoting  sales.          Distributor shall use\\nthe Samples for purposes of permitting  potential          customers  to use the Products in the field.\\nThe Samples  purchased by          Distributor hereunder shall count toward the minimum\\nexpectations under          this Agreement.\\\\n\\\\n6.7      Time of the Essence.  ', 'content_type': 'text', 'score': None, 'meta': {'company': 'Company_1', 'processed': False, '_split_id': 44, '_split_overlap': [{'doc_id': 'b6e5b8807fa94ee72c5502b91dba0fc', 'range': (0, 127)}, {'doc_id': '13c101e124cbd28e41b4b5ce494db415', 'range': (1438, 1603)}]}, 'id_hash_keys': ['content'], 'embedding': None, 'id': '25dd3901274793b8a747d07e873c262c'}>,\n",
              " <Document: {'content': 'The Samples  purchased by          Distributor hereunder shall count toward the minimum\\nexpectations under          this Agreement.\\\\n\\\\n6.7      Time of the Essence.  Time is of the essence of\\nthis Agreement.\\\\n\\\\n                                    Page -13-\\\\n\\\\n6.8      Force Majeure.  Neither party to this\\nAgreement  shall be liable to the          other  party,  nor shall be subject to  injunctive  relief by the\\nother          party if that party\\'s  performance of its duties or  obligations  under          this  Agreement\\nis the  consequence  of Force  Majeure  as  defined in          Section 2.2 hereunder.\\\\n\\\\n6.9\\nGoverning Law.  This Agreement is to be construed according to the laws          of the State of\\nIllinois.\\\\n\\\\n7.       NEW PRODUCTS\\\\n\\\\n\\n7.1      Right of Option.  Should Company  introduce  other products or                   devices as\\ncontemplated by recital paragraph \\\\\"A\\\\\",  Distributor                   shall  have  the  option  of  becoming\\nCompany\\'s   exclusive                   distributor  of such  other  Products  or  devices  within the\\nMarket.\\\\n\\\\n\\n7.2      Exercise of Option.  Distributor  shall exercise its option to                   become  exclusive\\nDistributor of other Products or devices by                   serving  written  notification  on Company of its\\nelection to                   become  exclusive  distributor  within  thirty  (30) days upon                   which\\nCompany  informed  Distributor  in writing of Company\\'s                   intention  to  introduce   other\\nProducts  or  devices.   ', 'content_type': 'text', 'score': None, 'meta': {'company': 'Company_1', 'processed': False, '_split_id': 45, '_split_overlap': [{'doc_id': '25dd3901274793b8a747d07e873c262c', 'range': (0, 165)}, {'doc_id': '1ca7b0f90ac9492618f705a43a3a8106', 'range': (1115, 1553)}]}, 'id_hash_keys': ['content'], 'embedding': None, 'id': '13c101e124cbd28e41b4b5ce494db415'}>,\n",
              " <Document: {'content': 'Distributor  shall exercise its option to                   become  exclusive\\nDistributor of other Products or devices by                   serving  written  notification  on Company of its\\nelection to                   become  exclusive  distributor  within  thirty  (30) days upon                   which\\nCompany  informed  Distributor  in writing of Company\\'s                   intention  to  introduce   other\\nProducts  or  devices.   If                   Distributor  does not exercise its option as herein  provided,\\nCompany may  distribute  the other  Products or devices within                   the Market itself or\\nthrough other distributors.\\\\n\\\\n\\n7.3      Other  Agreements.  The terms  pursuant  to which  such  other                   Products  or devices\\nshall be sold by Company to  Distributor                   shall  be  determined  by  a  separate  agreement,\\nbut  such                   agreement   shall  be   essentially  on  the  same  terms  and                   conditions\\nas herein provided,  understanding  that such terms                   as price,  quotas,  and  length  of the\\nterm of the  agreement                   shall be  reasonably  adjusted  to  reflect  the nature of the\\nother Product or device which is the subject of the agreement.\\\\n\\\\n                  In witness whereof the\\nparties have executed this Agreement as of the date first abovementioned.\\\\n\\\\n      Electric City Corp.\\nElectric City of Illinois L.L.C.\\\\n\\\\nBy:   /s/Joseph Marino                    By:   Jim Stump       -------------------\\n-------------------------------       President\\\\n\\\\n                                    Page -14-\"', 'content_type': 'text', 'score': None, 'meta': {'company': 'Company_1', 'processed': False, '_split_id': 46, '_split_overlap': [{'doc_id': '13c101e124cbd28e41b4b5ce494db415', 'range': (0, 438)}]}, 'id_hash_keys': ['content'], 'embedding': None, 'id': '1ca7b0f90ac9492618f705a43a3a8106'}>]"
            ]
          },
          "metadata": {},
          "execution_count": 5
        }
      ],
      "source": [
        "preprocessed"
      ]
    },
    {
      "cell_type": "code",
      "execution_count": null,
      "metadata": {
        "id": "DjOcbIEZKmOT"
      },
      "outputs": [],
      "source": [
        "import logging\n",
        "\n",
        "logging.basicConfig(format=\"%(levelname)s - %(name)s -  %(message)s\", level=logging.WARNING)\n",
        "logging.getLogger(\"haystack\").setLevel(logging.INFO)"
      ]
    },
    {
      "cell_type": "code",
      "execution_count": null,
      "metadata": {
        "id": "oUUkC-fGKmLo"
      },
      "outputs": [],
      "source": [
        "%%bash\n",
        "\n",
        "wget https://artifacts.elastic.co/downloads/elasticsearch/elasticsearch-7.9.2-linux-x86_64.tar.gz -q\n",
        "tar -xzf elasticsearch-7.9.2-linux-x86_64.tar.gz\n",
        "chown -R daemon:daemon elasticsearch-7.9.2"
      ]
    },
    {
      "cell_type": "code",
      "execution_count": null,
      "metadata": {
        "id": "FyOOMolTKmI2"
      },
      "outputs": [],
      "source": [
        "%%bash --bg\n",
        "\n",
        "sudo -u daemon -- elasticsearch-7.9.2/bin/elasticsearch"
      ]
    },
    {
      "cell_type": "code",
      "execution_count": null,
      "metadata": {
        "id": "Vqy00dbnKmGV"
      },
      "outputs": [],
      "source": [
        "import time\n",
        "\n",
        "time.sleep(30)"
      ]
    },
    {
      "cell_type": "code",
      "execution_count": 11,
      "metadata": {
        "id": "6jxZh6v0KmDo"
      },
      "outputs": [],
      "source": [
        "import os\n",
        "from haystack.document_stores import ElasticsearchDocumentStore\n",
        "\n",
        "# Get the host where Elasticsearch is running, default to localhost\n",
        "host = os.environ.get(\"ELASTICSEARCH_HOST\", \"localhost\")\n",
        "\n",
        "document_store = ElasticsearchDocumentStore(host=host, username=\"\", password=\"\", index=\"document\")"
      ]
    },
    {
      "cell_type": "code",
      "execution_count": null,
      "metadata": {
        "id": "X59eTNYZkMc-"
      },
      "outputs": [],
      "source": [
        "from google.colab import drive\n",
        "drive.mount('/content/drive')"
      ]
    },
    {
      "cell_type": "code",
      "execution_count": null,
      "metadata": {
        "id": "zPIvpyNAKmBB"
      },
      "outputs": [],
      "source": []
    },
    {
      "cell_type": "code",
      "execution_count": null,
      "metadata": {
        "id": "eqWD_sOMKl-I"
      },
      "outputs": [],
      "source": []
    },
    {
      "cell_type": "code",
      "execution_count": 14,
      "metadata": {
        "id": "CRWbqA9rIxYT",
        "colab": {
          "base_uri": "https://localhost:8080/"
        },
        "outputId": "feb97ec7-20da-44fe-eaa6-84043d9257f0"
      },
      "outputs": [
        {
          "output_type": "stream",
          "name": "stderr",
          "text": [
            "WARNING:haystack.document_stores.search_engine:DEPRECATION WARNINGS:\n",
            "                1. delete_all_documents() method is deprecated, please use delete_documents method\n",
            "                For more details, please refer to the issue: https://github.com/deepset-ai/haystack/issues/1045\n",
            "                \n"
          ]
        }
      ],
      "source": [
        "\n",
        "document_store = ElasticsearchDocumentStore()\n",
        "document_store.delete_all_documents()\n",
        "document_store.write_documents(preprocessed)"
      ]
    },
    {
      "cell_type": "code",
      "source": [],
      "metadata": {
        "id": "l2lhKQAXDNWF"
      },
      "execution_count": null,
      "outputs": []
    },
    {
      "cell_type": "code",
      "source": [],
      "metadata": {
        "id": "lQ4gKw97Dncu"
      },
      "execution_count": null,
      "outputs": []
    },
    {
      "cell_type": "code",
      "execution_count": null,
      "metadata": {
        "id": "MaW5BhkMIxbT"
      },
      "outputs": [],
      "source": [
        ""
      ]
    },
    {
      "cell_type": "code",
      "execution_count": 23,
      "metadata": {
        "id": "B7EQh7npIxeR"
      },
      "outputs": [],
      "source": [
        ""
      ]
    },
    {
      "cell_type": "code",
      "execution_count": null,
      "metadata": {
        "id": "b_6nrVWRIxgy"
      },
      "outputs": [],
      "source": [
        ""
      ]
    },
    {
      "cell_type": "code",
      "execution_count": 24,
      "metadata": {
        "id": "nbOPyi1iO0Iq"
      },
      "outputs": [],
      "source": [
        "questions = [\"Highlight the parts (if any) of this contract related to \\\"Document Name\\\" that should be reviewed by a lawyer. Details: The name of the contract\"]"
      ]
    },
    {
      "cell_type": "code",
      "execution_count": null,
      "metadata": {
        "id": "JOyqKjCCO0Cx"
      },
      "outputs": [],
      "source": [
        ""
      ]
    },
    {
      "cell_type": "code",
      "execution_count": null,
      "metadata": {
        "id": "kBZ-Dl91Oz7R"
      },
      "outputs": [],
      "source": [
        ""
      ]
    },
    {
      "cell_type": "code",
      "execution_count": null,
      "metadata": {
        "id": "tkzdYoH2Oz3n"
      },
      "outputs": [],
      "source": []
    },
    {
      "cell_type": "code",
      "source": [],
      "metadata": {
        "id": "xPhAN_09_vYG"
      },
      "execution_count": null,
      "outputs": []
    },
    {
      "cell_type": "code",
      "source": [
        "from haystack.nodes import DensePassageRetriever, FARMReader\n",
        "\n",
        "# Instantiate your DensePassageRetriever with your own pre-trained model\n",
        "retriever = DensePassageRetriever(\n",
        "    document_store=document_store,\n",
        "    query_embedding_model=\"/content/drive/MyDrive/final_dpr\",\n",
        "    passage_embedding_model=\"/content/drive/MyDrive/final_dpr\"\n",
        ")\n",
        "\n",
        "reader = FARMReader(model_name_or_path=\"/content/drive/MyDrive/deberta v3 base with 100/deberta-v3-base\", use_gpu=True)\n"
      ],
      "metadata": {
        "id": "EWO0KfUz_vbc",
        "colab": {
          "base_uri": "https://localhost:8080/"
        },
        "outputId": "388555b9-06da-4528-d103-bde1cfd46d71"
      },
      "execution_count": 17,
      "outputs": [
        {
          "output_type": "stream",
          "name": "stderr",
          "text": [
            "INFO:haystack.modeling.utils:Using devices: CPU - Number of GPUs: 0\n",
            "INFO:haystack.modeling.model.language_model:Auto-detected model language: english\n",
            "INFO:haystack.modeling.model.language_model:Auto-detected model language: english\n",
            "INFO:haystack.modeling.utils:Using devices: CPU - Number of GPUs: 0\n",
            "INFO:haystack.modeling.utils:Using devices: CPU - Number of GPUs: 0\n",
            "INFO:haystack.modeling.model.language_model: * LOADING MODEL: '/content/drive/MyDrive/deberta v3 base with 100/deberta-v3-base' (DebertaV2)\n",
            "INFO:haystack.modeling.model.language_model:Auto-detected model language: english\n",
            "INFO:haystack.modeling.model.language_model:Loaded '/content/drive/MyDrive/deberta v3 base with 100/deberta-v3-base' (DebertaV2 model) from model hub.\n",
            "/usr/local/lib/python3.10/dist-packages/transformers/convert_slow_tokenizer.py:515: UserWarning: The sentencepiece tokenizer that you are converting to a fast tokenizer uses the byte fallback option which is not implemented in the fast tokenizers. In practice this means that the fast version of the tokenizer can produce unknown tokens whereas the sentencepiece version would have converted these unknown tokens into a sequence of byte tokens matching the original piece of text.\n",
            "  warnings.warn(\n",
            "INFO:haystack.modeling.utils:Using devices: CPU - Number of GPUs: 0\n"
          ]
        }
      ]
    },
    {
      "cell_type": "code",
      "source": [
        "document_store.update_embeddings(retriever)"
      ],
      "metadata": {
        "id": "BwFyodJ6_viM",
        "colab": {
          "base_uri": "https://localhost:8080/"
        },
        "outputId": "30507bdc-5931-4e32-ef37-9c9009589f0a"
      },
      "execution_count": 18,
      "outputs": [
        {
          "output_type": "stream",
          "name": "stderr",
          "text": [
            "INFO:haystack.document_stores.search_engine:Updating embeddings for all 47 docs ...\n",
            "Updating embeddings:   0%|          | 0/47 [00:00<?, ? Docs/s]\n",
            "Create embeddings:   0%|          | 0/48 [00:00<?, ? Docs/s]\u001b[A\n",
            "Create embeddings:  33%|███▎      | 16/48 [00:17<00:35,  1.12s/ Docs]\u001b[A\n",
            "Create embeddings:  67%|██████▋   | 32/48 [00:36<00:18,  1.14s/ Docs]\u001b[A\n",
            "Create embeddings: 100%|██████████| 48/48 [00:53<00:00,  1.10s/ Docs]\u001b[A\n",
            "Updating embeddings: 10000 Docs [00:55, 180.60 Docs/s]\n"
          ]
        }
      ]
    },
    {
      "cell_type": "code",
      "source": [
        "from haystack.pipelines import ExtractiveQAPipeline\n",
        "\n",
        "pipeline = ExtractiveQAPipeline(reader, retriever)"
      ],
      "metadata": {
        "id": "r_x3qS8S_vlV"
      },
      "execution_count": 19,
      "outputs": []
    },
    {
      "cell_type": "code",
      "source": [
        ""
      ],
      "metadata": {
        "id": "LkaHCOhV_voV"
      },
      "execution_count": 20,
      "outputs": []
    },
    {
      "cell_type": "code",
      "source": [
        "questions = [\"Highlight the parts (if any) of this contract related to \\\"Document Name\\\" that should be reviewed by a lawyer. Details: The name of the contract\"]"
      ],
      "metadata": {
        "id": "djWhJc70Ygw_"
      },
      "execution_count": null,
      "outputs": []
    },
    {
      "cell_type": "code",
      "source": [
        "answers = []\n",
        "\n",
        "for question in questions:\n",
        "    prediction = pipeline.run(query=question,\n",
        "                 params = {\"Retriever\": {\"top_k\": 20},\n",
        "                           \"Reader\": { \"top_k\": 1 } })\n",
        "    answers.append(prediction)"
      ],
      "metadata": {
        "id": "T9HxRaY5_vrJ",
        "colab": {
          "base_uri": "https://localhost:8080/"
        },
        "outputId": "5f682cc1-cff9-4d6e-f8aa-7c3807519b4e"
      },
      "execution_count": 32,
      "outputs": [
        {
          "output_type": "stream",
          "name": "stderr",
          "text": [
            "Inferencing Samples: 100%|██████████| 2/2 [01:25<00:00, 42.55s/ Batches]\n"
          ]
        }
      ]
    },
    {
      "cell_type": "code",
      "source": [
        "for answer in answers:\n",
        "    print(\"Q:\", answer[\"query\"])\n",
        "    print(\"A:\", answer[\"answers\"][0].answer)\n",
        "    print(\"\\n\")"
      ],
      "metadata": {
        "id": "sbDatzps_vul",
        "colab": {
          "base_uri": "https://localhost:8080/"
        },
        "outputId": "2bec9d9b-8842-4c6c-b89e-a93a2b713f7b"
      },
      "execution_count": 33,
      "outputs": [
        {
          "output_type": "stream",
          "name": "stdout",
          "text": [
            "Q: Highlight the parts (if any) of this contract related to \"Document Name\" that should be reviewed by a lawyer. Details: The name of the contract\n",
            "A: Electric City of Illinois L.L.C.\n",
            "\n",
            "\n"
          ]
        }
      ]
    },
    {
      "cell_type": "code",
      "source": [],
      "metadata": {
        "id": "DpNhfI3c_v2j"
      },
      "execution_count": null,
      "outputs": []
    },
    {
      "cell_type": "code",
      "source": [],
      "metadata": {
        "id": "yyI8DRh2_v7N"
      },
      "execution_count": null,
      "outputs": []
    },
    {
      "cell_type": "code",
      "source": [],
      "metadata": {
        "id": "dTfb_P9L_wE8"
      },
      "execution_count": null,
      "outputs": []
    },
    {
      "cell_type": "code",
      "source": [],
      "metadata": {
        "id": "N6T7V6J8_wNO"
      },
      "execution_count": null,
      "outputs": []
    },
    {
      "cell_type": "code",
      "execution_count": null,
      "metadata": {
        "id": "_ukT8VhOiors"
      },
      "outputs": [],
      "source": []
    },
    {
      "cell_type": "code",
      "execution_count": null,
      "metadata": {
        "id": "iAOn_s-zioud"
      },
      "outputs": [],
      "source": [
        "import numpy as np"
      ]
    },
    {
      "cell_type": "code",
      "execution_count": null,
      "metadata": {
        "id": "wkjqAGp4ioxF"
      },
      "outputs": [],
      "source": []
    },
    {
      "cell_type": "code",
      "execution_count": null,
      "metadata": {
        "id": "T_mHuR1nm7x1"
      },
      "outputs": [],
      "source": []
    },
    {
      "cell_type": "code",
      "execution_count": null,
      "metadata": {
        "id": "HYc3wvvbiozt"
      },
      "outputs": [],
      "source": []
    },
    {
      "cell_type": "code",
      "execution_count": null,
      "metadata": {
        "id": "FezNn9hMio2o"
      },
      "outputs": [],
      "source": []
    },
    {
      "cell_type": "code",
      "execution_count": null,
      "metadata": {
        "id": "mutn5szXio5T"
      },
      "outputs": [],
      "source": []
    },
    {
      "cell_type": "code",
      "execution_count": 31,
      "metadata": {
        "id": "c1q1hADrio73",
        "colab": {
          "base_uri": "https://localhost:8080/"
        },
        "outputId": "e147f8db-e43c-484a-a997-b2955e3fbad8"
      },
      "outputs": [
        {
          "output_type": "stream",
          "name": "stdout",
          "text": [
            "{'answers': [<Answer {'answer': 'Electric City of Illinois L.L.C.', 'type': 'extractive', 'score': 0.8081110715866089, 'context': 'as follows:\\\\n\\\\n                  If to the Distributor to:\\nElectric City of Illinois L.L.C.                   8628 Oketo Avenue                   Brid', 'offsets_in_document': [{'start': 1144, 'end': 1176}], 'offsets_in_context': [{'start': 59, 'end': 91}], 'document_ids': ['b6e5b8807fa94ee72c5502b91dba0fc'], 'meta': {'_split_id': 43, '_split_overlap': [{'range': [0, 398], 'doc_id': '703df8c107daaedf192d2123d916a75e'}, {'range': [1472, 1599], 'doc_id': '25dd3901274793b8a747d07e873c262c'}], 'processed': False, 'company': 'Company_1'}}>],\n",
            " 'documents': [<Document: {'content': '\" EXHIBIT                                DISTRIBUTOR AGREEMENT\\nTHIS  DISTRIBUTOR  AGREEMENT (the  \\\\\"Agreement\\\\\")  is made by and between Electric City Corp.,\\na Delaware  corporation  (\\\\\"Company\\\\\")  and Electric City of Illinois LLC (\\\\\"Distributor\\\\\") this 7th day\\nof September, 1999.\\\\n\\\\n                                    RECITALS\\\\n\\\\n         A. The  Company\\'s  Business.  The\\nCompany is  presently  engaged in the business  of selling an energy  efficiency  device,  which is\\nreferred to as an \\\\\"Energy  Saver\\\\\"  which may be improved  or  otherwise  changed  from its present\\ncomposition (the \\\\\"Products\\\\\").  The Company may engage in the business of selling other  products\\nor  other  devices  other  than  the  Products,  which  will be considered  Products if Distributor\\nexercises its options pursuant to Section 7 hereof.\\\\n\\\\n         B. Representations.  As an inducement to\\nthe Company to enter into this Agreement,  the  Distributor  has  represented  that  it has or  will\\nhave  the facilities,  personnel,  and financial capability to promote the sale and use of Products.  As\\nan  inducement  to  Distributor  to enter into this  Agreement the Company has  represented  that it\\nhas the  facilities,  personnel  and financial capability to have the Products  produced and supplied as\\nneeded pursuant to the terms hereof.\\\\n\\\\n         C. The Distributor\\'s  Objectives.  ', 'content_type': 'text', 'score': 0.5453304376431269, 'meta': {'_split_id': 0, '_split_overlap': [{'range': [1085, 1377], 'doc_id': 'ead86cbae2f5bd9e85361e6253ddb3a1'}], 'processed': False, 'company': 'Company_1'}, 'id_hash_keys': ['content'], 'embedding': None, 'id': '14aa860f9d671baec38bcb49e8b214f1'}>,\n",
            "               <Document: {'content': \"Repurchased  Products  shall be                   shipped at the Company's  expense,  and the Company\\nmay offset                   any indebtedness of the Distributor to the Company against the\\nrepurchase  price of such  Products.  Following  expiration or                   termination of this\\nAgreement, the Distributor may continue to                   sell any Products in the Market which are in\\nits inventory\\\\n\\\\n                                    Page -9-\\\\n\\\\n                  and which the Company has not\\nrepurchased.\\\\n\\\\n5.       REPRESENTATIONS AND WARRANTIES AND OTHER MATTERS\\\\n\\\\n\\n5.1      Representations and Warranties of Company.\\\\n\\\\n                  (A)      The  Company  represents\\nthat,  to the  best  of its                            knowledge,  Products are in compliance with all laws,\\nand  that  the  Products  will  not be  hazardous  or                            dangerous  when  used  for  their\\nintended  purpose.                            Products  do not  cause  harmful  emissions  or other\\nenvironmental  hazards and Products do not violate or                            infringe any patents,\\ncopyrights, trademarks or other                            rights  of  nay  third  party(ies).  Company  further\\nrepresents   and  warrants  that  its  Products  will                            perform as  advertised  and\\npromoted by the Company,                            and will be approved  or  certified  by  Underwriters\\nLaboratory.\\\\n\\\\n                  (B)      The  Company  will  make   available  to  Distributor\\ncomprehensive technical support for the first Product                            Year.  Distributor will have\\ndirect access to (a) the                            Company's engineering  consultants and (b) the patent\\nholder's technicians.  \", 'content_type': 'text', 'score': 0.5385505126629581, 'meta': {'_split_id': 32, '_split_overlap': [{'range': [0, 231], 'doc_id': '43f23e35c4bf0178ba6134a305051995'}, {'range': [1638, 1788], 'doc_id': 'a120cae259e0c1aad008b08d00600284'}], 'processed': False, 'company': 'Company_1'}, 'id_hash_keys': ['content'], 'embedding': None, 'id': '8a9286a2ab20289458c136e0efaef636'}>,\n",
            "               <Document: {'content': '(312) 346-9316\\\\n\\\\n                  If to Company to:                   Electric City Corp.\\n1280 Lanmeier Rd.                   Elk Grove Village, IL  60007                   Attn:  Joseph Marino,\\nPresident\\\\n\\\\n                  With a copy to:                   Kwaitt & Ruben, Ltd.                   211 Waukegan\\nRoad                   Suite 300\\\\n\\\\n\\\\n\\\\n\\\\n\\\\n                  Northfield, Illinois  60093                   Attn:    Philip E.\\x0cRuben, Esq.\\\\n\\\\n6.5      Entire Agreement.  This Agreement,  together with all exhibits attached\\nhereto which are hereby  incorporated by reference,  supersedes any and          all other\\nagreements,  either  oral or  written,  between  the parties          hereto with  respect to the subject\\nmatter  hereof and contains of the          covenants  and  agreements  between  the parties  with\\nrespect to said          matter. This Agreement may not be altered, amended or modified,  except\\nby written instrument signed by the parties hereto.\\\\n\\\\n6.6      Sample Products.  Company will,\\nduring the Term of this Agreement (and          any renewal term), provide Distributor,  at Distributor\\'s\\ncost pursuant          to the  terms of this  Agreement,  with  five  (5)  sample  units  (the\\n\\\\\"Sample\\\\\" or  \\\\\"Samples\\\\\")  for use by  Distributor  in  promoting  sales.          Distributor shall use\\nthe Samples for purposes of permitting  potential          customers  to use the Products in the field.\\nThe Samples  purchased by          Distributor hereunder shall count toward the minimum\\nexpectations under          this Agreement.\\\\n\\\\n6.7      Time of the Essence.  ', 'content_type': 'text', 'score': 0.5346578330490044, 'meta': {'_split_id': 44, '_split_overlap': [{'range': [0, 127], 'doc_id': 'b6e5b8807fa94ee72c5502b91dba0fc'}, {'range': [1438, 1603], 'doc_id': '13c101e124cbd28e41b4b5ce494db415'}], 'processed': False, 'company': 'Company_1'}, 'id_hash_keys': ['content'], 'embedding': None, 'id': '25dd3901274793b8a747d07e873c262c'}>,\n",
            "               <Document: {'content': 'Within  thirty (30) days                   after the  execution  of\\nthis  Agreement,  the Company and the                   Distributor shall mutually agree upon a reasonable\\nschedule of                   charges for after market  parts and  services  provided by the\\nCompany  or  the  Distributor  so  that  such  charges  do not                   adversely affect the\\nmarketability of the Products.\\\\n\\\\n\\n3.6.     Non-Disclosure  of  Confidential  Information.   None  of  the                   parties   hereto  nor\\ntheir   associated   or  affiliated  or                   affiliated  companies  shall during the term of this\\nAgreement                   or thereafter disclose any confidential  information  obtained                   or\\nacquired by them in  connection  with the  Products and the                   business of the other,\\nincluding,  without limitation,  trade                   secrets, business techniques, technical information,\\ncustomer                   and potential customer lists,  marketing data and information,                   prices,\\nimprovements  to the  Products  in various  stages of                   development,  processes,  or  other\\nconfidential  information                   relating to the Products or the  business of the  Distributor,\\nexcept that either  party shall be  permitted  to disclose (x)                   all or portions of such\\nconfidential information on a strictly                   need-to-know  basis to the  extent  required  by an\\norder of a                   court of competent jurisdiction or by the order or demand of a\\nregulatory body having  jurisdiction  over one or both parties                   and (y) any of such\\nconfidential  information that is the sole                   property  of the  party  making  the  disclosure\\nand does not                   include  any  information   owned  by  the  other  party.  ', 'content_type': 'text', 'score': 0.5341168291878803, 'meta': {'_split_id': 25, '_split_overlap': [{'range': [0, 462], 'doc_id': '7430f08af59cdde3a60e629fb264c9a1'}, {'range': [463, 1888], 'doc_id': '81508237647ac66d5d704969ff49d50d'}], 'processed': False, 'company': 'Company_1'}, 'id_hash_keys': ['content'], 'embedding': None, 'id': 'c717d97cf1d3026b435241d22c07ffd4'}>,\n",
            "               <Document: {'content': \"Upon the expiration or termination of                   this  Agreement,\\npursuant to Section  4.1 or 4.2 hereof,  the                   Company may, at its option to be  exercised\\x0cwithin 30 days of                   the date of the termination of this Agreement, and in its sole\\ndiscretion,  repurchase  any Products in the possession of the                   Distributor  at the net\\ninvoice price paid by the  Distributor                   to  the  Company  less  any  applicable  special\\nallowances,                   discounts, shipping or allowances for cooperative advertising.                   If\\nCompany  terminates  the  Agreement  without  cause and for                   reasons other than\\nDistributor's  failure to meet its minimum                   expectations;   it  shall   repurchase  from\\nDistributor  any                   unopened  Product,  and shall bear all shipping,  handling and\\nrelated  costs  notwithstanding  any other  remedies  to which                   Distributor  may be\\nentitled.  On  demand  and  tender of the                   repurchase  price,  the  Distributor  shall  be\\nobligated  to                   deliver such Products to the Company. The Company reserves the\\nright to reject any Products  that are not factory  sealed and                   in new and unused  condition.\\nRepurchased  Products  shall be                   shipped at the Company's  expense,  and the Company\\nmay offset                   any indebtedness of the Distributor to the Company against the\\nrepurchase  price of such  Products.  \", 'content_type': 'text', 'score': 0.5313992013491373, 'meta': {'_split_id': 31, '_split_overlap': [{'range': [0, 600], 'doc_id': '4be5d92ce9230597b3c63fc719e2eb9a'}, {'range': [1320, 1551], 'doc_id': '8a9286a2ab20289458c136e0efaef636'}], 'processed': False, 'company': 'Company_1'}, 'id_hash_keys': ['content'], 'embedding': None, 'id': '43f23e35c4bf0178ba6134a305051995'}>,\n",
            "               <Document: {'content': \"If Distributor                            complies with\\nall of the terms of this Agreement, the                            Agreement  shall be  renewable on an annual\\nbasis for                            one (1) year terms for up to  another  ten (10) years                            on the\\nsame terms and conditions as set forth herein.                            All renewals of this  Agreement  shall\\nbe on the same                            terms and conditions as are set forth herein.\\\\n\\\\n\\n1.4      Company's Obligation.  Company shall sell and deliver                            as  provided  in  Section\\n2.3 of this  Agreement  to                            Distributor  on the  price  terms  set  forth in this\\nAgreement  or as  amended  from  time  to  time  such                            quantity of Products as\\nDistributor from time to time                            orders  from  Company.   Company  shall  promote  and\\nadvertise the Products generally, at its own expense,                            and   shall   furnish   Distributor\\ncopies  at  all                            advertisement and promotional materials.\\\\n\\\\n\\n1.5      The Distributor's Obligation. The Distributor, at its                            own expense,  shall promote\\nthe distribution,  sales,                            and use of Products in the Market.\\\\n\\\\n\\n1.6      Distributor's  Terms  and  Minimum  Expectations.  \", 'content_type': 'text', 'score': 0.5299369991824683, 'meta': {'_split_id': 4, '_split_overlap': [{'range': [0, 365], 'doc_id': '67672e949f84c3293c781a92b413bf25'}, {'range': [1181, 1411], 'doc_id': 'a78d719419e352d0b4ca90cc2f2f5a2e'}], 'processed': False, 'company': 'Company_1'}, 'id_hash_keys': ['content'], 'embedding': None, 'id': 'b5cecbdb6d4b19918dda877083ca7cff'}>,\n",
            "               <Document: {'content': 'The relationship between the Company                   and the\\nDistributor\\\\n\\\\n                                    Page -3-\\\\n\\\\n                  is that of vendor and vendee.  This\\nAgreement does not create                   the  relationship  of principal  and agent between the\\nCompany                   and the Distributor for any purpose whatsoever. This Agreement                   shall\\nnot be construed as constituting the Distributor and the                   Company as partners, joint\\nventurers, or as creating any other                   form of legal  association or  arrangement  which would\\nimpose                   liability  upon one party for the act or omission of the other                   party.\\nNeither  party is granted any express or implied right                   of  authority  by the other  party to\\nassume or to create  any                   obligation  or  responsibility  on behalf of or in the name of\\nthe other  party,  or to bind the other party in any manner or                   thing whatsoever.\\\\n\\\\n2.\\nPURCHASE OF PRODUCTS\\\\n\\\\n         2.1      Orders.  The Distributor shall order Products from the\\nCompany                   on a purchase  order form  mutually  acceptable to the Company                   and\\nDistributor and which is consistent with Exhibit B hereto,                   and  which  incorporates  the\\nterms  and  provisions  of this                   Distributor  Agreement.  The  Distributor  shall  not order or\\npurchase Products from any source other than the Company.  All                   orders shall be subject to\\nacceptance and  confirmation by the                   Company.  ', 'content_type': 'text', 'score': 0.5296661896807988, 'meta': {'_split_id': 10, '_split_overlap': [{'range': [0, 174], 'doc_id': '6ff52ddd513522439376aabe6624dc49'}, {'range': [1526, 1638], 'doc_id': '7d9c6c9d2ae9e667be04fa6822c7663c'}], 'processed': False, 'company': 'Company_1'}, 'id_hash_keys': ['content'], 'embedding': None, 'id': 'a66aa5b9194e158eea46f10fd203851e'}>,\n",
            "               <Document: {'content': 'The prices for  Products in\\nthe first  Product  Year are  supplied  by Company as                            Exhibit C.\\\\n\\\\n                  (B)\\nInflation Price  Adjustment.  The prices set forth in                            Section   2.4(a)  shall  be  subject\\nto   adjustment                            annually  on the  first  day  of  each  Product  Year\\nbeginning in the calendar  year 2000 and on the first                            day of each succeeding Product\\nYear for the remainder                            of the Term and all  renewals  of this  Agreement  in\\nproportion   to  the  increase  or  decrease  in  the                            Consumer  Price Index (CPI) as\\ncompared to the CPI as                            it  existed  on the  first  day of the  Term  of this\\nAgreement.  ', 'content_type': 'text', 'score': 0.5276872483617923, 'meta': {'_split_id': 15, '_split_overlap': [{'range': [0, 174], 'doc_id': '5651d8e864a7fd83e40794aa6afeb2e3'}, {'range': [175, 803], 'doc_id': '90b898253f119e8199603caf45a8f405'}], 'processed': False, 'company': 'Company_1'}, 'id_hash_keys': ['content'], 'embedding': None, 'id': '4d14bc7f3d1b9881b1d2b739fc129dfb'}>,\n",
            "               <Document: {'content': 'Distributor may file\\nwith the appropriate                            state and local authorities assumed name certificates\\nas required.  Copies of all documents relating to the                            use of the Names shall be\\nforwarded  to the Company.                            Upon termination of this Agreement  Distributor shall\\nhave no further  right to the Names and said  License                            to use the Names shall\\nterminate.  Distributor  shall                            have  no  right  to  sublicense  the  Names  or to do\\nbusiness  under any other names without the Company\\'s                            prior  approval in writing.\\nThe parties  acknowledge                            that the  terms  herein  consist  of there  terms for\\x0cIllinois.  At the  request  of  either  party,  a new                            agreement reflecting the terms and\\nconditions of this                            Agreement,  may be executed  for each state or entity\\nrepresenting each state.\\\\n\\\\n\\\\n\\\\n\\\\n\\\\n\\n1.3      Term.  The term of this  Agreement  shall be ten (10)                            years (the \\\\\"Term\\\\\")\\nwhich shall  commence on the date                            upon which the Company  delivers to  Distributor\\nthe                            last Sample, as defined  hereinafter.  If Distributor                            complies with\\nall of the terms of this Agreement, the                            Agreement  shall be  renewable on an annual\\nbasis for                            one (1) year terms for up to  another  ten (10) years                            on the\\nsame terms and conditions as set forth herein.                            ', 'content_type': 'text', 'score': 0.5275812232193258, 'meta': {'_split_id': 3, '_split_overlap': [{'range': [0, 136], 'doc_id': '53fa7c616fbaa3253119b3958d0811a2'}, {'range': [1313, 1678], 'doc_id': 'b5cecbdb6d4b19918dda877083ca7cff'}], 'processed': False, 'company': 'Company_1'}, 'id_hash_keys': ['content'], 'embedding': None, 'id': '67672e949f84c3293c781a92b413bf25'}>,\n",
            "               <Document: {'content': 'As\\nan  inducement  to  Distributor  to enter into this  Agreement the Company has  represented  that it\\nhas the  facilities,  personnel  and financial capability to have the Products  produced and supplied as\\nneeded pursuant to the terms hereof.\\\\n\\\\n         C. The Distributor\\'s  Objectives.  The Distributor\\ndesires to become a distributor  for the Company and to develop  demand for and sell and  distribute\\nProducts  solely  for the use within the State of  Illinois,  including  but not limited to public  and\\nprivate  entities,  institutions,  corporations,  public schools, park districts,  corrections facilities,\\nairports,  government housing authorities and other government agencies and facilities (the\\n\\\\\"Market\\\\\").\\\\n\\\\n         D. The Company\\'s  Appointment.  The Company appoints the Distributor as an\\nexclusive  distributor  of Products in the Market,  subject to the terms and conditions of this\\nAgreement.\\\\n\\\\n\\n1.       ESTABLISHMENT OF DISTRIBUTORSHIP\\\\n\\\\n\\n1.1      Grant  and   Acceptance.   Company  hereby   appoints   Distributor as Company\\'s exclusive\\ndistributor within     the Market and grants to  Distributor  the  exclusive                            right  to sell\\nand  distribute  Products  within  the                            Market,   and   Distributor   hereby   accepts\\nsuch                            appointment  and such grant,  in accordance  with the                            terms and\\nconditions of this  Agreement.  ', 'content_type': 'text', 'score': 0.5272664230893366, 'meta': {'_split_id': 1, '_split_overlap': [{'range': [0, 292], 'doc_id': '14aa860f9d671baec38bcb49e8b214f1'}, {'range': [1006, 1456], 'doc_id': '53fa7c616fbaa3253119b3958d0811a2'}], 'processed': False, 'company': 'Company_1'}, 'id_hash_keys': ['content'], 'embedding': None, 'id': 'ead86cbae2f5bd9e85361e6253ddb3a1'}>,\n",
            "               <Document: {'content': 'Nonpublic Information. The Distributor acknowledges that is it                   aware that the\\nsecurities  laws  prohibit  any person who has                   material, non-public information concerning\\nthe Company or the                   matters  which  are  the  subject  of  this   Agreement   from\\npurchasing  or selling  securities of the Company (or options,                   warrants and rights relating\\nthereto) and from  communicating                   such  information to any other person under\\ncircumstances  in                   which it is reasonably  foreseeable that such person is likely                   to\\npurchase or sell such securities.\\\\n\\\\n6.       INTERPRETATION AND ENFORCEMENT\\\\n\\\\n\\n6.1      Assignment.  No  assignment  of this  Agreement  or any  right                   accruing  hereunder\\nshall be made by the Distributor in whole                   or in part,  without the prior written consent of\\nthe Company,                   which  consent  shall  not  be  unreasonably  withheld.  ', 'content_type': 'text', 'score': 0.5270126729079202, 'meta': {'_split_id': 40, '_split_overlap': [{'range': [0, 22], 'doc_id': '5da7e9fd81792ec361e1275420a4b370'}, {'range': [733, 1018], 'doc_id': '3a64e524ebc69b704a57f039fcb459cf'}], 'processed': False, 'company': 'Company_1'}, 'id_hash_keys': ['content'], 'embedding': None, 'id': 'd36030765f507c0e4f2695a10f0a46e5'}>,\n",
            "               <Document: {'content': 'Distributor   shall  make                   reasonable  efforts  to notify  the  Company  of the\\nproposed                   delivery  schedule before accepting a customer order and shall                   give\\nthe  Company  written  notice  of any  customer  purchase                   orders which  imposes  liability\\x0cfor late shipment and neither                   the  Distributor  nor the Company  shall have a liability  for\\nconsequential  or  liquidated   damages   pertaining  to  late                   delivery unless Company\\nspecifically  acknowledges and agrees                   in  writing  to the  same.  The  Distributor  agrees\\nthat the                   Company  shall not be liable for its failure to perform due to                   any\\noccurrence  beyond  the  Company\\'s   reasonable  control,                   including, but not limited to,\\nacts of God, fires,\\\\n\\\\n                                    Page -4-\\\\n\\\\n                  floods,  wars,  sabotage,  accidents\\nin  shipping  beyond the                   Company\\'s  control,  labor strikes other than strikes  against\\nthe Company itself,  weather conditions or foreign or domestic                   government  regulation  or\\nauthority  which  directly  affects                   Company\\'s ability to deliver Product.\\\\n\\\\n\\n2.3      Delivery.  Other than \\\\\"drop ship\\\\\"  deliveries,  all deliveries\\\\n\\\\n\\\\n\\\\n\\\\n\\\\n                  made\\npursuant to this  Agreement  shall be FOB the  Company\\'s                   facilities  located within the\\ncontinental  United States by a                   carrier authorized by the Distributor.\\\\n\\\\n\\n2.4.     Prices.\\\\n\\\\n                  (A)      Prices For Basic  Units.  The prices for  Products in\\nthe first  Product  Year are  supplied  by Company as                            Exhibit C.\\\\n\\\\n                  (B)\\nInflation Price  Adjustment.  ', 'content_type': 'text', 'score': 0.525223569996383, 'meta': {'_split_id': 14, '_split_overlap': [{'range': [0, 618], 'doc_id': '7d2780f4d8abbdac7374e739eb755f66'}, {'range': [1679, 1853], 'doc_id': '4d14bc7f3d1b9881b1d2b739fc129dfb'}], 'processed': False, 'company': 'Company_1'}, 'id_hash_keys': ['content'], 'embedding': None, 'id': '5651d8e864a7fd83e40794aa6afeb2e3'}>,\n",
            "               <Document: {'content': 'In the event a party                   seeks the\\nequitable relief of a temporary  restraining  order,                   preliminary   injunction,   permanent\\ninjunction,   mandatory\\\\n\\\\n\\\\n\\\\n\\\\n\\\\n                  injunction or specific  performance  both parties\\nacknowledge                   that they shall not be required to demonstrate  the absence of                   an\\nadequate remedy at law, and neither party shall be required                   to post  bond  as a\\nprecondition  to  obtaining  a  temporary                   restraining order or preliminary  injunction.  The\\ntermination                   of this  Agreement  shall not relieve either party hereto from\\nobligations  which have occurred pursuant to the provisions of                   this Agreement prior to its\\ntermination,  nor shall it release                   either  party  hereto  from any  obligations  which  have\\nbeen                   incurred  as a  result  of  operations  conducted  under  this\\nAgreement.\\\\n\\\\n\\n4.4      Repurchase of Products.  Upon the expiration or termination of                   this  Agreement,\\npursuant to Section  4.1 or 4.2 hereof,  the                   Company may, at its option to be  exercised\\x0cwithin 30 days of                   the date of the termination of this Agreement, and in its sole\\ndiscretion,  repurchase  any Products in the possession of the                   Distributor  at the net\\ninvoice price paid by the  Distributor                   to  the  Company  less  any  applicable  special\\nallowances,                   discounts, shipping or allowances for cooperative advertising.                   ', 'content_type': 'text', 'score': 0.5232846456016522, 'meta': {'_split_id': 30, '_split_overlap': [{'range': [0, 579], 'doc_id': '3afd9c7caeeef6c5dd910730dc2a5297'}, {'range': [1032, 1632], 'doc_id': '43f23e35c4bf0178ba6134a305051995'}], 'processed': False, 'company': 'Company_1'}, 'id_hash_keys': ['content'], 'embedding': None, 'id': '4be5d92ce9230597b3c63fc719e2eb9a'}>,\n",
            "               <Document: {'content': \"Distributor will have\\ndirect access to (a) the                            Company's engineering  consultants and (b) the patent\\nholder's technicians.  Company's representatives will                            make themselves available\\nthree days per month in the                            first   Product   Year  to  consult  with  and  train\\nDistributor.  All costs and expenses  associated with                            the  services  provided  to\\nDistributor   hereunder,                            including travel, lodging,  engineering  consultants'\\nfees and employee time will be paid by Distributor.\\\\n\\\\n                  (C)      Company  will  timely\\nfurnish  all of  Distributor's                            requirements for Products within the Market, provided\\nit  is  given   adequate   notice  of   Distributor's                            requirements  and a  full  and  fair\\nopportunity  to                            fulfill the same.\\\\n\\\\n\\n5.2      Representations and Warranties of Distributor.\\\\n\\\\n                  (A)      Distributor   shall  be\\nentirely   responsible   for                            learning,   understanding   and  training  about  the\\nProducts,  the costs of advertising and promoting the                            Products  in the  Market\\nthrough  the  Term  of this                            Agreement.  Distributor  shall  not  issue,  print or\\ndisseminate any information about the Products in the                            first  Product  Year  without\\nthe  express   written                            consent of the Company.\\\\n\\\\n                  (B)      Distributor  will\\nnot  engage  the  services  of any                            engineering  or  consulting  firm without the\\nexpress\\\\n\\\\n\\\\n\\\\n\\\\n\\\\n                           written consent of the Company.\\\\n\\\\n\\n5.3      Indemnification.  \", 'content_type': 'text', 'score': 0.5225838731961099, 'meta': {'_split_id': 33, '_split_overlap': [{'range': [0, 150], 'doc_id': '8a9286a2ab20289458c136e0efaef636'}, {'range': [1351, 1842], 'doc_id': 'c2216ba4078235942e8f3c0e9475c2d'}], 'processed': False, 'company': 'Company_1'}, 'id_hash_keys': ['content'], 'embedding': None, 'id': 'a120cae259e0c1aad008b08d00600284'}>,\n",
            "               <Document: {'content': 'Distributor  shall pay Company  within  thirty\\\\n\\\\n\\\\n\\\\n\\\\n\\\\n                  (30)\\ndays of   Distributor\\'s or,  as  the  case  may  be,  the                   end-user\\'s receipt of Products.\\\\n\\\\n\\n2.8      Company  Cooperation.  The Company  shall  cooperate  with the                   Distributor  in\\nobtaining all necessary  permits and approvals                   to permit  the use of the  Products.  The\\nCompany  shall bear                   responsibility  for any  permits  needed  to  manufacture  the\\nProducts and  Distributor  shall bear  responsibility  for any                   permits needed to distribute\\nthe Products.\\\\n\\\\n3.       PRODUCTS AND WARRANTY\\\\n\\\\n\\n3.1      Product  Improvements  by the Company.  At the Company\\'s  sole                   discretion,  and\\nat  any  time,  the  Company  may  give  the                   Distributor at least 90 days advance notice\\n(\\\\\"Annual  Notice\\\\\")                   of any  modification,  improvement  or  alteration of Products\\n(\\\\\"New  Products\\\\\")  and  development  of new models of Products                   (collectively  with\\n\\\\\"New  Products\\\\\",   \\\\\"Improved  Products\\\\\").                   Except for the  Improved  Products  for\\nwhich the  Distributor                   receives the Annual  Notice,  the Company  shall sell Improved\\nProducts  to   Distributor   only  with  the  consent  of  the                   Distributor.  Any  Improved\\nProducts  shall be subject to the                   provisions  of  this  Agreement.   ', 'content_type': 'text', 'score': 0.5216991118404661, 'meta': {'_split_id': 20, '_split_overlap': [{'range': [0, 224], 'doc_id': 'd318b8526e3421de4395aac62a7dd37c'}, {'range': [1391, 1491], 'doc_id': 'f72da1ff3567e2a73e933e63920670aa'}], 'processed': False, 'company': 'Company_1'}, 'id_hash_keys': ['content'], 'embedding': None, 'id': 'a686a72e2c7e434f0263a9d6a03a7840'}>,\n",
            "               <Document: {'content': \"Company                   warrants  that the\\nProducts  will be  designed,  manufactured,                   constructed,  assembled and packaged in a\\nworkmanlike  manner                   and that such Products  shall be fully  functional and fit for\\x0ctheir intended  purposes.  Company  further  warrants that the                   Products sold hereunder\\nshall be free from defects in design,                   materials and  workmanship  for a period of  twenty-\\nfour  (24)                   months after delivery to Distributor's  end-user.  The Company                   shall\\nnot be liable for defective Products, except as provided                   in this  Agreement.  The Distributor\\nat all times shall comply                   with all  requirements of the  Magnuson-Moss  Warranty-Federal\\nTrade Commission Improvement Act and similar federal and state                   laws and\\nregulations.\\\\n\\\\n\\n3.4      Warranty Work. If, within the twenty-four  (24) month warranty                   period set forth\\nabove,  Company  received from Distributor or                   any of  Distributor's  end-user's  a notice\\nwhich may be oral                   notice  confirmed in writing)  that any of the  Products  sold\\nhereunder do not meet the Warranties  specified above, Company                   shall  thereupon\\ncorrect  each such defect by  providing  the                   necessary repairs,  and/or replacement parts,\\nor if necessary,                   Products.  Company shall promptly respond to any timely notice\\nof defect.  \", 'content_type': 'text', 'score': 0.5215638654546436, 'meta': {'_split_id': 22, '_split_overlap': [{'range': [0, 276], 'doc_id': 'f72da1ff3567e2a73e933e63920670aa'}, {'range': [1473, 1536], 'doc_id': '957228e0b706991a3c1854aa98213e76'}], 'processed': False, 'company': 'Company_1'}, 'id_hash_keys': ['content'], 'embedding': None, 'id': 'a6ccddd25257fc54c5ab3ab4cd979001'}>,\n",
            "               <Document: {'content': \"Distributor's  expected  sales shall include the purchase\\nof the Samples as defined hereinafter.\\\\n\\\\n         Sales in excess of the  expected  sales  which are\\nactually  made in a Product Year may be applied to meet the  expectations for the next Product Year.\\nAny such carry-over from one year to the next Product Year may not be considered in determining\\nwhether there is a carry-over from that next Product Year. Thus, by way of example and not\\nlimitation,  if there was an expectation of 50 in year one and 200 for  year two and 60 units  are sold\\nin year one and 195  units  are sold in year two,  the  expectation  for year two will have been met,\\x0cbut there will be no carry-over to year three. \", 'content_type': 'text', 'score': 0.5212314753369147, 'meta': {'_split_id': 8, '_split_overlap': [{'range': [0, 260], 'doc_id': '3ae048f556ea8d68bec99c1119bbe09e'}, {'range': [416, 700], 'doc_id': '6ff52ddd513522439376aabe6624dc49'}], 'processed': False, 'company': 'Company_1'}, 'id_hash_keys': ['content'], 'embedding': None, 'id': 'daa859994f2ad5180436799fdcd8c8c'}>,\n",
            "               <Document: {'content': \"The                   Company  may refuse to accept a purchase  order on\\nthe grounds                   that it cannot meet the delivery schedule therein, and if as a                   result\\nof  such  failure  or  delay   Distributor  loses  its                   customer's  orders  for those  Products,\\nthe  number of units                   which  Distributor  ordered but were not timely  delivered  to\\nDistributor  or to  Distributor's  customer  will be  credited                   against   Distributor's\\nminimum.   Distributor   shall  make                   reasonable  efforts  to notify  the  Company  of the\\nproposed                   delivery  schedule before accepting a customer order and shall                   give\\nthe  Company  written  notice  of any  customer  purchase                   orders which  imposes  liability\\x0cfor late shipment and neither                   the  Distributor  nor the Company  shall have a liability  for\\nconsequential  or  liquidated   damages   pertaining  to  late                   delivery unless Company\\nspecifically  acknowledges and agrees                   in  writing  to the  same.  \", 'content_type': 'text', 'score': 0.5198468915711285, 'meta': {'_split_id': 13, '_split_overlap': [{'range': [0, 522], 'doc_id': 'eec528a99baf5d287f3078c9a88e4515'}, {'range': [523, 1141], 'doc_id': '5651d8e864a7fd83e40794aa6afeb2e3'}], 'processed': False, 'company': 'Company_1'}, 'id_hash_keys': ['content'], 'embedding': None, 'id': '7d2780f4d8abbdac7374e739eb755f66'}>,\n",
            "               <Document: {'content': \"Company and Distributor  agree to indemnify,                   defend  and hold\\neach other  harmless  from any and all suits,                   claims, obligations, liabilities, damages, losses\\x0cand the like                   (including  attorneys'  fees and costs) relating to or arising                   out  of:\\n(A)  any  breach  of any  material  representations,                   warranties,  covenants,  obligations,\\nagreements or duties in                   connection with this  Agreement;  (b) any negligence or fault;\\n(c) any violation by either of them of the patent,  copyright,                   trademark or other\\\\n\\\\n\\nPage -10-\\\\n\\\\n                  intellectual  property  rights of third parties.  In addition,                   Company\\nagrees  to  indemnify,   defend  and  hold  harmless                   Distributor from and against all suits,\\nclaims,  obligations,                   liabilities,   damages,   losses   and  the  like   (including\\nattorneys'  fees  and  costs)  arising  out of or  related  to                   Company's manufacture or\\ndesign of the Products, provided that                   Distributor  is not at fault in connection  with the\\nsame, and                   Distributor  agrees to  indemnify,  defend  and hold  harmless\\nCompany  from and  against  all  suits,  claims,  obligations,                   liabilities,   damages,  losses\\nand  the  like  (including  a                   attorneys'  fees  and  costs)  arising  out of or  related  to\\nDistributor's  sales,   marketing  practices  or  unauthorized                   Product  alteration  (provided\\nthat Company is not at fault in                   connection with same).\\\\n\\\\n\\n5.4      Product Liability  Insurance.  \", 'content_type': 'text', 'score': 0.5197326458229438, 'meta': {'_split_id': 35, '_split_overlap': [{'range': [0, 713], 'doc_id': 'c2216ba4078235942e8f3c0e9475c2d'}, {'range': [714, 1725], 'doc_id': '71461afd7676aa2b20a24c7f18bd7d6'}], 'processed': False, 'company': 'Company_1'}, 'id_hash_keys': ['content'], 'embedding': None, 'id': 'fd20adb05239c632c669bda66135d5c5'}>,\n",
            "               <Document: {'content': 'If any terms,  provision,  covenant,  or                   condition  of this\\nAgreement  is held by a court of competent                   jurisdiction  to  be  invalid,  void,  or\\nunenforceable,  the                   remainder  of the  provisions  shall  remain in full force and\\neffect  and  shall  in  no  way  be   affected,   impaired  or                   invalidated.\\\\n\\\\n\\n6.4      Notices.  Any  notice  or  other  communication   required  or                   permitted hereunder\\nshall be in writing and shall be delivered                   personally,   telegraphed,   telexed,  or  sent  by\\nfacsimile                   transmission or sent by certified, registered or express mail,                   postage\\nprepaid. Any such notice shall be deemed given when so                   delivered personally,\\\\n\\\\n\\nPage -12-\\\\n\\\\n                  telegraphed,  telexed or sent by facsimile transmission or, if\\nmailed, two (2) business days after the date of deposit in the                   United   States  mail,  by\\ncertified   mail  return   receipt                   requested, as follows:\\\\n\\\\n                  If to the Distributor to:\\nElectric City of Illinois L.L.C.                   8628 Oketo Avenue                   Bridgeview, IL  60455\\nFacsimile No.  (708) 598-4671                   Attn:  Jim Stumpe\\\\n\\\\n                  With a copy to:\\nThomas V.  McCauley                   200 W.  Adams, Suite 2500                   Chicago, IL  60606\\nFacsimile No.  (312) 346-9316\\\\n\\\\n                  If to Company to:                   Electric City Corp.\\n1280 Lanmeier Rd.                   ', 'content_type': 'text', 'score': 0.5195729928591346, 'meta': {'_split_id': 43, '_split_overlap': [{'range': [0, 398], 'doc_id': '703df8c107daaedf192d2123d916a75e'}, {'range': [1472, 1599], 'doc_id': '25dd3901274793b8a747d07e873c262c'}], 'processed': False, 'company': 'Company_1'}, 'id_hash_keys': ['content'], 'embedding': None, 'id': 'b6e5b8807fa94ee72c5502b91dba0fc'}>],\n",
            " 'no_ans_gap': 16.885303378105164,\n",
            " 'node_id': 'Reader',\n",
            " 'params': {'Reader': {'top_k': 1}, 'Retriever': {'top_k': 20}},\n",
            " 'query': 'Highlight the parts (if any) of this contract related to \"Document '\n",
            "          'Name\" that should be reviewed by a lawyer. Details: The name of the '\n",
            "          'contract',\n",
            " 'root_node': 'Query'}\n"
          ]
        }
      ],
      "source": [
        "from pprint import pprint\n",
        "\n",
        "pprint(prediction)"
      ]
    },
    {
      "cell_type": "code",
      "execution_count": 27,
      "metadata": {
        "id": "KWZAcMzUio-4",
        "colab": {
          "base_uri": "https://localhost:8080/"
        },
        "outputId": "d1005307-6988-4740-e790-a086e5ccad35"
      },
      "outputs": [
        {
          "output_type": "stream",
          "name": "stdout",
          "text": [
            "('Query: Highlight the parts (if any) of this contract related to \"Document '\n",
            " 'Name\" that should be reviewed by a lawyer. Details: The name of the contract')\n",
            "'Answers:'\n",
            "[   {   'answer': 'Electric City Corp.\\n'\n",
            "                  '1280 Lanmeier Rd.                   Elk Grove Village, IL  '\n",
            "                  '60007                   Attn:  Joseph Marino,\\n'\n",
            "                  'President\\\\n\\\\n                  With a copy '\n",
            "                  'to:                   Kwaitt & Ruben, '\n",
            "                  'Ltd.                   211 Waukegan\\n'\n",
            "                  'Road                   Suite '\n",
            "                  '300\\\\n\\\\n\\\\n\\\\n\\\\n\\\\n                  Northfield, '\n",
            "                  'Illinois  60093                   Attn:    Philip E.\\x0c'\n",
            "                  'Ruben, Esq.\\\\n\\\\n6.5      Entire Agreement.  This '\n",
            "                  'Agreement,  together with all exhibits attached\\n'\n",
            "                  'hereto',\n",
            "        'context': ' Electric City Corp.\\n'\n",
            "                   '1280 Lanmeier Rd.                   Elk Grove Village, IL  '\n",
            "                   '60007                   Attn:  Joseph Marino,\\n'\n",
            "                   'President\\\\n\\\\n                  With a copy '\n",
            "                   'to:                   Kwaitt & Ruben, '\n",
            "                   'Ltd.                   211 Waukegan\\n'\n",
            "                   'Road                   Suite '\n",
            "                   '300\\\\n\\\\n\\\\n\\\\n\\\\n\\\\n                  Northfield, '\n",
            "                   'Illinois  60093                   Attn:    Philip E.\\x0c'\n",
            "                   'Ruben, Esq.\\\\n\\\\n6.5      Entire Agreement.  This '\n",
            "                   'Agreement,  together with all exhibits attached\\n'\n",
            "                   'hereto'}]\n"
          ]
        }
      ],
      "source": [
        "from haystack.utils import print_answers\n",
        "\n",
        "print_answers(prediction, details=\"minimum\")  ## Choose from `minimum`, `medium` and `all`"
      ]
    },
    {
      "cell_type": "code",
      "execution_count": null,
      "metadata": {
        "id": "fvWwKIUiipB-"
      },
      "outputs": [],
      "source": []
    },
    {
      "cell_type": "code",
      "execution_count": null,
      "metadata": {
        "id": "KvCn4v_PipE1"
      },
      "outputs": [],
      "source": []
    }
  ],
  "metadata": {
    "colab": {
      "provenance": []
    },
    "kernelspec": {
      "display_name": "Python 3",
      "name": "python3"
    },
    "language_info": {
      "name": "python"
    }
  },
  "nbformat": 4,
  "nbformat_minor": 0
}