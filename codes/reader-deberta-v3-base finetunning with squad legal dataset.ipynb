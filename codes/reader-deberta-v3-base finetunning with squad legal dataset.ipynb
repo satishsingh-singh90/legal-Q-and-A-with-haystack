{
 "cells": [
  {
   "cell_type": "code",
   "execution_count": null,
   "metadata": {
    "id": "0PQDuGEfKh-j"
   },
   "outputs": [],
   "source": []
  },
  {
   "cell_type": "markdown",
   "metadata": {
    "id": "sRotWJiDLged"
   },
   "source": [
    "# **data uploadation**"
   ]
  },
  {
   "cell_type": "code",
   "execution_count": 1,
   "metadata": {
    "colab": {
     "base_uri": "https://localhost:8080/"
    },
    "id": "Vzdx4O0yKkac",
    "outputId": "495080f6-3e55-4d81-c5a0-655d5938fa8e"
   },
   "outputs": [
    {
     "name": "stdout",
     "output_type": "stream",
     "text": [
      "Cloning into 'cuad'...\n",
      "remote: Enumerating objects: 30, done.\u001b[K\n",
      "remote: Total 30 (delta 0), reused 0 (delta 0), pack-reused 30\u001b[K\n",
      "Receiving objects: 100% (30/30), 17.78 MiB | 33.96 MiB/s, done.\n",
      "Resolving deltas: 100% (10/10), done.\n"
     ]
    }
   ],
   "source": [
    "!git clone https://github.com/TheAtticusProject/cuad.git"
   ]
  },
  {
   "cell_type": "code",
   "execution_count": 2,
   "metadata": {
    "colab": {
     "base_uri": "https://localhost:8080/",
     "height": 295
    },
    "id": "9t2LQhKpKkQV",
    "outputId": "a195afb7-4996-4083-93d1-8b85db9a60d3"
   },
   "outputs": [
    {
     "name": "stdout",
     "output_type": "stream",
     "text": [
      "Collecting patool\n",
      "  Downloading patool-2.2.0-py2.py3-none-any.whl (96 kB)\n",
      "\u001b[2K     \u001b[90m━━━━━━━━━━━━━━━━━━━━━━━━━━━━━━━━━━━━━━━━\u001b[0m \u001b[32m96.0/96.0 kB\u001b[0m \u001b[31m2.0 MB/s\u001b[0m eta \u001b[36m0:00:00\u001b[0m\n",
      "\u001b[?25hInstalling collected packages: patool\n",
      "Successfully installed patool-2.2.0\n"
     ]
    },
    {
     "name": "stderr",
     "output_type": "stream",
     "text": [
      "INFO patool: Extracting /content/cuad/data.zip ...\n",
      "INFO:patool:Extracting /content/cuad/data.zip ...\n",
      "INFO patool: ... creating output directory `/content/cuad/data'.\n",
      "INFO:patool:... creating output directory `/content/cuad/data'.\n",
      "INFO patool: running /usr/bin/7z x -o/content/cuad/data -- /content/cuad/data.zip\n",
      "INFO:patool:running /usr/bin/7z x -o/content/cuad/data -- /content/cuad/data.zip\n",
      "INFO patool:     with input=''\n",
      "INFO:patool:    with input=''\n",
      "INFO patool: ... /content/cuad/data.zip extracted to `/content/cuad/data'.\n",
      "INFO:patool:... /content/cuad/data.zip extracted to `/content/cuad/data'.\n"
     ]
    },
    {
     "data": {
      "application/vnd.google.colaboratory.intrinsic+json": {
       "type": "string"
      },
      "text/plain": [
       "'/content/cuad/data'"
      ]
     },
     "execution_count": 2,
     "metadata": {},
     "output_type": "execute_result"
    }
   ],
   "source": [
    "!pip install patool\n",
    "import patoolib\n",
    "patoolib.extract_archive('/content/cuad/data.zip',outdir='/content/cuad/data')"
   ]
  },
  {
   "cell_type": "code",
   "execution_count": 3,
   "metadata": {
    "id": "ySm4nWnbKkMu"
   },
   "outputs": [],
   "source": [
    "nf=10"
   ]
  },
  {
   "cell_type": "markdown",
   "metadata": {
    "id": "Y-CnRciaM8Rx"
   },
   "source": [
    "## **#test.json**"
   ]
  },
  {
   "cell_type": "code",
   "execution_count": 4,
   "metadata": {
    "id": "ktRhuVLNWmO0"
   },
   "outputs": [],
   "source": [
    "import json\n",
    "with open('/content/cuad/data/test.json', 'r') as f:\n",
    "     d= json.load(f)"
   ]
  },
  {
   "cell_type": "code",
   "execution_count": 5,
   "metadata": {
    "colab": {
     "base_uri": "https://localhost:8080/"
    },
    "id": "DaXkTcgOKj1I",
    "outputId": "cae49937-4756-4d80-cb12-916f83834b78"
   },
   "outputs": [
    {
     "name": "stdout",
     "output_type": "stream",
     "text": [
      "New JSON file created: test.json\n"
     ]
    }
   ],
   "source": [
    "count=0\n",
    "import json\n",
    "\n",
    "# Assuming 'your_json_data' contains the JSON data\n",
    "#data = json.loads(content)\n",
    "\n",
    "# Create a new list to store modified data\n",
    "test = []\n",
    "\n",
    "# Iterate through contracts and extract first 5 questions for each contract\n",
    "for contract in d[\"data\"]:\n",
    "    if count >= nf:\n",
    "       break  # Stop processing after 100 file\n",
    "    contract_title = contract[\"title\"]\n",
    "    #contract_title = contract[\"context\"]\n",
    "    # Extract only the first 5 questions\n",
    "    contract[\"paragraphs\"] = [\n",
    "        {\n",
    "            #context = d['data'][0]['paragraphs'][0]['context']\n",
    "\n",
    "            \"qas\": paragraph[\"qas\"][:5],\n",
    "            \"context\": paragraph[\"context\"]\n",
    "        } for paragraph in contract[\"paragraphs\"]\n",
    "    ]\n",
    "\n",
    "    # Increment the count variable\n",
    "    count += 1\n",
    "    # Append the modified contract to the new_data list\n",
    "    test.append(contract)\n",
    "\n",
    "# Create a new dictionary with the modified data\n",
    "new_json_data = {\"version\": d[\"version\"], \"data\": test}\n",
    "\n",
    "# Save the new JSON data to a file\n",
    "with open(\"test.json\", \"w\") as json_file:\n",
    "    json.dump(new_json_data, json_file, indent=2)\n",
    "\n",
    "\n",
    "print(\"New JSON file created: test.json\")"
   ]
  },
  {
   "cell_type": "code",
   "execution_count": 6,
   "metadata": {
    "colab": {
     "base_uri": "https://localhost:8080/"
    },
    "id": "4jyXo_aqKjyV",
    "outputId": "86ca18b8-ebac-47b0-9556-7fe89c89989d"
   },
   "outputs": [
    {
     "name": "stdout",
     "output_type": "stream",
     "text": [
      "JSON file saved to: /content/cuad/data/test.json\n"
     ]
    }
   ],
   "source": [
    "import json\n",
    "import os\n",
    "\n",
    "# Define the directory where you want to save the JSON file\n",
    "output_dir = '/content/cuad/data'\n",
    "\n",
    "# Create the directory if it doesn't exist\n",
    "os.makedirs(output_dir, exist_ok=True)\n",
    "\n",
    "# Define the file path including the directory\n",
    "file_path = os.path.join(output_dir, \"test.json\")\n",
    "\n",
    "# Open the file and save the JSON data\n",
    "with open(file_path, \"w\") as json_file:\n",
    "    json.dump(new_json_data, json_file, indent=2)\n",
    "\n",
    "print(f\"JSON file saved to: {file_path}\")"
   ]
  },
  {
   "cell_type": "markdown",
   "metadata": {
    "id": "phMxqfyKWzLk"
   },
   "source": [
    "## **CUADv1.json**"
   ]
  },
  {
   "cell_type": "code",
   "execution_count": 7,
   "metadata": {
    "id": "cxl-ZzO8WzLl"
   },
   "outputs": [],
   "source": [
    "import json\n",
    "with open('/content/cuad/data/CUADv1.json', 'r') as f:\n",
    "     d1= json.load(f)"
   ]
  },
  {
   "cell_type": "code",
   "execution_count": 8,
   "metadata": {
    "colab": {
     "base_uri": "https://localhost:8080/"
    },
    "id": "VlMOJ0wYWzLm",
    "outputId": "4219bf67-bba4-45d7-ef20-e7ca4c111de9"
   },
   "outputs": [
    {
     "name": "stdout",
     "output_type": "stream",
     "text": [
      "New JSON file created: CUADv1.json\n"
     ]
    }
   ],
   "source": [
    "count=0\n",
    "import json\n",
    "\n",
    "# Assuming 'your_json_data' contains the JSON data\n",
    "#data = json.loads(content)\n",
    "\n",
    "# Create a new list to store modified data\n",
    "CUADv1 = []\n",
    "\n",
    "# Iterate through contracts and extract first 5 questions for each contract\n",
    "for contract in d1[\"data\"]:\n",
    "    if count >= nf:\n",
    "       break  # Stop processing after 100 file\n",
    "    contract_title = contract[\"title\"]\n",
    "    #contract_title = contract[\"context\"]\n",
    "    # Extract only the first 5 questions\n",
    "    contract[\"paragraphs\"] = [\n",
    "        {\n",
    "            #context = d['data'][0]['paragraphs'][0]['context']\n",
    "\n",
    "            \"qas\": paragraph[\"qas\"][:5],\n",
    "            \"context\": paragraph[\"context\"]\n",
    "        } for paragraph in contract[\"paragraphs\"]\n",
    "    ]\n",
    "\n",
    "    # Append the modified contract to the new_data list\n",
    "    CUADv1.append(contract)\n",
    "\n",
    "    # Increment the count variable\n",
    "    count += 1\n",
    "# Create a new dictionary with the modified data\n",
    "new_json_data = {\"version\": d1[\"version\"], \"data\": CUADv1}\n",
    "\n",
    "# Save the new JSON data to a file\n",
    "with open(\"CUADv1.json\", \"w\") as json_file:\n",
    "    json.dump(new_json_data, json_file,indent=2)\n",
    "\n",
    "\n",
    "print(\"New JSON file created: CUADv1.json\")"
   ]
  },
  {
   "cell_type": "code",
   "execution_count": 9,
   "metadata": {
    "colab": {
     "base_uri": "https://localhost:8080/"
    },
    "id": "LUmJQNRfWzLn",
    "outputId": "d4f95a17-2391-433b-b9bc-7f89b06b70e2"
   },
   "outputs": [
    {
     "name": "stdout",
     "output_type": "stream",
     "text": [
      "JSON file saved to: /content/cuad/data/CUADv1.json\n"
     ]
    }
   ],
   "source": [
    "import json\n",
    "import os\n",
    "\n",
    "# Define the directory where you want to save the JSON file\n",
    "output_dir = '/content/cuad/data'\n",
    "\n",
    "# Create the directory if it doesn't exist\n",
    "os.makedirs(output_dir, exist_ok=True)\n",
    "\n",
    "# Define the file path including the directory\n",
    "file_path = os.path.join(output_dir, \"CUADv1.json\")\n",
    "\n",
    "# Open the file and save the JSON data\n",
    "with open(file_path, \"w\") as json_file:\n",
    "    json.dump(new_json_data, json_file, indent=2)\n",
    "\n",
    "print(f\"JSON file saved to: {file_path}\")"
   ]
  },
  {
   "cell_type": "markdown",
   "metadata": {
    "id": "Jgt4BPG6W0Yk"
   },
   "source": [
    "**# train_separate_questions# **"
   ]
  },
  {
   "cell_type": "code",
   "execution_count": 10,
   "metadata": {
    "id": "V6JY9oWgW0Yl"
   },
   "outputs": [],
   "source": [
    "import json\n",
    "with open('/content/cuad/data/train_separate_questions.json', 'r') as f:\n",
    "     d2= json.load(f)"
   ]
  },
  {
   "cell_type": "code",
   "execution_count": 11,
   "metadata": {
    "colab": {
     "base_uri": "https://localhost:8080/"
    },
    "id": "kkGO9cQNW0Yl",
    "outputId": "e3c2dfbe-501c-4706-d742-3b11b1121ddb"
   },
   "outputs": [
    {
     "name": "stdout",
     "output_type": "stream",
     "text": [
      "New JSON file created: train_separate_questions.json\n"
     ]
    }
   ],
   "source": [
    "count=0\n",
    "import json\n",
    "\n",
    "# Assuming 'your_json_data' contains the JSON data\n",
    "#data = json.loads(content)\n",
    "\n",
    "# Create a new list to store modified data\n",
    "train_separate_questions = []\n",
    "\n",
    "# Iterate through contracts and extract first 5 questions for each contract\n",
    "for contract in d2[\"data\"]:\n",
    "    if count >= nf:\n",
    "       break  # Stop processing after 100 file\n",
    "    contract_title = contract[\"title\"]\n",
    "    #contract_title = contract[\"context\"]\n",
    "    # Extract only the first 5 questions\n",
    "    contract[\"paragraphs\"] = [\n",
    "        {\n",
    "            #context = d['data'][0]['paragraphs'][0]['context']\n",
    "\n",
    "            \"qas\": paragraph[\"qas\"][:5],\n",
    "            \"context\": paragraph[\"context\"]\n",
    "        } for paragraph in contract[\"paragraphs\"]\n",
    "    ]\n",
    "\n",
    "    # Append the modified contract to the new_data list\n",
    "    train_separate_questions.append(contract)\n",
    "\n",
    "    # Increment the count variable\n",
    "    count += 1\n",
    "# Create a new dictionary with the modified data\n",
    "new_json_data = {\"version\": d2[\"version\"], \"data\": train_separate_questions}\n",
    "\n",
    "# Save the new JSON data to a file\n",
    "with open(\"train_separate_questions.json\", \"w\") as json_file:\n",
    "    json.dump(new_json_data, json_file, indent=2)\n",
    "\n",
    "\n",
    "print(\"New JSON file created: train_separate_questions.json\")"
   ]
  },
  {
   "cell_type": "code",
   "execution_count": 12,
   "metadata": {
    "colab": {
     "base_uri": "https://localhost:8080/"
    },
    "id": "OQClQOZrW0Ym",
    "outputId": "392ce581-9aca-40ee-9184-4ad63c4c9409"
   },
   "outputs": [
    {
     "name": "stdout",
     "output_type": "stream",
     "text": [
      "JSON file saved to: /content/cuad/data/train_separate_questions.json\n"
     ]
    }
   ],
   "source": [
    "import json\n",
    "import os\n",
    "\n",
    "# Define the directory where you want to save the JSON file\n",
    "output_dir = '/content/cuad/data'\n",
    "\n",
    "# Create the directory if it doesn't exist\n",
    "os.makedirs(output_dir, exist_ok=True)\n",
    "\n",
    "# Define the file path including the directory\n",
    "file_path = os.path.join(output_dir, \"train_separate_questions.json\")\n",
    "\n",
    "# Open the file and save the JSON data\n",
    "with open(file_path, \"w\") as json_file:\n",
    "    json.dump(new_json_data, json_file, indent=2)\n",
    "\n",
    "print(f\"JSON file saved to: {file_path}\")"
   ]
  },
  {
   "cell_type": "code",
   "execution_count": 12,
   "metadata": {
    "id": "ZptHAnthj6wp"
   },
   "outputs": [],
   "source": []
  },
  {
   "cell_type": "markdown",
   "metadata": {
    "id": "QNL4HWh1fdRN"
   },
   "source": [
    "## **`run.sh`**"
   ]
  },
  {
   "cell_type": "code",
   "execution_count": 24,
   "metadata": {
    "colab": {
     "base_uri": "https://localhost:8080/"
    },
    "id": "cw0eT_4Qfetl",
    "outputId": "74bee0b5-a75d-44f4-a7a2-e0e3ada3ade2"
   },
   "outputs": [
    {
     "name": "stdout",
     "output_type": "stream",
     "text": [
      "/content/cuad\n",
      "/content/cuad\n",
      "2024-03-04 16:35:17.198341: E external/local_xla/xla/stream_executor/cuda/cuda_dnn.cc:9261] Unable to register cuDNN factory: Attempting to register factory for plugin cuDNN when one has already been registered\n",
      "2024-03-04 16:35:17.198416: E external/local_xla/xla/stream_executor/cuda/cuda_fft.cc:607] Unable to register cuFFT factory: Attempting to register factory for plugin cuFFT when one has already been registered\n",
      "2024-03-04 16:35:17.200332: E external/local_xla/xla/stream_executor/cuda/cuda_blas.cc:1515] Unable to register cuBLAS factory: Attempting to register factory for plugin cuBLAS when one has already been registered\n",
      "2024-03-04 16:35:18.620584: W tensorflow/compiler/tf2tensorrt/utils/py_utils.cc:38] TF-TRT Warning: Could not find TensorRT\n",
      "03/04/2024 16:35:20 - WARNING - __main__ -   Process rank: -1, device: cuda, n_gpu: 1, distributed training: False, 16-bits training: False\n",
      "Traceback (most recent call last):\n",
      "  File \"/usr/local/lib/python3.10/dist-packages/huggingface_hub/utils/_errors.py\", line 286, in hf_raise_for_status\n",
      "    response.raise_for_status()\n",
      "  File \"/usr/local/lib/python3.10/dist-packages/requests/models.py\", line 1021, in raise_for_status\n",
      "    raise HTTPError(http_error_msg, response=self)\n",
      "requests.exceptions.HTTPError: 401 Client Error: Unauthorized for url: https://huggingface.co/deberta-v3-small/resolve/main/config.json\n",
      "\n",
      "The above exception was the direct cause of the following exception:\n",
      "\n",
      "Traceback (most recent call last):\n",
      "  File \"/usr/local/lib/python3.10/dist-packages/transformers/utils/hub.py\", line 398, in cached_file\n",
      "    resolved_file = hf_hub_download(\n",
      "  File \"/usr/local/lib/python3.10/dist-packages/huggingface_hub/utils/_validators.py\", line 118, in _inner_fn\n",
      "    return fn(*args, **kwargs)\n",
      "  File \"/usr/local/lib/python3.10/dist-packages/huggingface_hub/file_download.py\", line 1368, in hf_hub_download\n",
      "    raise head_call_error\n",
      "  File \"/usr/local/lib/python3.10/dist-packages/huggingface_hub/file_download.py\", line 1238, in hf_hub_download\n",
      "    metadata = get_hf_file_metadata(\n",
      "  File \"/usr/local/lib/python3.10/dist-packages/huggingface_hub/utils/_validators.py\", line 118, in _inner_fn\n",
      "    return fn(*args, **kwargs)\n",
      "  File \"/usr/local/lib/python3.10/dist-packages/huggingface_hub/file_download.py\", line 1631, in get_hf_file_metadata\n",
      "    r = _request_wrapper(\n",
      "  File \"/usr/local/lib/python3.10/dist-packages/huggingface_hub/file_download.py\", line 385, in _request_wrapper\n",
      "    response = _request_wrapper(\n",
      "  File \"/usr/local/lib/python3.10/dist-packages/huggingface_hub/file_download.py\", line 409, in _request_wrapper\n",
      "    hf_raise_for_status(response)\n",
      "  File \"/usr/local/lib/python3.10/dist-packages/huggingface_hub/utils/_errors.py\", line 323, in hf_raise_for_status\n",
      "    raise RepositoryNotFoundError(message, response) from e\n",
      "huggingface_hub.utils._errors.RepositoryNotFoundError: 401 Client Error. (Request ID: Root=1-65e5f848-4033f22a40825dd3047a9df4;27ec072b-1785-464d-8a71-ee1efd4fe01b)\n",
      "\n",
      "Repository Not Found for url: https://huggingface.co/deberta-v3-small/resolve/main/config.json.\n",
      "Please make sure you specified the correct `repo_id` and `repo_type`.\n",
      "If you are trying to access a private or gated repo, make sure you are authenticated.\n",
      "Invalid username or password.\n",
      "\n",
      "The above exception was the direct cause of the following exception:\n",
      "\n",
      "Traceback (most recent call last):\n",
      "  File \"/content/cuad/train.py\", line 880, in <module>\n",
      "    main()\n",
      "  File \"/content/cuad/train.py\", line 781, in main\n",
      "    config = AutoConfig.from_pretrained(\n",
      "  File \"/usr/local/lib/python3.10/dist-packages/transformers/models/auto/configuration_auto.py\", line 1111, in from_pretrained\n",
      "    config_dict, unused_kwargs = PretrainedConfig.get_config_dict(pretrained_model_name_or_path, **kwargs)\n",
      "  File \"/usr/local/lib/python3.10/dist-packages/transformers/configuration_utils.py\", line 633, in get_config_dict\n",
      "    config_dict, kwargs = cls._get_config_dict(pretrained_model_name_or_path, **kwargs)\n",
      "  File \"/usr/local/lib/python3.10/dist-packages/transformers/configuration_utils.py\", line 688, in _get_config_dict\n",
      "    resolved_config_file = cached_file(\n",
      "  File \"/usr/local/lib/python3.10/dist-packages/transformers/utils/hub.py\", line 421, in cached_file\n",
      "    raise EnvironmentError(\n",
      "OSError: deberta-v3-small is not a local folder and is not a valid model identifier listed on 'https://huggingface.co/models'\n",
      "If this is a private repository, make sure to pass a token having permission to this repo either by logging in with `huggingface-cli login` or by passing `token=<your_token>`\n"
     ]
    }
   ],
   "source": [
    "!pwd\n",
    "%cd /content/cuad\n",
    "!bash /content/cuad/run.sh"
   ]
  },
  {
   "cell_type": "code",
   "execution_count": null,
   "metadata": {
    "id": "-s9ssYA9Deek"
   },
   "outputs": [],
   "source": []
  },
  {
   "cell_type": "code",
   "execution_count": null,
   "metadata": {
    "id": "UaGP8h6DDeoh"
   },
   "outputs": [],
   "source": []
  },
  {
   "cell_type": "code",
   "execution_count": 22,
   "metadata": {
    "colab": {
     "base_uri": "https://localhost:8080/"
    },
    "id": "BFmyp7sNE4sJ",
    "outputId": "efcc2b6b-eb00-42a4-9a31-46396c6b8271"
   },
   "outputs": [
    {
     "name": "stdout",
     "output_type": "stream",
     "text": [
      "Mounted at /content/drive\n"
     ]
    }
   ],
   "source": [
    "from google.colab import drive\n",
    "drive.mount('/content/drive')"
   ]
  },
  {
   "cell_type": "code",
   "execution_count": null,
   "metadata": {
    "id": "cDmMFL-YTEAq"
   },
   "outputs": [],
   "source": []
  },
  {
   "cell_type": "markdown",
   "metadata": {
    "id": "ys9PVx39TF18"
   },
   "source": [
    "# **#model saveing on drive**"
   ]
  },
  {
   "cell_type": "code",
   "execution_count": 14,
   "metadata": {
    "colab": {
     "base_uri": "https://localhost:8080/",
     "height": 35
    },
    "id": "8aqKtuVHDerx",
    "outputId": "8e48108a-8df1-42f7-dcfc-48b9dabe46e7"
   },
   "outputs": [
    {
     "data": {
      "application/vnd.google.colaboratory.intrinsic+json": {
       "type": "string"
      },
      "text/plain": [
       "'/content/cuad/train_models.zip'"
      ]
     },
     "execution_count": 14,
     "metadata": {},
     "output_type": "execute_result"
    }
   ],
   "source": [
    "import shutil\n",
    "import os\n",
    "from google.colab import drive\n",
    "drive.mount('/content/drive')\n",
    "\n",
    "folder_path = '/content/cuad/train_models'\n",
    "\n",
    "# Zip the folder\n",
    "shutil.make_archive('/content/cuad/train_models', 'zip', folder_path)\n",
    "\n"
   ]
  },
  {
   "cell_type": "code",
   "execution_count": 20,
   "metadata": {
    "colab": {
     "base_uri": "https://localhost:8080/",
     "height": 35
    },
    "id": "zDKEKMAcSClG",
    "outputId": "47a11bf0-197f-4c43-c90a-30665299be33"
   },
   "outputs": [
    {
     "data": {
      "application/vnd.google.colaboratory.intrinsic+json": {
       "type": "string"
      },
      "text/plain": [
       "'/content/cuad/runs.zip'"
      ]
     },
     "execution_count": 20,
     "metadata": {},
     "output_type": "execute_result"
    }
   ],
   "source": [
    "# Define the folder you want to download\n",
    "folder_path = '/content/cuad/train_models'\n",
    "\n",
    "# Zip the folder\n",
    "shutil.make_archive('/content/cuad/train_models.zip', 'zip', folder_path)"
   ]
  },
  {
   "cell_type": "code",
   "execution_count": 23,
   "metadata": {
    "id": "5Rd4tAXEKsyh"
   },
   "outputs": [],
   "source": [
    "# Mount Google Drive\n",
    "from google.colab import drive\n",
    "drive.mount('/content/drive')\n",
    "# Path to your zip file in Colab (change it according to your file)\n",
    "colab_zip_path = '/content/cuad/runs.zip'\n",
    "\n",
    "# Path to your destination folder in Google Drive\n",
    "drive_folder_path = '/content/drive/MyDrive/robert large'\n",
    "\n",
    "# Copy the zip file to Google Drive\n",
    "shutil.copy(colab_zip_path, drive_folder_path)\n",
    "\n",
    "# Unmount Google Drive (optional)\n",
    "drive.flush_and_unmount()"
   ]
  },
  {
   "cell_type": "code",
   "execution_count": null,
   "metadata": {
    "id": "EFYU5rISR7sr"
   },
   "outputs": [],
   "source": [
    "# Mount Google Drive\n",
    "\n",
    "# Path to your zip file in Colab (change it according to your file)\n",
    "colab_zip_path = '/content/cuad/train_models.zip'\n",
    "\n",
    "# Path to your destination folder in Google Drive\n",
    "drive_folder_path = '/content/drive/MyDrive/robert large'\n",
    "\n",
    "# Copy the zip file to Google Drive\n",
    "shutil.copy(colab_zip_path, drive_folder_path)\n",
    "\n",
    "# Unmount Google Drive (optional)\n",
    "drive.flush_and_unmount()"
   ]
  },
  {
   "cell_type": "markdown",
   "metadata": {
    "id": "0s3O6TL9GggK"
   },
   "source": [
    "# **fetching roberta**"
   ]
  },
  {
   "cell_type": "code",
   "execution_count": null,
   "metadata": {
    "id": "F67c4DFsGnBi"
   },
   "outputs": [],
   "source": [
    "import torch\n",
    "from transformers import RobertaTokenizer, RobertaForCausalLM\n",
    "\n",
    "# Load pre-trained RoBERTa model and tokenizer\n",
    "model_name = '/content/cuad/train_models/roberta-base'\n",
    "tokenizer = RobertaTokenizer.from_pretrained(model_name)\n",
    "model = RobertaForCausalLM.from_pretrained(model_name)\n",
    "\n",
    "# Generate text\n",
    "input_text = \"Highlight the parts (if any) of this contract related to \\\"Document Name\\\" that should be reviewed by a lawyer. Details: The name of the contract\"\n",
    "input_ids = tokenizer.encode(input_text, return_tensors=\"pt\")\n",
    "\n",
    "# Generate text using the model\n",
    "output = model.generate(input_ids, max_length=100, num_return_sequences=1)\n",
    "\n",
    "# Get the generated token ids\n",
    "generated_token_ids = output[0]\n",
    "\n",
    "# Decode the token ids into text\n",
    "generated_text = tokenizer.decode(generated_token_ids, skip_special_tokens=True,is_decoder=True)\n",
    "\n",
    "# Print the generated text\n",
    "#print(\"your ouput is in   ------generated_text \")\n",
    "\n",
    "print(generated_text)\n"
   ]
  },
  {
   "cell_type": "code",
   "execution_count": null,
   "metadata": {
    "id": "IhwbWEQYGm7r"
   },
   "outputs": [],
   "source": []
  },
  {
   "cell_type": "code",
   "execution_count": null,
   "metadata": {
    "id": "vcegsXN4Gm3n"
   },
   "outputs": [],
   "source": []
  },
  {
   "cell_type": "code",
   "execution_count": null,
   "metadata": {
    "id": "_RlIY9ebGmrx"
   },
   "outputs": [],
   "source": []
  },
  {
   "cell_type": "code",
   "execution_count": null,
   "metadata": {
    "id": "8BrH7d2fGmnx"
   },
   "outputs": [],
   "source": []
  }
 ],
 "metadata": {
  "accelerator": "GPU",
  "colab": {
   "collapsed_sections": [
    "Y-CnRciaM8Rx",
    "phMxqfyKWzLk"
   ],
   "gpuType": "T4",
   "provenance": []
  },
  "kernelspec": {
   "display_name": "Python 3 (ipykernel)",
   "language": "python",
   "name": "python3"
  },
  "language_info": {
   "codemirror_mode": {
    "name": "ipython",
    "version": 3
   },
   "file_extension": ".py",
   "mimetype": "text/x-python",
   "name": "python",
   "nbconvert_exporter": "python",
   "pygments_lexer": "ipython3",
   "version": "3.12.2"
  }
 },
 "nbformat": 4,
 "nbformat_minor": 4
}
